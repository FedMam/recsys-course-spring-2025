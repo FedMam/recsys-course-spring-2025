{
 "cells": [
  {
   "cell_type": "code",
   "execution_count": 1,
   "metadata": {
    "id": "uE2wp87S6fo6",
    "scrolled": true
   },
   "outputs": [
    {
     "name": "stdout",
     "output_type": "stream",
     "text": [
      "Requirement already satisfied: pytorch_lightning in /Users/sergey.malyshev/.pyenv/versions/3.8.16/lib/python3.8/site-packages (2.4.0)\n",
      "Requirement already satisfied: torchmetrics>=0.7.0 in /Users/sergey.malyshev/.pyenv/versions/3.8.16/lib/python3.8/site-packages (from pytorch_lightning) (1.5.2)\n",
      "Requirement already satisfied: typing-extensions>=4.4.0 in /Users/sergey.malyshev/.pyenv/versions/3.8.16/lib/python3.8/site-packages (from pytorch_lightning) (4.12.2)\n",
      "Requirement already satisfied: PyYAML>=5.4 in /Users/sergey.malyshev/.pyenv/versions/3.8.16/lib/python3.8/site-packages (from pytorch_lightning) (6.0.2)\n",
      "Requirement already satisfied: torch>=2.1.0 in /Users/sergey.malyshev/.pyenv/versions/3.8.16/lib/python3.8/site-packages (from pytorch_lightning) (2.4.1)\n",
      "Requirement already satisfied: tqdm>=4.57.0 in /Users/sergey.malyshev/.pyenv/versions/3.8.16/lib/python3.8/site-packages (from pytorch_lightning) (4.67.1)\n",
      "Requirement already satisfied: packaging>=20.0 in /Users/sergey.malyshev/.pyenv/versions/3.8.16/lib/python3.8/site-packages (from pytorch_lightning) (24.2)\n",
      "Requirement already satisfied: lightning-utilities>=0.10.0 in /Users/sergey.malyshev/.pyenv/versions/3.8.16/lib/python3.8/site-packages (from pytorch_lightning) (0.11.9)\n",
      "Requirement already satisfied: fsspec[http]>=2022.5.0 in /Users/sergey.malyshev/.pyenv/versions/3.8.16/lib/python3.8/site-packages (from pytorch_lightning) (2024.10.0)\n",
      "Requirement already satisfied: aiohttp!=4.0.0a0,!=4.0.0a1 in /Users/sergey.malyshev/.pyenv/versions/3.8.16/lib/python3.8/site-packages (from fsspec[http]>=2022.5.0->pytorch_lightning) (3.10.11)\n",
      "Requirement already satisfied: setuptools in /Users/sergey.malyshev/.pyenv/versions/3.8.16/lib/python3.8/site-packages (from lightning-utilities>=0.10.0->pytorch_lightning) (56.0.0)\n",
      "Requirement already satisfied: jinja2 in /Users/sergey.malyshev/.pyenv/versions/3.8.16/lib/python3.8/site-packages (from torch>=2.1.0->pytorch_lightning) (3.1.4)\n",
      "Requirement already satisfied: sympy in /Users/sergey.malyshev/.pyenv/versions/3.8.16/lib/python3.8/site-packages (from torch>=2.1.0->pytorch_lightning) (1.13.3)\n",
      "Requirement already satisfied: filelock in /Users/sergey.malyshev/.pyenv/versions/3.8.16/lib/python3.8/site-packages (from torch>=2.1.0->pytorch_lightning) (3.16.1)\n",
      "Requirement already satisfied: networkx in /Users/sergey.malyshev/.pyenv/versions/3.8.16/lib/python3.8/site-packages (from torch>=2.1.0->pytorch_lightning) (3.1)\n",
      "Requirement already satisfied: numpy>1.20.0 in /Users/sergey.malyshev/.pyenv/versions/3.8.16/lib/python3.8/site-packages (from torchmetrics>=0.7.0->pytorch_lightning) (1.24.4)\n",
      "Requirement already satisfied: attrs>=17.3.0 in /Users/sergey.malyshev/.pyenv/versions/3.8.16/lib/python3.8/site-packages (from aiohttp!=4.0.0a0,!=4.0.0a1->fsspec[http]>=2022.5.0->pytorch_lightning) (24.2.0)\n",
      "Requirement already satisfied: async-timeout<6.0,>=4.0 in /Users/sergey.malyshev/.pyenv/versions/3.8.16/lib/python3.8/site-packages (from aiohttp!=4.0.0a0,!=4.0.0a1->fsspec[http]>=2022.5.0->pytorch_lightning) (5.0.1)\n",
      "Requirement already satisfied: aiohappyeyeballs>=2.3.0 in /Users/sergey.malyshev/.pyenv/versions/3.8.16/lib/python3.8/site-packages (from aiohttp!=4.0.0a0,!=4.0.0a1->fsspec[http]>=2022.5.0->pytorch_lightning) (2.4.4)\n",
      "Requirement already satisfied: multidict<7.0,>=4.5 in /Users/sergey.malyshev/.pyenv/versions/3.8.16/lib/python3.8/site-packages (from aiohttp!=4.0.0a0,!=4.0.0a1->fsspec[http]>=2022.5.0->pytorch_lightning) (6.1.0)\n",
      "Requirement already satisfied: aiosignal>=1.1.2 in /Users/sergey.malyshev/.pyenv/versions/3.8.16/lib/python3.8/site-packages (from aiohttp!=4.0.0a0,!=4.0.0a1->fsspec[http]>=2022.5.0->pytorch_lightning) (1.3.1)\n",
      "Requirement already satisfied: frozenlist>=1.1.1 in /Users/sergey.malyshev/.pyenv/versions/3.8.16/lib/python3.8/site-packages (from aiohttp!=4.0.0a0,!=4.0.0a1->fsspec[http]>=2022.5.0->pytorch_lightning) (1.5.0)\n",
      "Requirement already satisfied: yarl<2.0,>=1.12.0 in /Users/sergey.malyshev/.pyenv/versions/3.8.16/lib/python3.8/site-packages (from aiohttp!=4.0.0a0,!=4.0.0a1->fsspec[http]>=2022.5.0->pytorch_lightning) (1.15.2)\n",
      "Requirement already satisfied: MarkupSafe>=2.0 in /Users/sergey.malyshev/.pyenv/versions/3.8.16/lib/python3.8/site-packages (from jinja2->torch>=2.1.0->pytorch_lightning) (2.1.5)\n",
      "Requirement already satisfied: mpmath<1.4,>=1.1.0 in /Users/sergey.malyshev/.pyenv/versions/3.8.16/lib/python3.8/site-packages (from sympy->torch>=2.1.0->pytorch_lightning) (1.3.0)\n",
      "Requirement already satisfied: propcache>=0.2.0 in /Users/sergey.malyshev/.pyenv/versions/3.8.16/lib/python3.8/site-packages (from yarl<2.0,>=1.12.0->aiohttp!=4.0.0a0,!=4.0.0a1->fsspec[http]>=2022.5.0->pytorch_lightning) (0.2.0)\n",
      "Requirement already satisfied: idna>=2.0 in /Users/sergey.malyshev/.pyenv/versions/3.8.16/lib/python3.8/site-packages (from yarl<2.0,>=1.12.0->aiohttp!=4.0.0a0,!=4.0.0a1->fsspec[http]>=2022.5.0->pytorch_lightning) (3.10)\n",
      "\u001b[33mWARNING: You are using pip version 22.0.4; however, version 25.0.1 is available.\n",
      "You should consider upgrading via the '/Users/sergey.malyshev/.pyenv/versions/3.8.16/bin/python3.8 -m pip install --upgrade pip' command.\u001b[0m\u001b[33m\n",
      "\u001b[0mRequirement already satisfied: tensorboardX in /Users/sergey.malyshev/.pyenv/versions/3.8.16/lib/python3.8/site-packages (2.6.2.2)\n",
      "Requirement already satisfied: numpy in /Users/sergey.malyshev/.pyenv/versions/3.8.16/lib/python3.8/site-packages (from tensorboardX) (1.24.4)\n",
      "Requirement already satisfied: packaging in /Users/sergey.malyshev/.pyenv/versions/3.8.16/lib/python3.8/site-packages (from tensorboardX) (24.2)\n",
      "Requirement already satisfied: protobuf>=3.20 in /Users/sergey.malyshev/.pyenv/versions/3.8.16/lib/python3.8/site-packages (from tensorboardX) (5.29.3)\n",
      "\u001b[33mWARNING: You are using pip version 22.0.4; however, version 25.0.1 is available.\n",
      "You should consider upgrading via the '/Users/sergey.malyshev/.pyenv/versions/3.8.16/bin/python3.8 -m pip install --upgrade pip' command.\u001b[0m\u001b[33m\n",
      "\u001b[0mRequirement already satisfied: torch_geometric in /Users/sergey.malyshev/.pyenv/versions/3.8.16/lib/python3.8/site-packages (2.6.1)\n",
      "Requirement already satisfied: jinja2 in /Users/sergey.malyshev/.pyenv/versions/3.8.16/lib/python3.8/site-packages (from torch_geometric) (3.1.4)\n",
      "Requirement already satisfied: tqdm in /Users/sergey.malyshev/.pyenv/versions/3.8.16/lib/python3.8/site-packages (from torch_geometric) (4.67.1)\n",
      "Requirement already satisfied: aiohttp in /Users/sergey.malyshev/.pyenv/versions/3.8.16/lib/python3.8/site-packages (from torch_geometric) (3.10.11)\n",
      "Requirement already satisfied: requests in /Users/sergey.malyshev/.pyenv/versions/3.8.16/lib/python3.8/site-packages (from torch_geometric) (2.32.3)\n",
      "Requirement already satisfied: fsspec in /Users/sergey.malyshev/.pyenv/versions/3.8.16/lib/python3.8/site-packages (from torch_geometric) (2024.10.0)\n",
      "Requirement already satisfied: psutil>=5.8.0 in /Users/sergey.malyshev/.pyenv/versions/3.8.16/lib/python3.8/site-packages (from torch_geometric) (6.1.0)\n",
      "Requirement already satisfied: numpy in /Users/sergey.malyshev/.pyenv/versions/3.8.16/lib/python3.8/site-packages (from torch_geometric) (1.24.4)\n",
      "Requirement already satisfied: pyparsing in /Users/sergey.malyshev/.pyenv/versions/3.8.16/lib/python3.8/site-packages (from torch_geometric) (3.1.4)\n",
      "Requirement already satisfied: async-timeout<6.0,>=4.0 in /Users/sergey.malyshev/.pyenv/versions/3.8.16/lib/python3.8/site-packages (from aiohttp->torch_geometric) (5.0.1)\n",
      "Requirement already satisfied: aiosignal>=1.1.2 in /Users/sergey.malyshev/.pyenv/versions/3.8.16/lib/python3.8/site-packages (from aiohttp->torch_geometric) (1.3.1)\n",
      "Requirement already satisfied: attrs>=17.3.0 in /Users/sergey.malyshev/.pyenv/versions/3.8.16/lib/python3.8/site-packages (from aiohttp->torch_geometric) (24.2.0)\n",
      "Requirement already satisfied: frozenlist>=1.1.1 in /Users/sergey.malyshev/.pyenv/versions/3.8.16/lib/python3.8/site-packages (from aiohttp->torch_geometric) (1.5.0)\n",
      "Requirement already satisfied: aiohappyeyeballs>=2.3.0 in /Users/sergey.malyshev/.pyenv/versions/3.8.16/lib/python3.8/site-packages (from aiohttp->torch_geometric) (2.4.4)\n",
      "Requirement already satisfied: multidict<7.0,>=4.5 in /Users/sergey.malyshev/.pyenv/versions/3.8.16/lib/python3.8/site-packages (from aiohttp->torch_geometric) (6.1.0)\n",
      "Requirement already satisfied: yarl<2.0,>=1.12.0 in /Users/sergey.malyshev/.pyenv/versions/3.8.16/lib/python3.8/site-packages (from aiohttp->torch_geometric) (1.15.2)\n",
      "Requirement already satisfied: MarkupSafe>=2.0 in /Users/sergey.malyshev/.pyenv/versions/3.8.16/lib/python3.8/site-packages (from jinja2->torch_geometric) (2.1.5)\n",
      "Requirement already satisfied: charset-normalizer<4,>=2 in /Users/sergey.malyshev/.pyenv/versions/3.8.16/lib/python3.8/site-packages (from requests->torch_geometric) (3.4.0)\n",
      "Requirement already satisfied: idna<4,>=2.5 in /Users/sergey.malyshev/.pyenv/versions/3.8.16/lib/python3.8/site-packages (from requests->torch_geometric) (3.10)\n",
      "Requirement already satisfied: certifi>=2017.4.17 in /Users/sergey.malyshev/.pyenv/versions/3.8.16/lib/python3.8/site-packages (from requests->torch_geometric) (2024.8.30)\n",
      "Requirement already satisfied: urllib3<3,>=1.21.1 in /Users/sergey.malyshev/.pyenv/versions/3.8.16/lib/python3.8/site-packages (from requests->torch_geometric) (2.2.3)\n",
      "Requirement already satisfied: typing-extensions>=4.1.0 in /Users/sergey.malyshev/.pyenv/versions/3.8.16/lib/python3.8/site-packages (from multidict<7.0,>=4.5->aiohttp->torch_geometric) (4.12.2)\n",
      "Requirement already satisfied: propcache>=0.2.0 in /Users/sergey.malyshev/.pyenv/versions/3.8.16/lib/python3.8/site-packages (from yarl<2.0,>=1.12.0->aiohttp->torch_geometric) (0.2.0)\n",
      "\u001b[33mWARNING: You are using pip version 22.0.4; however, version 25.0.1 is available.\n",
      "You should consider upgrading via the '/Users/sergey.malyshev/.pyenv/versions/3.8.16/bin/python3.8 -m pip install --upgrade pip' command.\u001b[0m\u001b[33m\n",
      "\u001b[0m"
     ]
    }
   ],
   "source": [
    "!pip install pytorch_lightning\n",
    "# !pip install faiss-gpu\n",
    "!pip install tensorboardX\n",
    "!pip install torch_geometric"
   ]
  },
  {
   "cell_type": "code",
   "execution_count": 1,
   "metadata": {
    "id": "Qjl5qmlI9xsF"
   },
   "outputs": [],
   "source": [
    "from collections import namedtuple\n",
    "\n",
    "import pandas as pd\n",
    "import numpy as np\n",
    "\n",
    "import torch\n",
    "import torch.nn as nn\n",
    "import torch.nn.functional as F\n",
    "import torch.utils.data as td\n",
    "\n",
    "import pytorch_lightning as pl\n",
    "\n",
    "import tqdm\n",
    "import json\n",
    "import sklearn.metrics as sm\n",
    "\n",
    "import tensorboardX as tb\n",
    "# import tensorflow as tf\n",
    "import datetime, os\n",
    "\n",
    "import matplotlib.pyplot as plt\n",
    "import seaborn as sns\n",
    "import torch_geometric.data as pyg_data\n",
    "import torch_geometric.utils as pyg_utils\n",
    "import torch_geometric.nn as pyg_nn\n",
    "import seaborn as sns\n",
    "import faiss\n",
    "import shutil\n",
    "\n",
    "from sklearn.model_selection import train_test_split\n",
    "\n",
    "np.random.seed(31337)"
   ]
  },
  {
   "cell_type": "markdown",
   "metadata": {
    "id": "0VbHYv0EHaXA"
   },
   "source": [
    "# Нейросетевая коллаборативная фильтрация с использованием графовой модели"
   ]
  },
  {
   "cell_type": "markdown",
   "metadata": {
    "id": "tJG9cwvmIb0R"
   },
   "source": [
    "**Кратко о LightGCN**\n",
    "\n",
    "В рамках семинара мы будем использовать модель LightGCN. Данная модель является следующим этапом развития модели NGCF, которая была одной из первых проб пера в прикручивании графовых моделей к рекомендательным системам. NGCF страдала от большого количества избыточных параметров и от тяжелого инференса. Авторы LightGCN, придерживаясь парадигмы *бритвы Оккама* прошлись по архитектуре NGCF и вырезали все лишнее, оставив только важные компоненты. В итоге модель избавилась от всех параметров кроме таблицы эмбеддингов, формулы также значительно упростились.\n",
    "\n",
    "**Артитектура LightGCN**\n",
    "\n",
    "Как ранее упомяналось, среди параметров модели присутствует только таблица эмбеддингов (таблица пользователей и таблица айтемов). Вся специфика LightGCN - в том, как осуществляется ее инференс.\n",
    "\n",
    "В LightGCN есть понятие слоя, который, в отличие от классических нейросетей прямого распространения не имеет параметров. Слой LightGCN выглядит следующим образом,\n",
    "\n",
    "$$e_i (k+1) = \\sum_{ j \\in N(i) }{ \\frac{1}{\\sqrt(\\deg(i) * \\deg(j)) } * e_j(k) },$$\n",
    "\n",
    "где $i$ - идентификатор узла, $(k)$ - номер слоя, $N(i)$ - соседи узла i, $e_i(k)$ - k-й слой в узле i. При этом, слой $e(0)$ является \"сырым\" эмбеддингом из таблицы эмбеддингов. В то время как для расчета \"финальных\" эмбеддингов используется следующая формула.\n",
    "\n",
    "$$e_i = \\sum_{k=0}^{K}{\\alpha * e_i(k)}$$\n",
    "\n",
    "Для инференса модели используется скалярное произведение \"финальных\" эмбеддингов пользователя и айтема, то есть:\n",
    "\n",
    "$$\\hat{y} = (e_u, e_i)$$\n",
    "\n",
    "Архитектура LightGCN представлена на рисунке ниже.\n"
   ]
  },
  {
   "cell_type": "markdown",
   "metadata": {},
   "source": [
    "![image.png](data:image/png;base64,iVBORw0KGgoAAAANSUhEUgAAAmYAAAGkCAYAAACb5OmoAAABgGlDQ1BJQ0MgUHJvZmlsZQAAKJFjYGCqSCwoyGFhYGDIzSspCnJ3UoiIjFJgv8PAzcDDIMRgxSCemFxc4BgQ4MOAE3y7xsAIoi/rgsxqOqd2d+pGwehjat+yq+1cc3DrAwPulNTiZAYGRg4gOyWlODkXyAbp0UsuKCoBsucA2brlJQUg9hkgW6QI6EAg+wGInQ5hfwGxk8BsJg6wmpAgZyBbBsgWSIKwdUDsdAjbBsROzkhMAbJB/tKBuAEMuIJdFAzNDXx1HQk4nFSQm1MKswMUWjypeaHBQFoIiGUYghlcGBQYDBnMGQwYfBl0GYCWl6RWlIAUO+cXVBZlpmeUKDgCQzdVwTk/t6C0JLVIR8EzL1lPR8HIwNAApA4UbxDjPweBbWAUO48Qy5rMwGDxhoGBuQohlrKcgWGLPQODeDBCTH020EnvGRh2hBckFiXCHc/4jYUQvzjN2AjC5nFiYGC99///ZzUGBvZJDAx/J/7//3vR//9/FwPtv8PAcCAHALbUa30s2MP4AAAAVmVYSWZNTQAqAAAACAABh2kABAAAAAEAAAAaAAAAAAADkoYABwAAABIAAABEoAIABAAAAAEAAAJmoAMABAAAAAEAAAGkAAAAAEFTQ0lJAAAAU2NyZWVuc2hvdLeiIkkAAAHWaVRYdFhNTDpjb20uYWRvYmUueG1wAAAAAAA8eDp4bXBtZXRhIHhtbG5zOng9ImFkb2JlOm5zOm1ldGEvIiB4OnhtcHRrPSJYTVAgQ29yZSA2LjAuMCI+CiAgIDxyZGY6UkRGIHhtbG5zOnJkZj0iaHR0cDovL3d3dy53My5vcmcvMTk5OS8wMi8yMi1yZGYtc3ludGF4LW5zIyI+CiAgICAgIDxyZGY6RGVzY3JpcHRpb24gcmRmOmFib3V0PSIiCiAgICAgICAgICAgIHhtbG5zOmV4aWY9Imh0dHA6Ly9ucy5hZG9iZS5jb20vZXhpZi8xLjAvIj4KICAgICAgICAgPGV4aWY6UGl4ZWxZRGltZW5zaW9uPjQyMDwvZXhpZjpQaXhlbFlEaW1lbnNpb24+CiAgICAgICAgIDxleGlmOlBpeGVsWERpbWVuc2lvbj42MTQ8L2V4aWY6UGl4ZWxYRGltZW5zaW9uPgogICAgICAgICA8ZXhpZjpVc2VyQ29tbWVudD5TY3JlZW5zaG90PC9leGlmOlVzZXJDb21tZW50PgogICAgICA8L3JkZjpEZXNjcmlwdGlvbj4KICAgPC9yZGY6UkRGPgo8L3g6eG1wbWV0YT4K0t2YzAAAQABJREFUeAHsXQd8VEUT/6f33hNII4GEloTeCYiAgFQFBOkIglJUFFH5EFAEe6c3EUSlKkhRBOkQWqgBQhJCSA/pvX27e3mXS3Lp7RJm+OVu39bZ/z7uzZudnVHLZwQiQoAQIAQIAUKAECAECIF6R0C93jkgBggBQoAQIAQIAUKAECAEBAIkmNGNQAgQAoQAIUAIEAKEgIogQIKZiiwEsUEIEAKEACFACBAChAAJZnQPEAKEACFACBAChAAhoCIIkGCmIgtBbBAChAAhQAgQAoQAIUCCGd0DhAAhQAgQAoQAIUAIqAgCJJipyEIQG4QAIUAIEAKEACFACJBgRvcAIUAIEAKEACFACBACKoIACWYqshDEBiFACBAChAAhQAgQAiSY0T1ACBAChAAhQAgQAoSAiiBAgpmKLASxQQgQAoQAIUAIEAKEAAlmdA8QAoQAIUAIEAKEACGgIgiQYKYiC0FsEAKEACFACBAChAAhQIIZ3QOEACFACBAChAAhQAioCAIkmKnIQhAbhAAhQAgQAoQAIUAIkGBG9wAhQAgQAoQAIUAIEAIqggAJZiqyEMQGIUAIEAKEACFACBACmgQBIUAIEAL1hUBmZiZu3byJiPAIwUKTpk3QslUraGlp1RdLNC4hQAgQAvWKAAlm9Qo/DU4IPJ0InDp5Emt++BEXL15ETk5OERC0mVDWs3dvzJ7zOtq1a1ekjC4IAUKAEGjsCKjlM2rsk6T5EQKEgGogEBoailmvzMDt27dhZ2CEYXbN0M7ECo76RuA/REGpibicEI394Q8Ql5GGjh06Ys2G9TC3MFeNCRAXhAAhQAjUMgIkmNUywNQ9IUAIyBDgQtnoESORnZSCt5u3x/O2rlBXU1MKT1ZeLvY8vo8vAq/Cys4Wu/fvb1DC2dUrV/HBe4vw4dKl6Ni5M9JS03DlymW079ABenp6SudcXmZN9FHeGFROCBAC9Y8AGf/X/xoQB4RAo0eAC2UvDh+B6OhoDLR2Epqy0oQyDoa2ugbGNvVAVzNbPHz4EC8MH44ncU+qjFNERARaNHODS1NH8efh3hxDBw/BiX//rXKfZTWMjY3B7Vu3ERUVJapt2rABE8aNxx9795fVTF6W8CRBaBXlGSxR2T4U21KaECAEGg4CJJg1nLUiTgmBBovAK5OnICc5Fc/aOmNH6B388MC/3LksvXMe/0Q9xIgmzRH9OBxzZs8ut01pFeLj45GVlYVevr2x+MMlGDd+HB4EPcC0KVOZJutKac1qLL9P374Y9/J4dOnWpUJ9rl79AwYPGIjY2Fh5/cr2IW9ICUKAEGhQCJDxf4NaLmKWEGh4CPzz99+4d/8+vvTyxUAmmP1P6xx+YFuUnF5r5qV0Qlwo+zU0ALOaeWOOmzeaG5lh5dmzuHXjJlq1aa20TUUy27b1wtRp00RVL28fzJ8zB7/t/FUcMghlmjldts2oo6MDP3Yowc3NHc4uzqIuN8UNehCER6GP4OHhAVt7W5Gv+BEVGYmAO3fh2dJDMVukm7m5YfyECbCzty9SxrWAt2/fgr6+Pry8vKGhqQHeD9eYceKaxuTkZDRp0gSl9ZGRniH6yMjIQEvPVjA1N5WPkZ6ejpDgEHh4eiApKQnXrlyDi6szHJ2c5HUoQQgQAqqFAAlmqrUexA0h0OgQWPvjj3A0MsUAG5kwsKxlVzHH0oSz4kIZrzzGoTnWBF3Hd99+izXr19UIRj4+3qKflJRk8T1pwkSYmZkh7NEjxMTEwJuV7/3jDyEczZrBDiywrUmJBg0ZjK8ZL5Jbj8Xvf4Cff/pJFKsxuzlvHx+pqvg+fOgQ3pg3D1t+2obefXqLvJUrVmD9uvXIy80V1w5M+Nqzb6/Y8rzPBFlOo4YNF9+bt25BQkJiiT42b9qElSs+QRZzO8JJXV0dk6dOweIlS8T1kUOHRZup06fhpy1b5SdgeZ0lzP6NiBAgBFQPAdrKVL01IY4IgUaDANfSXL58BS/Yu4ELLBJx4eyFpi2E5kxxW1OZUMbb6GhosMMCLjj133+oqYPkfx89KthpzuzNJLrKtjUtLCywlp0EnTlzlsheMP9NZucWik1bNuM4c/Mx6sUX8NeBg/h52zZRzjWCXCjr1KUzdu3dgzfefBP+/mVv1R49cgRrV6+BJ9O+8X75n5GRER6zLdsf16zG80OHir7Xb9qI33fvZlug3SQW5d/nzp7DsiUfomVLTyFA7vvzD3Ts2IHZom3E3j175PV4YvPGTZjLBEPOX/PmzbF18xahSStSiS4IAUJAJRAgjZlKLAMxQQg0TgSusdOJXJDyMbEuMcHimrPYrPQi25fFG3ibWWPbw9u4f+8emrdoUby4QtcXzp1nGqYVCAwMxPFj/8LaxgaTmPZIImNjY2zd/jOsrWX8PgwJgZ/fRUxnGrM+zzwjqnFN0769+3Di+HFMmTpVCEFc6OQaNDs7O9nJS7Y1+fHy5VK3Jb53/f67yPv8q6/ENiO/kPrnaTt7O/4lNG+WlpYiXfxjC9OWqTOB9Qcm4Nk72Ivib5l2slvnLtizazdGjBwpb/LB/xZj6vTp4nr6zBl4560FCLh9R75VK69ICUKAEKh3BEgwq/clIAYIgcaLQHh4uJicq4Gx0kkWF84kmzJllV30ZH2EP46osmB269ZNBAcHwcraCqPHjsGbCxbAxMREPpyLq6tcKOOZXIDjtJ1px/bs2iXS/COXOcWNi5EZ5oc/fsz6sxZCmVTByblsG65HTAPHx+W2X1UlflrV1tZWLpTxfrhAacP+IiJkuEt9N2vmLiXlfCanyrZw5QWUIAQIAZVAgAQzlVgGYoIQeHoR0FDY4izLhQbkO6F5VQaLa43eentBhdtL/AwYOBC+7GSlIrk1ayYu8/LykZ9XOZ7yWH0DQ0PF7iqd5ppIZePyvrW1tUvtj9uhEREChIDqIkCCmequDXFGCDR4BOwLTiGGpCbBTFu3xHwUbcpi2FZmaQcCeEPeByd7BwfxXRcfLq4y4UtdQx3Dhg9TOiSf43VmU8ZPUDo6Ooo63FatLOJzOMns1cLCwsSJS143MSGBnQjVZSdDdYURP8/jbj5K28ps2rQp/j12TNiKObs48+p4EPhA+E7r2KmTuKYPQoAQaHgIkGDW8NaMOCYEGgwC3u18hNH/5cRo+DAbMUVSFMq4SwyJShPOrrE+9Jk7C3dmvF5XxAWeTkzI2b9vP2xsbOHL/KClpqbi33+PowPz4j9sxHAMZQIbP3U5e+armMV8rZ09ewY7ft5eJosvjh4tbNRemToNr86axbYeI7B27Rp89dU3TDPnCxu2Rcnp26+/Ro/uPdG1R0nj/wkTJ+HYP/9g6uTJmDNvrrDl+/arrwXer75WdZ9vYmD6IAQIgXpDgHTa9QY9DUwINH4EuDE9D0S+KzywyGnK0oSy0k5rZjKXEn9EBIvg5oqnOyuKoCYzkufE/YSVRhpMK6Zsm++b775H165d2SnK1Rjz4mgmCE3BkcOHYWxsJLp6btAgYVjPDyW8zgSzv48cxZJlS0WZOotgwIn3Lb41Zd/c3cZrzIdaUFAQ5s+di09XrmQ+yFrC21smoI4YMQJOzs448MefeHfhO4iOjCrRB3e7wceJY05o35w3H2/NfwPZ2dlYt3EDO6nZUjZesXF5ZiFPpWMhGtMHIUAI1AsCFCuzXmCnQQmBpwcB7pZixrTp+Nq7D/ozX2alCWWKiPzv9jnsenQXr7n5CCe021i0gE/uXMCfBw+gddu2ilUrnObOVnV1dYu47VBsnMl8gXGhrzT7LF4e9igMxibGsLKyUmwq0jyyAA/BxLcYOfHxFONi8liX+gb6okz6yM3JReijUJgz/2kmpqZStvjmNmTRrD8tLW15nFBlffDKXOOmo60jr6fYkbI2yvIU21CaECAE6g8BEszqD3samRB4ahB41rcP4sMj0dnUGn8xzVdZpy8lUCThjPs7OxQVgjZsW/SX33+TiumbECAECIFGiQAJZo1yWWlShIBqIcDDHXEv9nFxcRjr6InFnp0rxODr147jOIuXyUMI7WJe8UszhK9QZ1SJECAECIEGgADZmDWARSIWCYGGjgAXrHbv3ycEq6PRD3EgIgh5bKuuNMrKy8WvYXdxMT5SnHQkoaw0pCifECAEGhsCpDFrbCtK8yEEVBgBrjl7dfoM3Am4A3vmdHaEXTP4mFrBUd8YzCsXglIScYWdvtwb/gCx6ano0L49VrPwSKQpU+FFJdYIAUKgRhEgwaxG4aTOCAFCoCIInDzxH1Z//z38Ll0Cd4iqz0IYceIG8xrMAWqPnj3x2tw5IrxRRfqjOoQAIUAINBYESDBrLCtJ8yAEGgAC/OTiI6Y14zEoxR9LR7EThXbM4aqmlhYeMvcR1lbWaMq2PpswZ62Ojk3h6OLCXFPIwjE1gCkSi4QAIUAIVAsBEsyqBR81JgQIgfIQOHPqFO7cvo0w5hk/KjJSaMgU23AXFUuWfwQd5sriA+azK5f5LCtOJsYmcGjaBM09PDFw8KBSXV4Ub0fXhAAhQAg0NATI+L+hrRjxSwg0MAT4NqXf+fOIYAHN+bZlcfJiTlXtHOyFD66u3Up6uOf1E5MScfvWLeY/zJKEsuIA0jUhQAg0KgRIMGtUy0mTIQRUDwEfZsD/7ICBpTI2eFhhDMpBzz+v1Ps+b9zL1xcdOlfMzUapg1EBIUAIEAIqjgAJZiq+QMQeIdDQEeAe83nYIGXUqnVr4aNMKrNgHvU7s/BHyigkOBhP4p4oK6I8QoAQIAQaDQIkmDWapaSJEAKqh0DE43CsWLoUVy5fUsrc4KFDS+RzrZmyeJjc1cZHHy7BTX//Em0ogxAgBAiBxoIACWaNZSVpHoSAiiHA7co++Wg5ItmpS4ksLCylJNxbtEAzd3f5tZSwtrFBpy5dpEs0KYg9yTNSU1Lw3ddfY++uXUrt1eSNKEEIEAKEQANFgASzBrpwxDYhoKoI8MDcO3/+GRvWrkVmRoZgU0NTE2PHj8eKzz/DqDFjRN7gIc+XOoVBTJPGtWYDnnsOi5ctw+y5c1kAcAN5/cMHD+LLTz9FYmKiPI8ShAAhQAg0BgTIXUZjWEWaAyGgIgjEMxuwtT/+gGDmj0wiM1MzzHztNbi4NZOycOTgXxjA3F6URSf++Qe9+vaVHwaIZXZq6374Qfg/k9oZm5hg+syZaOHpKWXRNyFACBACDRoBEswa9PIR84SA6iBw5+YtbFi3FinJyXKmPFu2xLRXX4WRkZE8rzqJ7Oxs7P71Vxw/dkzeDdesDR0+HAOHDJELcfJCShAChAAh0MAQIMGsgS0YsUsIqBoC+SwY+V9//IE/9+8HT3PiwtLAwYMxbORIpYb81Z3DpQsXsG3LFmQUbJXy/vgJz2lMe2ZgaFjd7qk9IUAIEAL1hgAJZvUGPQ1MCDR8BNJS07Bx7RrcvHFDPhkDZgs29ZVX0NrLS55XGwkeRWAt29p8HBYm797MzBwzZs+Gq8K2qbyQEoQAIUAINAAESDBrAItELBICqogAj3W59vsfEBdX6KPMkcW4nPn667C0LDx9WZu889ibv7KDBqdZ2CeJNDQ0MOrFF9G3f/9a0dZJ49A3IUAIEAK1gQAJZrWBKvVJCDRyBE4eP4HfftkBbvMlUc/evTGGnbzUYsHI65rOnj6NX7ZtAxfUJPJp1w6Tpk+Hnp6elEXfhAAhQAioPAIkmKn8EhGDhIDqIMAFn+1bt+L82bNyprS1tTFu4kR07d5dnlcfiXC2pbmGbW3yLU6JrKysMeO12UWiC0hl9E0IEAKEgCoiQIKZKq4K8UQIqCAC0VFRQvB5/OiRnDtraxu8+vprcFBwAisvrIcEPwzwMxMcuXNbiTSZD7Ux48ajVx9fKYu+CQFCgBBQWQRIMFPZpSHGCAHVQeDq5cvYunEj0tPT5Ux5+/hgyowZ0NXVleepSoJvtf66YztycnLkLPFoAi9PngwdHR15HiUIAUKAEFA1BEgwU7UVIX4IARVCIC8vD3t++x1/Hzks50pdXR3DR44q10GsvEE9JXhsTX44ITY2Rs6Bnb09Zs5+DXYO9vI8ShAChAAhoEoIkGCmSqtBvBACKoQAD3e07scfEXjvnpwrE2PmaX/2LDRncS4bAqUzdx5bNm7AtatX5exym7iXJ01C527d5HmUIAQIAUJAVRAgwUxVVoL4IARUCIF7d+9iw4+rkZhUGIvSrXlz4SPMhIVBakjEnd7+e/Qodv32W5HA5/wU6dhx46DJBDUiQoAQIARUBQESzFRlJYgPQkAFEEhm4ZTC2OnGz1asQBYzpNdm9ljc/cWzAwZi5OgXG3TIo6DAB0IDyLc2MzIzkZudg/6DnsPzLJxTXfldU4ElJhYIAUJAxRHQVHH+iD1CgBCoAwT8WIijjRs24l8Wg1LRNxnUAC8vb5hZWjRooYxDmMV8rmWywwCnzpyV+zs77+eHZUuXwdvHG5MmT8HzQ4dCQ1OjDhCnIQgBQoAQUI4AacyU40K5hMBTgcDt27fx1rz5CAgIgIWFBV5gWjHuAmP50qWYxfx/6enqYefOnQh//Jj5AnPER0yT1rNXrwaFTWR4JOa89houXfKDoZEhhg8fgU6dO2Hu63MwevQYuLdojt/YHO/fvw8rKyu8+/57GDlqVIOaIzFLCBACjQcBEswaz1rSTAiBSiHAhbLxY1+CPvOM/+bbCzB02DCxbcntywb0exZrN6xH/wEDRGDyo0eO4svPP8dDdtJx3fr16OXbu1Jj1VdlLpS9+MIo8C3aeW/Mx9iXXhKRALhWsLlrM7z3wQd4ZeYMwd65s+fw9RdfMAHuEj5ZuQqjXxpTX2zTuIQAIfAUI6D+FM+dpk4IPLUISEKZEdMg7d67D6NeeKHUUEpqamoYMHAAdu3dg+b8AAALUH7yxH8qj50klKWkpOCXX3/FlKlTywzP1LVbV+xg9Xz79MGidxeykFO/qvwciUFCgBBofAiQYNb41pRmRAiUiQA/pfgqE64MDQ3x2++7YWtvW2Z9qdDIyAjbd/4CNzc3zJ41C2nMFYUq07x5c4SmbAfbpvRs6VkhVrl92boNG9Db11cIZzxQOxEhQAgQAnWJAAlmdYk2jUUIqAAC//z9Nx6FPsKSpR9WWCiT2ObC2Zdff4VUpoXayYKYqypx32sXz1/AnLlzKiyUSXPhwtlX33wNLeZGY9PGTVI2fRMChAAhUCcIkGBWJzDTIISA6iCwZdNmNHVsimf69asSU9y5bMeOnbDtp21Val8XjTawE6b6hgbCpqwq45mYmmLQ4EHYu3s3MtIzqtIFtSEECAFCoEoIkGBWJdioESHQMBHgPsrOnT2Ll1hQb247VlWaNGUyQoKDWV/nqtpFrbXLysrCn3/8gaHM9YUB266tKk2b/orYCt23d29Vu6B2hAAhQAhUGgHyY1ZpyKgBIdBwEeDCFLcx8/L2FtuRymaSliazHctkDmb5lqUy8vb2EtnBQQ/AjeZViaKjo5n9W6rwv1Ya/9kFwc2zmKPZ0uo4OzvBwMAAwcFBqjQ94oUQIAQaOQIkmDXyBabpEQKKCCQlJonL8WPHKmYrTXM/X+VRUlJyeVXqvDwpSTbHRQsXgv+VRZ9/9hn4X2mkrqEhtGallVM+IUAIEAI1jQAJZjWNKPVHCKgwAnp6uoK7WbNnw9bOTimnXOP0w3ff4aXx4+Hh4aG0Dt8u/Hj5cugW9Ke0Uj1l6jG/bJxGM+GzVatWSrnIzcvFsiUfYsBzz6FbGcHMV638BLq6MsyUdkSZhAAhQAjUMAIkmNUwoNQdIaDKCHCv/py4+4jnmUNZZcQdzHLBzLePr3Awq6yO/7VrItvK0kpZcb3m8biX3H6uaZMmmDh5klJeuINZLpi1b9++1Drx8fFYumQJLFlEBCJCgBAgBOoKATL+ryukaRxCQAUQaNWmtQittH379mpxs+2nn0R4o779nqlWP7XRmLv06NSlM37//bdqdb9ty1bRngc5JyIECAFCoK4QIMGsrpCmcQgBFUFg3MsvCx9fDwIfVImjxMREHPzzgIg5KW0bVqmjWmw0ZcpUhD4MxXEWlL0qlJeXx/y0/YIevXqiadOmVemC2jzlCOSygzM5BfaOTzkUKjn97CcJyGMHnFSRSDBTxVUhngiBWkRgHLMd4wLVyk9WiBOalR3q6y+/RCY7zTj1lemVbVpn9fuzEFL2Dg746suvkFGFH9+tW7YgIiICU6eWnCP/Mc/Pya2zudTEQPwhlMaCtNfVgyh8wxac7/Es7r/zfpnsh6/fjOCPV4HzV9uUevM2gpevROyBQ7U9FDLYS8EJJ2+caOoNLqDVFlV2TnlsC//ywOG42GsAUm/dqS22ivT7eN0m+PUZhOClK4rk1+dF4plz+M/JB2fa90I+ewlTNSLBTNVWhPghBGoZAb7V9+aCt/DP0b/x5vw3KiWcff7pZ+AOarkfMxcXl1rmtOrdcxuzxYv/hzssUPuUiZMqJZz9umMnPlq6TDjg7d2naLB2LnD8a+WJE85tqs5cHbXkblHCfliL0607iYfQ2Xb9mbDQFrdfnYs8JljXJqXeu48U/0Ak+d8sdZjUO3dx+81leLByDeIOHym1XmUL+IM2+fJVpFy7XqRp0Kov8eDTtbj3v4+L5NfGRdiaDcjPyoVJe09oVMOXXnm8VXZOXDCPP+OPpKv3kBUVXWr3mY8jkHTeD1kxMaXWqWhB8u07SLzE/q7dqGiTWq9n1LE9NM30kRkag/hjx2t9vMoOQIJZZRGj+oRAI0BgGouVuej997Fvzx7MY24xJBcTpU2Na50+Xv6ROBQwYdIkFs5paWlVVSZ/4ODnRGilS35+mDRhAvhp07Iol2nBNq5fj/cWvYs+fftiLUsXp7yCKAB56VnFi1Tu+s7MOQh4dyXT3sgerhqm+shLy0b49j+ReuNWvfOr6+QIY5/m4s+obc0Juin+N3DBdyTO9xwGLmBIZN6jC/Tc7WHzXD8pq1a+uUAcvvcv0bd1LY9VW3MKeOMdXHx2NB4sqX0htlYWoZxO1Vm4Nctneoha4TuqZ4tazlBVKqZTmVWCjRoRAg0fgRmvzhSTWLliBXj8zCFDnse0GdOLRAQIDQ3F5o0bWWiiPeC2ZRMnT8bS5csazOSHMO//amrqeGPePPTo0lVowaZNnw4vH2/5HGJjY/ET27r8deeviI6KQr/+z2LN2nXgMTMrS3xLLpFFQ+DaCE0jQ5h07wYdBzvRTcqNm8iOiYOhVxtoWZiLPK7BSLp4CRrMka1Rex+Rx7e+ki5dQQbDXs/VFcbs7V5dR0eUZYZHIo3FATVkhzgygkOQfP0GLJ8bCG072WlbUYl9JJw6g/BfDopL854+aL1pNbRtbZBy/SYefLQKmgonTTMePULK1RvCHkq/uRuM2vlArWDuiuPxzuJP/AewnR/zAc9A09gY6Q+CkXDmDHSY6xXTXj3kfIqBCz6ymED85J/j0GSaI5Me3aBlbiZKNPT14PH5x0J7p+feTOQlnj0P/tA06tAOyVeuie02A88W4lqxz9Jw5jZdilt0yZevICu6CYx8vGA17Hnot2gO3aZNFLsS27spTJvDtXzabF0MmfNkac14xYryJHUqxnwcJy6thg8R36m3A5AVGQWDlh5iHXhmGrPxzAwNg0FrT2hbW4t66Q+CmCD9SPAp8VDW/aBsTrlp6YJnjruOrS00jAxE3watWotvxY8kv0tIvcPuJ8YXx5wT12TmFPg7zIyMBq/DhWiJx7L44e35dmnS+YtiHsad2/Oscinh9FmkMzw0DAxh6tsD2lZWQpOfdO4C8nNzYdylE9S1tEQ/fD1EXueO4l6R1seQ/f/h2PPtXcPWrcR8OC/xR48hOyERJl06Qq+Zq5wX6yEDEbnrKKIPnQDHjN+PqkJqTLrPVxVmiA9CgBCoewSCWTSATes3YC8LPcS94GszISCHecbX1NQE94zPrwcNGoRp06ehddu2dc9gDYwYFRmJLZs34/dff0NcXBy02cM/h/3ga7Efex7hQIPNlbsHmTptGrp1717qiGHfrUHAe6ugpq2BZ+ICi9SL/Hknbr/1P6GVkgrU9bXQ+vtVsH5xBM54d2OCTATsXxqMluu+F1X41ujtN5ZC3VAHfSMCxAP1+vQ5yHwUK3XBHubO8Pl1K3SdHYXN1sPVO4SWKcn/PnsK5sPj0/fQZNYr8vo8cWvqLET8fhhqOprocf0UdOxti5TzC77lF/juYjxc+4voR6pg7N0cbX5aBz0XJ/l4Fn06sq2oW8iJl0WF0HWygsNLoxD05XqxZcfbmnZqhfZH9guhjtuWcT65lo49YZGbmC6617I2Rvvd25jw01bYXh23k2nK2u/fAqOO7XDCvi1rrw7rQb0R9UfhFpPLnElotuJD0UdZOOewlweOZ3HqE3kLQUs/FjyZdWsr+OR1kpkAfH3GHKTfD5c3UdPVgvt7c+H4xuvISU6uEE/yxiwRtno9At5ZAQ1jPfR5fFsUXXr2eSScvwnbEf3Q+ieZJvaMF7sfgiJgO+pZtN6yTtQ719EXqQEP4bZoFpzfe6fC94M0Jy4AXnlhQpH7R+Kt7ZYvYd6/n5gPz+PaQ8V5u8xlGH/8IU55dkBmmEywlNo6vz4Bbp8sK5cfjr//ixMQf65g21JDDVpWxsiOTIRlvy7w3svuNQXiLyZXh48V26tStpaNCXoHXhOC7En3LiK70/FdMO7QHtnsJeo/l46yvGO/Q58J7dI9YzWwB6IPnJS6gfNrLyP29Hmxpc4z+f/Zthu/gtXw50Wd9OCHONPWV6S7nP1TvOyICxX4UFcBHogFQoAQqEcEuK3Y8hUfw+/KZaxc9SlemTGDuZvogvEvj8eHy5bhwkU/fPXtNw1WKOPQ2jDNwcJFi3DO7yK+Zj7aXp09CxMnTcSUqVPw3uIPcOrsGWzYtKlMoay8JUq6cpU9jPXhOGMsWix/C0atXYSQFvjpV6KptIUWdei43Ag/+q+joszSt7PQHN14db54qFoP7gWPFQuZxswOqbdDcP+DosIGtxFS09ZkGgA7pmUo+aafFhQi+jXx8VAqlPHCiM3bhKDChTubYX3RdOoocKEk6do93Fv4gWgvfcQd92NPNnUhfPE8vj3KbcO0LE2YBtBNVEu4eAtxfx2Wmojv3IQ0qOtqw+q5HkLgyo5Owv3/fSTKStMJ5OfkCaGMb3PqNJH5kAtZvU1u71QWzgatWoILKRJZ+HaAzdA+UFeiDeF2dtenvS6EEx1HK3Dhg4+Zn5HN7NC+EHZqUj/l8STV49+pdwLEpY6NTCvKL8y7ywSMuDMXhSaIHw7gQhknnseJaye5UMbJtGf3St0PohH7CFzykbh/rAZ0g8eqRWx9jEQRF5oN2xbVmHGhrAjGa34Wgg+/T7XtTEU7LoDzvkyY0MzxKu/+DPtxnVwo49jrOloLoUzir/h3zP4DQijTZHy2XrNS9v/GQ6Y9LV63rGu+PlwoM+ngKZ9zyA8/C6GM3w/8xYfb/D34/Ft5N4ovKxnBofJ8VUjQVqYqrALxQAioAAL8pOaYcWOFLVYO1GFrY4NJk15WAc5qjgWuIRs2vKhj3RMnTsHaSraVVJ2RXD98X2gVpG1HXRZr03/CXKSHRIpu7caPRcj328CFFS7AmD37DOJOXRJltiOGIv74f2x7MooJEVpoufZbqLP1UNPRwp23PmIPbyYYKRDXhHXY/xNMuske+ApFIpkWJnvoa1vJBJvi5fw6bMsOkc0FlzY/bxRpXQd73F/+HWKOnBEPYpHJPrgWo9PRfUxQdMa5Ln3YdmEI9D2aoiPTkGkYGuBkiw7IiU1G6t17sMRgqRm0bE3Q5fgBJmA1QeB7SxDy3U+I++8S8ljkiLLIadY4uH/6sRCOuL0Yf/CmBwaLLa6ycDbp2gnNP1mKC71HiO5brvmGbUvaKx3qydF/5cJRu1+3sC3FlmJL65RnJ+Q8SQEXGhzfni9vWxZP8koskVVwwlTHptD5suXA/gj6YgO4YJrCtmhTbhXa+HFtEj+okMKM5DlpmrMt365d2PbvsQrfD6Ih+0hhGHFyfH0mzHx7IcHvstius+zXG/ru7kIDKCqwjxLzYYILx7j5lyuR/igMMRFnYNmzKzxWfyOaxB0+Wi4/UQdkhzisBvWE168/ifEuPTdSrrWSxpa+8wri8uZn57AXDH3YvDQbTee/LhVX6ptryNxWLkfMnn3wn/SGaOv52XtwePUVhH75He4t+ZJtHxcKYPz/KRcI+X3Lt/NViUgwU6XVIF4IARVA4ECB1iOS2Vtx+yvuSb+xUgyb3/mLF5mzXAN0aC+zsanyXNmWXeCiJYg7fQFZcU+YzZZs+y4/K0d0yR/8XEPBtV0Ru/YJlxtcO8Pf5i2GDALf1uTEDfRPNCm0geN5/OHB7WUkMm3nWapQxutomZsgOyqRaUCeSE1KfKcGyx5GZgXaHF7BhNnyCGJatMywwu09w2ZOQijjZfpOTYVgZurTVm4vpmdvjWTOY0amrH3Bp6GrkxDK+KVZ965CMOMauuzoaGiYmBSpq3jBBRlO+i3c5dm5LDC9oHJwljcoJ8FtvDjx7VW+Npy4nZFxK3c8OXUV6Qrz52Vl8sQrFFBuwQERTWOZtopnG3VqL4RbviZPjh1H6v0gUZtv9XJB/cmxE0i5x7amGVn6dhXbwWn3ZPxV5H4QDdmHoZsLE67CmVbyY6bpOoeYf06LIgPPkqHVlM0npwzXHhXhJz08Woxn4dtTfGuyE+CmHbxLFcz41qqm5efi/uYvMbpOy9H8fwthPXqUaF+ZDwvWFydulymRxXMDRFKvmYv4zksv/D/EM7SMDcXY2bFFt25F5Xr8IMGsHsGnoQkBVUOAn1yMjo6Rs3Xg4GFMbmRaM/nkWOKvQ7I3/FPM+NjHy6tKBv9Sf7emzWaaprPiLdy6Xy/kpCQXsXnh9ezHjmKC2SeIPXaWCTEyrZFVvx5CIOAuPjhxWxjnmUU1ldxwXzJ+llWS1RVpJR8Gjk2QdicUiTfuie0pLWXCdcF4XFshUV5W4YNLQ5/ZhykhNfWSY+cX9KWkujxLUbBU1zeQ55eZUC/5iKoIzmX2WVAosVzcJ53Ep7LtT9FUCU+K42kyzQ+nbCacS6Smrg7L3t0Q8dshxJ08g7SHYWJr1/0ddnKW2SzG/XcaqSEybY4lO1jBqVL3Q8FAugW2hFz453+c7McNgeWwIQU1lHyVMx+pRYX4KfAJll+ORlTqk2szu5w4gIdffIPw3YfEFvn1V95GVxYyTsuyUNubn1m2hlXqT3xrqBe55BcS78ULsuISRJa6isX8LXnXF+ecrgkBQuCpQUDSlkkTbsxaM64ti4iQbTNyh7lX/f0rpTVTdEzJH7xxp2TbjR7LFsF2wkuI3MFOeSoYI3NMbca8gLtLPhdasdi/zwmYbUfKjJH5NiEnvm1n+/JYcYJPXHPj+TI0GaJRsQ+r5/oLITEvJRO3ZsxlW6PfiG1A7mQ25LNv4LxgLvSc7JGSEIjov46gyWszhZYmctde0RPf4il+0rPYEBW6TLx+l53kPCm21SJ27pL1bW4gNG3csL4qVB7OalqFjzVuy1XaVqaeq0yLkvMkFU/+PgZztrXMT0UmXpXZiBmxE5xVIe0CgSIjOrZIc8v+fYVg9uS/KyLfpL0HrEYOkwlm3IaPEzOWtyjQFlb2fuAC5eOdf4huWq/+hAk27IQp0wTybeTKknQqN13B3UhF+NFrYovkJw8Q9edhNJkzi20VB7P7sPAQR3E+uJ80TXZKt8W3X8Dlg4U43bYn8lKzxGlja4aNRAnsdKZx504IWfmFlFXtb/5/Sn4oRUEIrHbHNdBB4R1cA51RF4QAIdBwESiuLZNm0li1ZpK2TJpnZbRm3JD4mEkzqSlshj/DXBNYCpuloG9+xBOmgYvcf1ReLiW4mwzr/t2ZcfsJkaVhogdpu8WsXx9hzM9PbvoNHAWL3l3ZvmYuEq7cgGm7tmizfZPUTbnfdlMmCBsybsjPBcCTrp3Y1qGe/EFkzwRHx8njxQnG+LPXcbZjL+F6gB804OT6+nTxXd0PLhhefn6SfBuP99dk7PBqdVsezjoOTBBhAg5y89kJxSnMVk8bPW9fLDGm+YB+0HW1RUZQJK69PAtGLd2Q+uAh8jNzhPG7LcOnKmTITgpyyox4Igz9JW2NBXPDwk+ccsGbk3n3zsIth0ErZ7E1zPNMO7aSbw9X9n7gGlUdBytxmOHmrEW8OzGennsTuM6fDdtxY0ReRT70ClyK8EMfp1p2hMMLQ+H8/jvl3p+2wwYxoeo7JFy4yU53dkROAtveZlvzpRHfvg9ZsxVWzzCBjL0ccaGMkyHTmKnr6sLAk2Fzhx1+WfoNgr5eJ79/S+uvMvlFturbtKpM01qvW1LnV+tD0gCEACGgiggU15ZJPEpaM+m6MXwrasuk+UhaM+la2bdOEztAyVYef/h6rFwiToSl3Q1D+I4DsOjRAeoG2lDT0ijSlcOkwge+dX8mELEHECdujOy1bZ04+cjdUkTtOyYEuJzEVHbaTGb/xn18cVJjD+GyiGvw2h/aLU5aCpcVrDLXDvCDBXxry6h9e9hNnQi3918TNm7cLokLZVx4c188B02ZqwhOysZT15LxoMH4lUijgB91HVmZtO1q9+IA8BOP3LaKk9XA7nBmmhFOahqaQnAQaW2tEteyOmryOlLf5eGsZW7KBJFpvDlykzPYQQO2VcvwKD4XjrfP9o3iJB8XHrh3eo67aWfm9mPfL8wPnVGFeRKDFXyYdO0sUtx+MJkZ30ukaWYC857tpUumoesr0jYFW5f8wob51pKosvcDdz0hbT8LbRw7Taltaya2tG/OXiQM3ItjzsdSY0IsFxg5SRg3mTkdui42Io+7btEwMqzQ/dl03mvCJQj/P5IV/oT56zNBswUyVy6SFk50WvBh1I7ZUjKNMHftwt2j8PuvxUcLhDsVXsXz8+XyU5bcqTM/OcznxklNk90/xe4hWX7B/w3Gg5qmLK3G7i9O6rqFuijuO42ThpGuSrnK4DyRHzOOAhEh8JQjwLVlm7ZsKxUFfkKzMdmabd22Xb6NqThpHfawnvvarCrbmvG3/vSgEGjbWAvNB7/mxB+yEnHfWRf6yIybvX/5EZZDnpOK5N98m49vw2no6QvnnooPNb4Fo87sv7jwVVHip87ymJ0Od66qyAtvz91WZDCfTswQR/guK95n8fH4Fi4/TafOnOJK2iBup8Xnyk/WSX3mMWN9Ho6Il6Wx05rcTk5yrCuNwdvkM82Whr5MOC1+zeuVllceztwJbRY7wKLr2FTOV/G5SHxwx7Tc2Sv3FVc8hFJp4yvyLfUjfUs+61zmTUazj5ZI2QJrjgsXrBXXgTs45VSak9OK3A+x+/+E/8T54mWgd5C/wJQ76ZVOqHZifr+MO3UoFc/i8+Hrxu9Bfu9xB7OKVBY/vB73Z8YN6iWHrrmp7H5h/wcU72OpP74Fmx4YJAREXSenIrjwOpwP7nxWp4m9WBteX5ziLHCBonR9mJDK7+fiGPPxJQH92qhxiD16DtZDeqHtL1sldlTimwQzlVgGYoIQqF8ENjOhLIoJZ2XR9KmTGsUJTa4t27ip9B/ifs/0qZStWVmYKSu7M/sNPN62T7hF6HX/svxBoawu5TVMBEJWfYHAj76HgYcTuvqdqJNJxP/7Hy4PmyzGMvZ2hz47oZngd1UY1PMt224Xjsu1s3XCkAoPwgX0/5ox32xMU+qzczUsBhdqKlWB7UK9nipwQzwQAoRAvSAwZfIE+bhffPUtstlbKSffXr3QhYUyaUxU3Las+NwqY2tWvG1FrmP+PSVsoBzGDCWhrCKANcA6Dq9MRdi2X5EVnyC0R5pluAapqemZ9e3NtgHfRuiW7cxJ8H3xx/3I8WgDzZYsIqFMAejUm3eYNk0Lxq2bw3zQAIUS1UiSYKYa60BcEAKEQB0gwLftuCNda2sr8KDlcU8KXRqYs9NhPAyVSS0/RCVD9MpsRdYBNDREDSLA44H2uFnywEENDqG0q6bzmINW9idcfrAtZ8WtPKUNntJMY/ay6Rta6ORX1WAgwUzVVoT4IQQIgVpDgNtEjX5hpOifawW5dlCi4UOfFwKbdF1b3ySQ1Ray1K+EgHT4Qrqm74aFQMWtRxvWvIhbQoAQIAQIAUKAECAEGhwCJJg1uCUjhgkBQoAQIAQIAUKgsSJAglljXVmaFyFACBAChAAhQAg0OARIMGtwS0YMEwKEACFACBAChEBjRYAEs8a6sjQvQoAQIAQIAUKAEGhwCNCpzAa3ZNVjODIyCvnsH3cLYGVpKTrjp9Ni4+JEWlNDA1ZWViLN3QlEx8aItDrzMm5jbS3SeewYtuSMlJ9y417hJYqIjJSSsLO1laelcXkG74f3x4n3w/vjZG1pJfe4Hh0dg1wWJ5CTpYUFtApCvnDnoDk5LMQKIwtzc2gXhKh5EvcEmdmyOGvmZmbgHtw5xcfHI6PA+7qZqSl0C8LfJCQkIJ17h2ZkytwjcBcKnBKZx+q0dJkXbhMjY+gXeDIXhfRBCBAChAAhQAjUMgIkmNUywKrUfXhEBH7atkOwZGVliWlTJol0PHOCuPWn7SJtamqCV2dMF+mU1BR5vh4LDTNvziyRn8lCu0j1uYC34M15Ip8LWFI+z1j49pvykC3btv+C3FyZoDV/7mtyAemXnbuQkSEThGbNfIX5kDIWfe3auw9JiUkiPW3KRLmw+MefBxETEyvyXx73EpqwMB2cDh46jMfhESI9+sVRcHVxFumj//yL4OAQkR4+bAg8WrQQ6eMnTuLuvfsi/dzAAfBq21qkT585hxs3Zf5tnunri44dCmPbiQr0QQgQAiqHAH+5vHDxEuMrHz5e3jAwlIWGuuZ/HSnMyzuntm1aw9hY9vty88YtJCTJ4ne2atkSZmamos7tOwF4UuDbrkXz5ux3R/byyn8rYmJkL6lubs3kL6MPWCihiCjZy6irswvsHVgsVUbBIQ/x+PFjkXZs2hSOLCwUp1AWGis09JFIOzg4wMXZSaTDH0cgKCRYpO1sbNHMzVWkeZzaQBaOiBN/kW7RorlI8xfUuyzMFSdz9oLa0tNDpPlv+a3bt0Xa1NgErQuCcyexkFPXb9wU+YYGhvD2bivS9KGaCJBgpprrUitc+fvfkPebw+LThSfK4vg9SZFpmnhhTl5hfkpSYX4ec8wp1c/MkLXj9bnDTilf0nzxfE48Xx5LL1+Wxz8jkjKhk6kmMlhzOUUnZyIVsr5zZUo0URbN+MvWluVzviWKS82CesEcshTzWX3dgvzM7MKO4tNy5Lym5xTmJ7CwHNIc0rMK85MycsT8pDlI49I3IUAIqBYCt27fwekzsqDU7m5ucsHs6lV/uXafC0eSYHaNCSlhYWFiElwQkgSzW7du40GQTEDimndJMLsTcA8BAQGivgGLESrtEtwLDIT/ddnvqhYL7i4JZkGsD79LsgDm3btBLpg9fPgIZ86eE/3wlz5JMHvEhDj+UsjJq22bQsEsIkqe78GEMrlgxl5Opfquri5ywYzvHEj5TRyayAWzBLYTIOVz58okmAmoVfaDBDOVXZqaZ6xb187Q1NbD5UsXkcaC5qYUCCFZ+eowNJG9MRoYGMnz05mMIuVr6+jK87OZECTlazCNmdRPPtt6lPI59zxfEmqM2DaipDFLZ9F+stVkApAB05BpZeqIyaYxhVp+AU8GRibyIM2Z+RryMfQMjJFdoHnLQmG+LuPb0ES2NZmjXsiTtr6hnKccNYV8PQN5fr6mtrx/TaYZlObAtz0l/mt+NahHQoAQqCkErl27Lu/qfkQCEtWNxHWGwhteWEImMnRl2vmMbJn2nld6zF4Uc2Nk+akKL2aR7MVUsyA/JVNmPsHrR6dk415BfmJGYT+x7IVQyo9PL6z/hL34SflP2MuhRLyOlB/L6kjE+5Tyo9hYEqVkFeZz3iRKy1TML3xpzmCmKFI/sWzuEiUlp+HEpVvwaM40f8a6UjZ9qxACJJip0GLUNis81EyLdh3h2Lro9pyhsSn6jxxXYng9JtQoy9fS0lGar6auoTSfd/zMsDEl+ucZvoNHKc3vMeB5pfld+j2nNL9j72eV5rfr7qs0v22nHmjbqWRRy3adocdU/cH37kBTLR9ZWVlyO7aStSmHECAE6hsBrrX3ZFt5acyWNInZjmoX2JdyvhybNUe6rb1gkf+/lsjB1Q2mzKaVkwGzJZXI3smFvZiZiEsjUzMpG3ZNnKCrL9seNTaXbW/yQhumldLUkj1GTQtscHm+lZ0D+5Rp982tbXmWIHNrG7i1km0jyurI8jkvUr6FQn1jcwt5vpm5jF/ewoi9SEv1jU3NZZ2wTz4XKd+AbWVKxOcu5Yfev4vz/x7GjQuG6NWzu9yMQ6pL3/WPgBq7qQv3huqfH+KglhDIZD9aahpaCIkvfHOqpaEafLf//vk7EgoOPfAfrm5duzT4OVVmAo09iLmERfGQTFMnT6yTkEzS+PRdcwhwU4vguAzEP4mDsZlFzXXcyHriuxqHfv8ZGWmpYmaK9rWNbKoNejrkLkMFly/l5n58u/oIwvluX2Ykbhz6DZu//xartx3BrXjZFmDm2Z/w+faLiJJdljkLbrT67fersfePA4iJkBmkltngKS5MTUlCYpzscAHfxvRiBsNEhAAhoNoIpGTmgZuZklBW9jrxk/YOTq5Cq6ijo81s02SHocpuRaV1jQBtZdY14mWOl4tHv72Jt464Yf6ns2AftQMzBy3F5RbjMa1zNPYv/wKf/Tgaq49+hgHdRuD54MWYO/0q3vthJrxk3h6U9n6V2V9w+67gwPvMRUSWULPPnzQa4WGPmIq+qdI2lc0MDX4AY6ZeN2Wq9+pSRloaoiLDYefQtMi2RFX7jYuJRg47tbXz7zPldmFgaIyBoycgOSyQ2eGlMSPiwu2PchtTBUKAEKhTBK5cvSZOLTq4t4SlvRPZhJaDviZzL9Sua08MG+ArXCRJbojKaaakOAl39m7Bcf0XMXuAHbIir+HEict4EJUFwxa+GNLfE2bqafDb/CMCWk/E+I7MRZKSXihLOQIkmCnHpV5y84M2YuE6bczYOwfduO1qhD5s24zBolUfYJRNNHSOH8Ky61dxITQbA1oZocX4VVj6aAzmft4efy7uAJkJfUnWo6NlGiBe4tKipaiQwP17pacx8/lC49WSLSuek56aCnUtZiyvV2jcWvHWRWtmpmWB95fIvrXzqn+LpqRlICdDprovOpLyKytTY3g5dVVeSLmEACGgMghcveYv3OcEBYegbefuzG7MBisWvoEmTs4wK7Ahqw6zT9hL3ePQh/D08hG+H6vTF28bEnhP+GF085D9DlenP+6P8ublS+j5zACMeHlyhbsy0dUQdrP2dnYVblOkYm4I9s57G3+0eAufzrZBzM/TMXiZP1zHT0b3qL1Y+cXn+Hb0Wvh93g8dXxiE4A/mYMqV97FmZluUoT8oMsTTflH9p97TjmCNzT8TVzfsROQz38FXdqAIsBuOpT8Nl40QfRHXHuVB23MgBrtrFYyqA4/Jw2A1dBMOvtEBI0tR7rw8fgyuBITgwf17sG3iKNryHy4tDWDd+nU1MoPePXrBvdMz6Dl2TrX7C7p6Cge+XYQ+ExbA3t2r2v39vWE5IgIulttPUnwctHX14FBwQrXcBlSBECAE6g0B7oRa8mnIHVY7uroj8N493PK/Iv5qkjHeZ03SpbOnaqw7NXW1Cglmd/0vIzUlGT06+7Dj9oUHEirHSC5C17+L73RnY++cLjBBHmL17OA5egg+WTyc7fJo4uRfK3Dhih/rth87pdASoz/9AGEvvIuVHfZgafvS1AeV46Kx1ybBTFVWODcYpy6lw/NdVxRZFPZ2su/9hVhzmKmJDQZh2er5aK+twLRlB3gZbcDJq5kY2VP5TZ/FfHYZWtjAi/0RlY7AtXMnERcdCbdmrujduxeLOFB42qn0VlRCCBAC9YEA98c1hR3Y+O/8FeFvUFtXH5ZWst+4F2YtRM+hY6vN1om9P2Pvui8wcdor0Cs4lVmdTg/s3cOikmjjh7XVfyHm5ilDBvRHm/Ydy2Upjxn9B96+gcyMNITcu40XR46Q+0ort7FihcxL2LwjAX3W9GRCGSd1WI5ajq3icH0enlzwR2i+Plo8p3B6XqcVJg83Rv8NR7Cg/VBIegfFbildFAHa9i2KR/1dZT9G2BMjdiqsiFgGaNii6+S38f4749Am/iDeH/sW9scpWPxr2sDGJB7hj0puISYyz/kBd+8igW0JEpWNQEpSAmKjIsQP/P3AB9DSZOpEIkKAEFBpBHSNTOHdtRd8uvVWaT7rm7nIsFAhlHE+dNmugHNBxIHK8pUffBp+6R7o3Kzocyo/ZBcWj+6PAW/9A/XBS7HuTW+FrtVh1rENLK6dxmV6FCngUnqSBLPSsanzEu64pKTzEl3YeHRAz3Hv4TVfpsEJ/xt7T5Z0ecHtDYrTVWYYu2//AWzfson55ZKF6Sheh65lCGSyuJkmFjL/RM5Ojiw0VKEPIMKIECAEVAsBftKc+xhMUHDwqlocqhY3dk2d0bP/EPBwUt4ssoBGFV88c8MeI9bYGrbF3lvVbHpgwtuLsfAlD6QfXITRbxwoAoCarTXM4iIQWjMmzUX6bowXRcXexjjDhjInLTvYWSQhKIppvtrIbMhyz36IQa8HYtSfWzHDIR2JzEN1vroFbB0U5OmcKEQlmMLOvuhS8vBI12/KhLFMFotSS1OyS2sogNQtn9yp49AXxkIjPYGJuCWF3LrlhkYjBAiBshDYu/9PFgMzFQ4u7vD06QBdFsmDqHQEuOufFm4u6O5dXfcY/NdRyS+kni2ad2R/bTJx9o8Z2H10P2NmSDGGWDuFzZ5ihXSpgIDCE14hl5J1j4CGK7p7aeHupYeQNiXVjC1hnnsBX499Ca+8PAYr/HTRetqHeKODgi1Z7CVcT2yJ7j5FQ2tw55mtWnpAh6mtuSds7tGaqGwETHQ1YWtrAzvbqhrGlt0/lRIChED1EXjIgoA/eRIvNGahgQHQYCHYiEpHgJtpcD/yJvrVfznXtLeDZVIMIuWar0xcXPwsfMZvBjubBqTHIykzH2qWRX9D8yOj8cTMBg60VKUvlEIJwaQARp0kMyJx6+x53HycDDVzT3Tr2wFNxBliXXSZMhLGc37CmTkr0Ju9AKq3fh2/XJ6KmEchLMi2GszZqaOmxopLxmKwbduPsAFvYUixnTcdJoz18u0Nh1YdkJwQD3UNxXZ1MtMGM8ity+dgysKauLRvxXgupqNvMLMgRgmBpwOBzMwsGBkbIzkpCQ7OzaClEILp6UCg4rPMy83BiQO7oaWtg/bebcADp1fddxkb17UrfDRXwC8oBwM8+TNFHSZWZtDc8RnGv3QKrnHMnZNBO0xe9roCk3mI97uBmNYvQFGnoFCBksUQoKd1MUBq7zIDgb8sxlur9iLIog+Gd0zGPzs/wGKPOfjlwAK04yvRcjZWjXsdCxdshdlnk9CWu7/Q1IeVS0sURkmTOMxA6L4l+OBKD6xY3xPKFPlJGTlQZ/ErTRRiu0mt6VuGQBo7Pn6X+Ybj5H/hNGbOmA49vaLaR1lN+iQECAFVQKC5ezNYMufTNwMeQN+QzviVtSaPmePvLBaOj/9dunwNXTorCRCspIPMyBs4f+4WHqWow9yzO/p0cJD5INPthokv6GDmT+cw/5OeMIQWWsz9DeenRSMsJBwJsISzRxOYKL7f5gTg532xeHbhQJgqGYuySiJAW5klMamFHObrZfdbmLjoV/jrj8BXu9dj+ZKX0dFQDZkBZ3A2TtIL68B92hqsn6SOQ1v+KTPcUub5X7AtYiA+3bIA3Yr5Lzt/wQ8H/zqM4NDHtTCXxtVlCAtWLpGFpSUJZRIY9E0IqCgCfC7yyPYAAEAASURBVFsuiYVgsmUG7RSCqexFysxMZ45xZVuYXm1bsRf1ch756QHY/dYQ9Og2DssP3kTAn59j7sh+eP7za8gWQ2mg+eufYErU13hzyw0kFwyvYWANp1be8GpVTCjLCMbBRUtwtvdyLO6hTH1QNv9PaylpzOpi5TPO4ttPDyEiVxdeU+ajr2kuIn/7AxeS2aZ80zZoZ6b4eqEBiy4TsLBL2YzpdJmC95XU4T9al9lpTK7mv3HzFjr36c/U/W5ld/YUlzq5t4CGWj5C7t+FFzutREQIEAKqiQD/bTty9B84uzSDmqkthV+qwDK5MWHJx9sLkSH30cy1HDvjvEgceGMSFh6MgfmYjdj1eR8Y/vkEB88fwN3TFxDHXGDYcrlOxxMT1/+Ilts2Y8s/1pjTrzT/mGm4tH0HQp/7HFv7OpUamaYC03jqqpBgVgdLnnNuP/6OYCb97ESl1p1vMX/0BZy8HA2DTi9j5fL30E3RYWw1+Xn4MFQIZbwbTS0t5unfqZo9Nu7mBkYm6N2rJwb369W4J0qzIwQaOALBIQ9xzf+6+DNhMXn7Dh1NwlkF1tTSWA92TDgrj3LOfItVhyOQrdsJU97sBdPcx9i31w9J+Zqwb+vFYl8q9KBhgw6T30UHhaySSX10mPZ+OXVKtqIc9uwmEGobgTzEXL+HWO6jzMEbvh07w/X50Zjr3RZuZtU/JVOceyfmg+vFF0bhLLMn0GWesDXITUZxiOTXucwwVltTE4Y66lBnx8mJCAFCQHUR4H4ZJTJjMTG5Cwgi5Qjk5mTj1tWLaNmqNbSsKhKhMgMX9hxDOLOqUbMAgr6Zi/HnT8Iv2hg+L6/E8kVdSOOlHOpaySXBrFZgVew0H6npzP8Yy8q18sHwMSPRRLx55CLqdgDUPTxgVfAmkpcQjodphmhqbywk5vTwQAQn5MPc2R22+op9lp7mP1bmdg7o7Fuaern0tk9TSUZ6Ko7u3gEnZxdotfeGo2PTp2n6NFdCoMEh0L17V6hr6SKQmR241kAQ8AYHQCUYfhR0H4E3/cXffU8PDHt+cNmt86Jw414si3ypAVuf3mjfuRkGj34L37V1hXnN6w/K5oVK2VlXolpGQANNPFxhzF7uNAKPYeeFh4gMuoA9S8dh2NhF2HGXey1LwIWvXsOUl4ZhAAst8ur+eJH319tDMWjwAuyUHw4om1Uegok7lk0kb9hlA8VKH94LQA7z9cYDux87fqLc+lSBECAE6hcBG2treHf3xeCXpsDUwrp+mVHx0YPu3pJzaG5mJk+XmshPQzrzP8b0ZTBrNxKjRw6Cb3smlKlHIiCAC2wKlBeH28eP4Ni1SIVMStYkAiSY1SSapfSlO2Qe3u7XFHopfvhhdE907T0WS/4zw/i1GzBH+IIxRZtpK7F2Rnvo5yXicVgq8rNu4lpgOvLtme8ZG+lwAIt9+ct7GDt4EQ6WjMqEX3/bhR9Zn9f8LiCbHY8mKh0BHqxcIjL6l5Cgb0JA9RDgRv+5OblIy85Ddm6+/JSh6nGqOhx5eDH/mE2dxClMb6+25TOm0QQersZMLMtFyD+/4tzDCASf/w2fjB2KFxfuxB3JcQDvKXIXPpw6C+/tCS2/X6pRJQRoK7NKsFWykWYLvLTpBAbevQL/0HToNPGEt6eNzC9MQVf6xrrwv3oHKWrWaNHGCmoR+3A7Kg/az7SDFz8cEH8G61fuxIlTh3E+sS9e5C83ChTKvWHHc00bcP/GVbi3Lt/YU6H5U5fs9uxg5CVHI+huAIuQ4PnUzZ8mTAg0FATuBwbhr78OwaW5B5o0b8Wcy5I3rPLWzt7RBT19PJGZmQF9vYrYmBmxAORvof/15Tjq9zVe7vE1s0A3geuzs7Bm5atoJekG2MD5Ot0x88svoV2BAwXl8UnlyhEgwUw5LrWQqwWzFp3hW1qosrwIXLj6GNn6vujWXguJey7gbp4m3HzaQZiXmbXH+A/bw/O9izh3tCR7CWwbU1tbW4QpsefesLUUwjaVrP7U53Cz4eYujuwt0empx4IAIARUGYFr/v7IYDsAd274IzM7F95d6QR1aeuVn5cLNeZU3IgdaNJQV6ugUCbrTb3FBKw5NRiBl/wRkq7HosZ4w9OmqLPt/MAdmDn2A/wd64Zpfw1Bz9IYofxqIUCCWbXgq8HGWQG4+zAH+Xau8Ew9ha82nmfaMws0b22JrPRsFqRXl/0nyyh1wLZtWrF4mK64cvMOTCvg6T+DBTbnoU1u3LhZap+VKeAKvNSEOEQ8uFGZZkrrxkfKVORPHgeJHxmllSqRmZ6cgBy2FcIpm71BRkeGoYW7O53ErASGVJUQqA8EeMzf6JhY+dCuHjxsGlFpCATfu43A2zfg07YtzHzasJP5RQWr0trJ87XM4da1D9zkGUUTas6t0Yw5ND+S1xKdmimID8zu7MSKBVinMREbF/UpshtUtAe6qggCCshWpDrVqTUEtJrAxUEXGgE7MXNCAJ7v0wkmwZdx7dtZeKPfm/hytk+5N3tqrhqc3Su2LfcoOAgJT+Lw6iszamxK9y78A/5XU/TvT5/XVFdyj9cPH9zF9QtncOP8GXTr2gkd2rersTGoI0KAEKhZBHhcx1mvTMMZ/wD2QhVBnv7LgTf47m2kJCbg1KmT7MUzD127dC6nRSWL4y7j+qNcqHdqpxD3Mg/RexfjvY3H8LBrv6IHBSrZPVWXIUCCmarcCRot8fqu43jmQQrMm7vDRjcDU8cEId3GHc4K/s7y8/Ih/hT4PnvuPByZ24dMTWOF3LKT0+a+JX7oXNybl12xgqX3bt2AuYUVLG1ty2xx+vAfaNu5B/uBNS+1XmpyMh6FBMOJBW3XM6iIfUSpXYmCyMePkck0hJyCC0IwpaWlIje3yFkjUU4fhAAhoFoIpDNlt62jq/grj7P42GhRZd+Gr/Dn5u/Kq15uOfd1yOmXn7awz7L9pnFXRfygQlmUk5PD/K8BI54fUla1SpXd9r8i6qemJAmhjF/w0EtebWo+kkmO32XcydaAk1cnSE+b/JAd+HCPPjq5a+JhpTinyqUhQIJZacjUR76BHTzlB2h0YaPoqyc3EAc++x6bTzG1froftr79EbJfXQhfszicPHUGYH+W1rboOWhEhRwv9h86qkZn2J2FfiqPwh7cw/n8PGSwLc/nRo4tr3qNl+exH1kb+yZsazgd2VmZ4Nu/RIQAIaCaCIQ/jkAO+z+rYVJx1ximFhZwauYOB0cnmFlYVntiT2JjEP4oFJ5tvJiz7tIfl9y2K4+9/Gnos32+Mujhg0D2QpgDV3aQoSbo5tXL8Gov04oZGBpj8JjJSA5/gPS0NOgbVND5ZYUZYSc2bwYiSc0UnX3MERYUDWfHJ9j0vyNwfecdaC7Yw3rKRyY/hMZcdFBkzAoDW6Ji6XdaiaqUUa8IaLhhyLtfiz9FPg4dvi6/1NHXr5BQJm9Qx4mLJ2SnFoICbrH/1PfRhGnE6pLUNTTh1akHnn/WFzHRMSxgefW1cXXJP41FCDxNCJw4fRqhLMScoakZ2jGDf0tbh3Knz1+81v1+oNx6NV3h2L6d8D9/GhNnLISpZcUFyZrmw9xYHy2btK/pbgv6U4OxlSl08oNxY/VCfDPsDSzT/xZrAlPg890qhEYwLwJPtmHiaD/M+PMbDK2keVstMd0guyXBrEEuWyHTLVo0R0JyCkJDQuDcvGVhgYqlYsIfgds/SHTq0D6Mnb2gzgVJHn5JR1sLTZrYS6zQNyFACKgYAvHxCUIo42ylJMRDV1919S+pyYm4cfEsMzHJw5mjBzF43JQ6RzM2OoK9aOrD0bQ2hUJ1WE/biKOdA5Fu1xJuFjwkwAb4jWFfuXfw1YDBuGk1ATt/eRll6w3rHJ4GNyAJZg1uyYoy7OriDE0zW7RMTGYnNw1w+dxpbPnhazTz8GSq7Or/94h49BAJ8U/YFqtP0YEreRVy5ybiYqKQmJQELbYlcO9+IMIiomDC7NKqShnpabh/+xbGTpuJ7n2eLbObR4F3ERMZjs4s/BKMSSgrEywqJATqGwFmh9XS0xMB9+7BwsoWhirsu+zyf/8wB7gyW7QA/0vo3Ld/hbR7NQnxlTMnhAB718kJA/o/w3YSK+Dtv0oMGMBBiY/M/OuH8F9YLjTj/sGe4LGY6EKiRZXgLWhE6FUHPRVom5XDbLay86FXYNtw58Y13GPHpe/dZm4wuJVpdUkYs+YjgPkQqgniIaNE8GFmnPowLKxaXaox3nh/N674lSuY3b9zAwnMMDjk/h30f/YZtPNhAhoRIUAIqCQCZqam6Nt/AJr5dBVOUjmTJ/8+jN3bNsK9VRXcQCiZJT9glJ6ajOat5Ia9SmqVncXDuvFT3tx+NZ75ktRhviS/+N9CNKtGn3zE1JQU5vz6DqbMeRPeHbuWyURM1GMhlPFKj9hvan2YaKj5vIl9AW+WyScVVhwBEswqjlW5NfPjb2Df5lPQHvsqBttnIerSv/j3yn2Ex+fC0L0Phg/zgY1GGi5t/gE3mDO/l7vZgiuDq0IxMTHYs+8PNGvhCWvn5kJbxvtp7tladKfX4TVomDWrStdF2mTe+RXabF4bf/q5SH5VL/jR9zbtOuOdpZ9XtQt5uwdsa3Te1BfhoeQNTl6JJZLi44RQxvO4UOju5qZYTGlCgBBQQQQSM3KgpaMr/jh71y6dR8DN6+JPvNxVk2fpBKX/5UvV7KmgecGJzOjoaFytgT45fwEsEHl5gpm6mgasbO3YjkAEPFq0qLzvsqRb+HPjKWiMnYFB5tG4efwkLgdFIiHPBM18h2BQawuop13Ath8C0XzSS+hsTZEca+aGKb0XEsxKx6ZSJflBOzH/7WNwX7QKs+1zcX3pELzwcy76vf4y3G9uwGfff491p9bi8lfPosOYoXj0/jxMvvwu1s3xqdLplWv+N8DtMC6dPwfbsHDwEENEyhEwMjVH9/5DEBNyVxx4NzKq/hav8pEolxAgBKqLwF72wmlsYgpz5xbgJw0lasXMKQ7+/gvmvfUO7Oyrb46wnbnAeBgWicmf7ZaGqNb36tnPonev7njllenV6oc35o6/P1q2HO4VcKhrwU7jDxnxArSyUphD7soJTfnBv+OtBUfgtGAlXre6jJX9xmFTXh/MeMkRN7Z8ja++XIdRm47gC9/OGDX4ARa/9gou/+8HzG5Dlv3VXuQyOiDBrAxwKlzEXFmsX7ARmLMbr3fgPyS50HfyQq+ZQ/HpvN4wvBWDIydX47a/HytjtlD6LTDis//h4Yi3sKLDPnzctXI3OX+Tuhf4QM6ecwvVNfqXM1mPCf523czFGT29W9QjFzQ0IUAIlIdATGws7t67L6qpXbqE58ZOYhqgmnb7UB4XDa/cVFcTOkal+4ZUOqPcIGx+ewNyX/8d87qy51ZOFOza9MTkUV9iga8Obkcfx5kNwbhyPgzw9YB+y3FYtfgxXnznC3Tc/z468hjORLWCQOXE61phoeF3mnthK3Yk9cG0ntLbnQbcJn+BDQuYUMamlxUehYR8Ddh16V04WU1PTBxhjsMb/0JCYW6FUlzQmD5lIjr16A0bB0fYNXGsULunsRI/IMAFWRP2w0VECBACqo3AjRu35Axa2zcloUyORskE/107d+wvPLrL7InzZIcPStYqPSfXbwu2sefW9F4Fzy3NVpj03Sa858ufWtmIiE5EnqYDOvdylnei2XoCRhoexNrDyfI8StQ8AiSYVRvTXDw8dQkJnu3BHB+XpJwAbPnuCCufji8WdVcoV4dZxzawun4afpkK2RVMqmtoo4l7K7FFx4PWEilH4OLxIzjy+8+44nceacyxLBEhQAioLgK9e/bAswMGwtLGDhQXs+x1imYuiCJCQ+B39iTWrd8kDkKV3UKxlD23Tl5CUsuOcFPy+Mi7swmr/0mH24zP8H43hR0ddQt0bGsE/1NXFTujdA0joEyUqOEhGnt32Qh7/IQ53rNBSTCT4LdiPtZmjsH3295FD6OiWKjZWMM04SYeZbN8naJlpV3x0zpZ7CRQrpbq+vUpjfe6zk9JSkBsVIQY9szZ82jTujULBE9OZet6HWg8QqCiCGhoasDGyQ297F0r2uSprRdSEF6OA9CsmYs8HnDFAJE9twytrUs+t5Iv4NP5W5A07gdsX9gFRR9bWrCxNkb83ccVG4ZqVQkB0phVCbaSjZhWuRjlIfL3hVhwqj1W7ViMftbpuHvibLE6LO5lyYbF6hS99Lt0FWvZ29H+PbvA35iISkcgiflf02RBkDk5OjnC1NSk9MpUQggQAvWKAD9pzt3/pGVTDNuKLIRX155o36mr+F3z8fGqSJOidfizp/jzJy8cf7y1EEfbrcL2xb6wSgvA6QuhRduxq8o+t0p0QBllIlBSyVNmdSosiYAW7G3NkPg4CnyXXyYGsBs35GcsXHYC8BqAIx+9jcNZD3H+jAVOX+sm7yI/MhoJzFOzg9RIXqI8IXx23ZTZYPCj0c7NaWtOOVKyXHsnVwyxtUZi+EPwk5hJLDg6UfkI5LG4f0SEQF0iEBUVjc1bt8HC0hKOLVrDRYWjmNQlLmWNxQ9F9OrRBf16d61CBBUt2LLnVjJz7VH43MpF2JZ3sOQkC4A++Ci+ePcIMoJO47jVIvh3luyYsxHFbM/MbKp/KrasuT3tZSSYVfsO0IBLD2+YLLuM+zkD0FYgmoEzX3+P0wmpyPtvD6T3jTybFxRGy0O83w1EthyOjhXcxuSBaS2sLJD6MBXa2jpwcCZ1vwKgSpMXjv+NiAjZdqbSCpRJCBQgsG37L7BkQbCJ6g6BwYOeg6WlOa5ekzmwjmOnMrX1Q0gwK2MJuLYqIy0VZqZG0NGs6qaXBlzZc0v/4ysIyu2HVtzOLOMkvvvhNBJS8/Dfb4EFHGjAbKx0qI1l5cXB70Y8Wo6pgoaujDlRUVEESDArikcZVxmIvHoKZ28+RrK6Ody690V3Z5k/LI3uEzFGby42n5mLr3rzPF30+PoiHnxdRnc5d7F9XzSeWTAYFT3kbGBoiBdffAE3H0YjmW3T8aDcRMoRCAq4wZwu2lfS7kJ5X5T7dCCQzWw3IyIjn47Jqsgss3OyBCd8N0Cd+eDi3y4tWqkId6rJRmQY2305dgiOzs7I7dgeLs5OZTCagZjr53DuZhiS1C3RolcfdLSXGfNrsufWWO352HpuNj7twZ5bun2w6nIIVpXRW17AduyN7Y95z9VWyKcyBn+KiujJXoHFzri9A/9741PsfWyNZ0Z2QsaRHfjwQ1dM+PkglnVm6i6Nlnh11XjMfu9tbLT4FNNaFzWXLDFEZggOLVmCUz2WY70Q5ErUKDUjOT1HOF1UdLxYauWntCCNhVm5dv60sJ/Q0dEB/yOqOAJZWVlyGxI19RoI61XxoanmU4rAoOcGwN27E+7fuytcAD2lMFRo2sEBt8T/z4fBwTA3MS5VMMsK+BVL3liF3Y8s0HtYe6Qd+Q0ffOiBV3fux7vezH5GPLdewmvvv4NNpqswtZznVlbwH1i6+Ao6f7IGvcm1XIXWqqqVSDArD7nw3Vgw4QMciLPHqK278EVvbfwTcxCnDgTh/Plw5HVmp2FYH5otp2DNulbYuWkrjljOxgDb0lTMGbi8fQdC+n+GrX2dUNEzgv7XbyIrKxNGDs2grkmCRlnL9pCfViowarWwMMfEl8eVVZ3KiiGwddt2tv0r0xzZWFc9yHyxblX+cuwYRVMDlWe3UTBoXhBsO5MZ/Odr6sKtJW2RlbWw3P4zhz0HJPLxLgWviH1Y8PIi/BFrh2Gbf8M3ffRwJPYwzv0VgFPnY/GOt538ubV6TUv8wp5bR61mo79NKc8tFpJpx/YI9P1yE55xouePhH9tfZNgViayGTj/1Zc4FJ0D9a5T8CZzIJsf+jv2XIhHroYDvDrIbm6pC3XrThj3bifpspRvXbSf+h7al1KqLJvbFJw5dw5JLEiuusYpdGfhl6zsmiirSnkMAQvmA8mhqRPCw0Lh1bYtYUIIVAgBZ6eytoQq1AVVqiQCkVFRuP9/9q4DPqpi6//TSe8JKUAIhFACAUJvgoCoCIqiCCiK+mxP9H1gfXZ971mf7SlIFUSRIh2k995bIL0npBDSSK/fObN7d29Ckt2QJdmEe/Lb7Oy9M2fOnHvm3DMzZ85ExcC3czeawZHFy2ognjsluynFrBwx/mHYVuQhMT4RHrUOnIpx4ruv8Fd6OUwGPoU37nJGVfIabDiZQwFj2yO4j4swyiSemXoOxPR3Bko/a/+2GYin39ORp/aSytVb4IBimNXHtOLj2Lg3BeT9AJfyi/jfy4/ixKHzuObUH1O++AQfDG0aRRIXnyCMMibV1IQC01LMNAXq5gBHDO8V2ImCVxfCuk3TPKO6qVHuKBxQOFAXB86cOYdLtNPc5NhxBIUMQkDPPnVlVa6rOWBjYQofegf4tK3jPVB8Aht2p9DBgPTeqgrH3FlTcOLAGaQ59sfj//wU77P7jQJGzQHFMKvv8aSFIuI6xRoz9UHv0cMwpLMXHn87CEF+TjcH5asPTyPveVEHvGvECJy5eAlu7m1hbq5nfI1G1ttSi5uRW5SdlSlM2+jw9WupDVTovsM4kIew9Uuxz+ZRvDzOi9pegczzW7HlUAJK3XpjzIPD4U8+PyVHf8X/4rriyakDUNeKlDExrri4GGHhEYIkXhVwdHUzJvKMjpZrqckooJA//YK7109b+iX1e8sXvUf1R3//iXhkTjB6+TtrwjlJCKoyL+PgqTQ49BmFPnW630i5le+m4kAdC8pNVb2R11NYhGKKwQcTN/SY8DAmjhuG3mSUmaaGIyxDFgSxPAdXY1ORK4V/KkhD9OUriEwrNEgDrSlafdfg3rhn0lQEDxpmEJytEQmfi7lrw0rEXTlP28mLjLeJeZex+duf8VeqWoYqMnBp4xLM/WEBVh6KR4GgvBCnfvkay09l0IytAncsByrisf6VZ/Fl8gA8OkZllCX99jzGP/YlDhXm4fh3T+O+SZ/jGIm71ZBJmIAVePW5+bhgxOIvPUsLGmCOGT2KQgB5wM7BCTzTrUDdHIi4cBZnj+zDssULNQe915q7QHpvuaPXw49h0v0jEUJGmdnVcIRnyrVJJa6t/gDPvfQRVidJL69aMSoXm5gDimFWH8PbB6KTgwlMKqOxd9UJJKbG4vSqf2HGxCmYsyJMBObLP/wDXn16Gh4eMxRDX9koDiQv3PAWHrx3Al5bm9nol2pFeYXYgZNbrOo4ZspsWZ1PLCEqXIQROX38KFavXVdnvua8URW3BrNnfovYQZNxjxd1v4o4rHpmPB798iiNhg/jxxn34aHPT6AINug/+X5Y/TYLM+dfpN8K3HkcqEDiwrfxvzYv47tZg+DOsaaKDuDHb/cgtdt0fPzGO/j3tCBUhv2KH9Zfp5v2CJz+BT7usg1vfH0aWhdx4+QcH7/UtXsQ7npgMkY98IhxEmkkVBXcyEUGzZgxlJSUwr2+eHua91YU9q48qXpvrfwUT9B7a/bKSPHekpplMfxFfP3tZ/hbL2UVRuKJMXwrhll9T8HuPsx+cxzaWRbg8g+P464BIzHlk72wmjEPv7zaQyxn2vV5Gv/5+UX0s6qk6P/JuFFZgksXolFs6oWeIZ7VnCzrq6quexwNe+WadYiLiaIYP8qopi4+8fXkuCjN7Z5BRhgLqSIWv7yxCBWvfIPXBrsJ+Snf/yO+25cF/yc+xpx3SHn2KEXU0rn4M4uaYt8dj335HoK3vIPPzxj7a1bDeiVhKA6UnMYvK3Iw6pnhcFTjrAo9hNNkg9n5+MGV4n65d24HBzLbI86Fqg0xK3R9+kG4b16CrfmGIsTweHjAyZBTzHHn6cQUJaSN4ENd/yzoaLluvfvB1tYO7dq1gwvtNq8T6L31f3PGwtcyHxe/naJ6b/3rAGyfmY9fX+4q9A4vh8f//jeMn/AcZs09ikLFqalOdjbHDeVx1Mt1C3R8cj723R+B0xcSUWjti259uqGt3J/c1gG2p87hSpEJ3OkoEQ+k4a8raSi3GYWQnlony/xLq/DlJ7+h6LnV+GqcfkEykpKSkXn9uvgkJSVh/JSnYWrFw+a6IYpi3DAUnZtPx3Q03u6uqihHWVUFnpo+te5KG3CntKQEh/fvwsnR/RpQqvasleqQGBGXL2HkuPEYcf9DyEmKQUxUBIJ66PDDqB3lbb1acWoplueNwg8jHNT1lOEyOeVeM7FHTz/aKUUxwzq1c4DJpQicCS3BkyNIfqx64OmHHHDPoh14PWRijQOFbyu5CvJm5kBV3GGcKuqKVztp1XQFHV2UVWkCKxtrMegzoaPGrE3oXN4c2nEn0evWD8H2i3DwXAkeHq7VQdJtY/jeum0HsnOy4dOpG3z8O8PMzDhmbCrKimFmIVfwxsAtwJKOX+o3cBAmjBkOPgGmfrCA/9MLsX+C9N5qh+59usKzWrPM0CGoE+mTPXDoEYJO9b9W6q9OuWtwDmh7vMFRtx6EZq6BGHh3YB0NIqV44hySK20wcHAIrLI34nhUOaoCe2OgsL+ycWLeF/hj3yFsP5mHIU/UgaaWy4lkjEngQ+c+6jOqDOjaAx0DusC/S1fY0OiqsXA1KRF8GHjXXr3rRFVRlA8TyzY6TyIoLS7C8QN7YE4nFjg6OaFHv0F14tTnRklREdgQ7RbUS2S3tLDC4AF9MXRgQ4KR6FOTIfJUIOHgaeR1n4POGiVYQefO5dDY1QrWNioj2t6W+FiVh9ws6TVLu3D794TrosM4UzoRIy0NQYuCoyVwoCI5BZkOHmirkRcV1SaoQkVFlcoQq6TNSXTZwkKmys094emYjdNJPBtlfIZZEfXbiMhIakOFiJdn4+gENw/2n6sfwkJVxzb99P03Bhl0VtCgkwd3c18cLSrmYMp9goJw7tIlKQxi/QTVuFteWoy9e/bi4IGDNe40/GcVnYDAEEMxGfuSX7GJiQkc25iL0xH4BBh9QNd7K+f0BSRUWqFn3z7V4mlWZe7Gl3OWouypRXjv7mrWnD7VKnkMwAFZbzYAtjsSRSmuhCWinJYuOwcU4MhXS3C00AQuAUFwKylGmbUzgmd8hJDA93Hi5PYGcWjokMHwau+PMxcuwtevs15lBwwfCf40FZTSzqoFn70LX29vPDTzpXqrvZGThSpyWGZoY22Dv7/9Yb359b1ZTpHq88kHw9udZp1IgRknlCE5JQt2Hh7qpQQ5lZW0TM2vVxPxoqBwxTCXGWAmdBC78/UwJCor2XKm3QFpNrpUhpfUWDPvtnAxrUJivqofVdEuvYIqM7j7drh5x50w2aSSxvOdmJgkjl5iiuydXfQyyjhvj159EHr2NALIL83KAGFwkuNixexTQI8gRo+K4gKU06khY++9j0Kq0TbXBsDlk0dxnVY3LC0tETL0Llg0kr7C/BuIpVMQOtFh7kd2boGllSWG9u8Du3qPX2oAwSjFqdMRKDHtgOD+0gw+la9MxZZ338WivZnofY+icBrCUUPmVQyzRnPTAu06+aBN5WWse34GosePwGD7GJw48QNemnMFr/33ZfSjWRCVJ0XDKzOzdUTwgGENL9hEJS4cPwCeuYoJu4TUhFh40cxeXWBGfhIS8GjVUBAfE46LdASTj48vhgwegE7+HQ2F2rB4eOlVvfyqQmwGb0/aLVV1Dfm5bJgBN/KLUGnqjnYdtLxS5aUXtDSJprqg/G/lHDD39oJb3lWk0fsxWK2pTbqPwAC3JYiKDkVk+QOwvRSDfLMOmDAuUGvwl6cjPccJXt7Gqd4DA7tg5nPP4ujJ87B1kLzndD/MUfdNAH9uB1SUl2HR5x+A3fIo0g6e+7+3aXAkGx3pqHTeJ2+BjSmGma/8A06uHjpK6HebB7O71q8UmVfFxeClF56Do6P+PKuzFtp0dDkqD5VOdyHELRlxGe3R0aMKKb99gtV2/dHFdFudRZUbt58DqvWT219PK67BDF1mr8LebRuwZuNGLH/vQ8zfvR1//rYES+aSUaafO9lN/AmPiMCNghKUlKte2DdlMIIL5aTMzhzap6HkIPGgPjCX+ZFUlBvQMIsIE9Wm0OaLa9cy6yOhGe9ZoG1bZ9zIzJAZ6RboOrI/PE0KER0ahXJWljE3UOU3AvcFal+qVWnkV+RMASW1l5qxHUrVTcYB/8HoYx6BU7GyvtJmOF577xF0TVuB16ZNw0srr6HbC59gdojMkM88jYu53TG0j/EuQ1VQlP/ufQegQ+e6XESajMuioks045WflyvSBTfycP7YgQYRwAewSyAtQ0q/G/N9NTFeU5wPKzeIUcYYTRzh5kxuE4WnseCNH7EnvRSV4Yvwwc5AvDHTj3PApKoY2Vm6/NlEVuWfgTmgqPpqDK0ZyJFvFiN+22/YZXkPZo5uT6NSji81F+FBMzC9v4d616UN2vbohbZqXFbeXXHTnkByoK+iKY9qEybV6tb+SEtLx4aNW2BOM0ztOtFI2Moa/3zlOdqJ405+Y7bajLeYys/LQQ45C/OxRey7cKtQXFiAG7k54ECRjMXqxEns2rGDfOFqfyFwEMnMtKua6iIfn0jp6vVXkm8FH6U09oGH8Oo/P9bkrSvBy5jSsgYrx169VMsSdeVvvutm8B/WGzb/PovYijHoofYbMr/rH/jnw2fx9opZeOKSKSKvB+Nv/3sV/TU9sxLZpy7hWtBk2vnbfNQrNd8+DpSkXcLxY5eRlE+R2rsNxah+PiqfnzZDMGOyFV749Rj+8dlwqDyLTOH50NfYPno2wqKvwaJdVwS4yQWjDJHLNyJ53Bw8YICJFUO3OiIyCl5eXsgvqeE4Z+iKGoCPZ+9P0YYkOZyk38GDRujl18vlTGSGGfv/GQoCe/VFB9qFmRR9BV26dDEUWjpCxhtP/rILfWNK0La7P1wtsrF+5iJE5Adj7ufx4PNuzJc/ickn/44tP4yv5oNmOCIUTHVxQKP+68pwx1znQI6vvYFNgXPw5csqR9SKlP2Y++4H+HlvEqynd8cMYZip4kvFvUfxpc6+i59f6KVDaCsQu+G/mLvkIDIrC3F+8Zv4uPQFfPhY3QbEuQsqJ9fysjJaJixElZkZ2JfL0tIK9g2Y+q/r2RXmFwh8ZeY2ZFhqR3p15a/rurm9LZztaR9qfAQpJsDZVzX6lY3vbyoq5eEbteWrMCkXtHG79QFebhh+74Pkd1OC9PRU2FAw3uaGul605kNn4HHLf2DZsZfx5TDVa5YV5Phvd+KulHBEZ1rCt2tnVHvPlofjtw2ZGPvWvXBq7oYp9RuWA0XhWPve6/h8fQIc734Qg/J2YuW7H8Lv1T+w7fXe5DNGs/GvfIaZL72H2Uud8N+ne2p25ZrYe9NOO+8a9BQjccOHeO/sMPxn4XA0fghXA30jfxbkF2Ljpi0Cize5PIQMH0UrDZuxaeXvCAwKFv5ZjawCCbHRKCXf3oBudevXmnVcp8FiPMVArAmfvf2a2BHv5uGJtt6+NW9X+x0aSuFKyKWD4beFP9W68Ypn5OKiI/HyG++iW3DfauXr+9HJzwe9urSvL8ut3bPzQY9gqagzJv1yCpP455WvcP99P8PmydX48wm1npKyKd9NwgHFMBNs1gZyXE+BHHmgWXl5EeZ8m0gBZi1RQgMgG3noCXV8qeTJb+PzfuvwcYh8xFrzudFMyUNv4mv+1LxVx283Ch5o5+BAU+t56EjOn0WkaBgmP/EM7iYjpLGwYslcrFj8Eyb+4yvyo6h9dqshdaz65DnaYm6Jh974viHFas1bXJCHBbPuQ4dOAbXer+2iPTmFuFHkcDfXZjZddL1ozbrjxS+m4u/vvoklTl/gmSB7dXNMKS5Vd/T2qdG64jhsff9DHL3rUywcZmyv2Rq0Kj8bxoHKNGz5v6fw1tZrcJmyGH9+PQp2m7Ow9fgWRBw+geuze0OckGPVDTMWzkX35b9g6W4PzBrjWWc9Jcf/wPLUe/Hl0lHwq08l1Ynh9t44f/GCxun/Bs3ac4iMCydPIPJKKKLDrxikcp5xZwg9d6bR+HhXPOOL5FUF2YyYLsQJycm1ZjGhFQPGFxMZrpdhlpacAB/f9uCzMZsOyhD610Ek0gqP+c6NiJk6XQml0XTM19SkGGbMCimQ48/aQI6mPZ7Dd4voHOzfZ2Du+hgNwzSJ2xhfqn+/EHh26gFWDO5tfWgUqA2cqqlfSSA1MQ4FtItqSB9VuIxmZYmeL1rz7jMx7+fu+GPJMux0fxn31HmoYSFO/74Cifd9jWV3dzDCoAfNyu0WX3n5kR/wxfZUlLUZgJmzR8CpIgUb1p9CXpU5vHsFw1n+LjbzRL+n34auyH9Wg2bi3UHGyxpnCpHj5uaGzMxM+AeqnD26B/fBri0bMPutf4p7jaV+KR1XlJaaiilPPNlYVKL8wrk/YsjYyXhg2qxG4ws/dxhLv30bfp11L0nmZmXi6K6taNPGGr179cTIkcMbXb9+CCwQ9PpmhL6uX24l1+3hgGKYEV9rC+Som923L75UaXklisnp38Or/ulz3TS27hzhF88g+1oGrpw+jokP3E8+GPrPshmaMw150Zp6DsT0dwbqIIECSj77rs6XsQ4kym2j5EAxTqzbg6u029LEFYj9/lVMP34QpzIc0OeJz/HpO4NapSHevXs3cnfwR3zSVTi61BO53iifWdMSFasOFF5MsR8zr2fqXXl+6EYsOdQGk18YB2+1cV8aswO/7TPH3TNHw49c+1raYfd6N74VZZSPy1pRsxrWlLoCOerCooovlWqw+FLXaCS5dv1GXI6Mpk0ChnMg1dWOlng/L/u6MMqYdg5U6eUlbb1ojtbIXrQUEki8aO++F28esxQv2qWt9EXbHJxuFXVWpuNSJJ+ja4a2fShcwcDx+Ns3FJj64hH8+dlj6CZ3k6y8jiv7dmDP+bQW3/QKitV3o6QSrh5tYS4P1NfiW2b4BnBw8DbqWGp9gjWOYPVUVIGk1a/hGXK/6ffYaJVRVnYVh/77DMbd/zw+XrxH855qaYfd19PoVntLmTETj/bmQI76P3HDxZc6f/4ioqKixad9py7oN2KM/mTcYTmtbGwR1G8wrlIMM2dnJ9jbS/5azcCIm160nTD+sTn4Xy9/uMiiGDQDZUqVxsiBqkLyG+WBlwmc+z6Mxx72UW3BqUhDeLg5unR1027JSfsTHz3zBRKeXIkTvZtz8HHrjMwjX9ktW3egc7fucPDqQO5axrMj89ZbdXtLBgaHYNSwgUihcBn+nTrqrKwqdjHeWmCJ59fPwhBWheVhWPaPbxEb4AArdlEmPzkt19WH3SdNwatfh2Dz+/1a5QytTqYZcQZlxowejiqQ4zURyLHmsyqhsx1pxQEVZTcfIm3I+FJ8qO/lK+Ga6nnXkgJ1c8CKQnL0DQnB8397BhMnjK87Y1PcuelFez9GhpBRZsovWp4ZUUN5Dq7GpiKXBYqhIA3Rl68gMk2/HaiqQsr/Fs8BM1909aczUfkg6d2rcCwhFXHHV+MzCh/z6FsrESbJBzW0ymooXvjmG3w9U59ZE+PkzPkLl8hfNhF7d27H8T3bjZNII6PKko6HsrUyRyC5Z+gOaVSCc4tWIm300xgpjU/Nu+Gpnxbg4+cHofY4wy3jsHsjeyxNRo5imDGrawvkWHIC819+Ao//7zTKSIFmb3kX0579ACtjpCAPUnypIQaJL2VmbobHH3uEtnn3gB2dHedFMcYUqJ0DVZWqN5cDnR3HYGXVzFvQ9HjR5h/+Aa8+PQ0PjxmKoa9sRA7RXbjhLTx47wS8tlZmvIkWKf9aNwfsMW7OHNzjY4WSU9/hCZoZuXvqp9jt/DR+/uVlTYy7qugVeGHcRIpCPxcHirTzHS2JN+yScTH0soZkbz9lwKlhRi2JHApAfergLhTnZuhhkKkRUGDqQ6eL0G2gv/b0h1pw33RJHHZ/QRx2f9M95UKzcuCOWsqsK74UagvkaDUQL8ylT12P5zbEl3J180DPQXchiJSZ7lFSXYS1/utHdm6lrfamGBgSjC4BncXBvs3bavWL9uKn2CletN/RNKwj/Me+hJ8/f1H1ou3zNP7zsx/e7v8qNtIJBTcqS3D1QjSK6YzVniGe2qWr5m2IUnsTccA08En8fGg8oukg6fgia/j06I1untVD15j4BaEThZHaUdkdAzq1TFXNemz61Mdw+MRZJMTHoZ1/5ybicMusJoac/pNiosSHd+ePvnuk7oaUpSA5yx4eHg2UESM/7F53w1tvjjtjxozjS815AMOGTMOnW0MRvvlrvPrwGEz4+jzNhjGoAzmmf0eBHC9BdeJZPQ+d40u9o4ov9b4B4kuJ5VJayswrVc3GKUZZ3bznw8ozUpORSqcDbNi4Gey/YgygetEex87Vy7Bw2Wr8dfwU9ix4GUNd1F3M1gG2YedwpcgE7oFBoLC8OH8lDeU2XRHSUzvjl39pFT54dALe2KEKVmkMbVNouE0csHBB58GjMObuQTcZZaLG62dwMakCpoF9q8/K04aA/f+aiWmf7UNLkBI7Cood2Hcw7nl4mohddpu42eLR8ikmyXHa0EgNOfOX94rd6n4x9rBWwLg40EAT27iI14saPeNLQe9AjoaPL3WcjjI6d+4CfP27wL97Twou28yBUvVibPNkSqegixK0b9ceThQbyWhA/aKtfU6gEmknziG50gYDB4fAKpt24UWVoyqwNwaKXXjZODHvC/yx7xC2n8zDkCeMplUKIc3EgfJTZxBWZoYOwQNAm33VUImM9e/jn7TLLmHwGK3/onTbiL6LiuioNorNWlDZMpdhm5qVfIrJkHvGIz06DFlZ1+FHZ2PqBRZe8HLNQ2w6Dex71thtRMHJaSMsbQYoQ2lNZEZ+2H1Ncu+k363eMGtIfCnoFcjRsPGlOBL0xUtXUEybDKLDLsHZ3UMxzOrpgZ269QIbZFdjwtChg56Kqx58TXerFFfCElFOS5edAwpw5KslOFpoApeAILiR8iyzdkbwjI8QEvg+TpxUHKSb7rkYa020MSA0GnkmThjYxwXJsRnw8/dAVfwKfLTOBgMCzKEdohhnG07QgPP02XPwIb+yAFqqdXBxM05CjYgqHx9fDOnRqWHhksz8MTTYAttOJ6B8TFe1n1kJTv80Gz9uOoZTFBPTNG0zPnj8OoZPfQefPNpZlUd92P0EIz7s3ogeTZOS0sqXMo0/vlRONruBq8CCzsL09usk/VS+6+BAe28PjB1zN/mXtSRe8YH0PmhTGYt1z8/Az3YjMJh2UJWc+AEvzVmCC7Qm1ca2uo9RHc1XLt8RHDCBg7sTrKoKcGneW/j+AMUxI7/WJR/sgP+bT8FPrD5VoSQ7GwVGyA/eZc5O/+Xl5Uig8yHzsrOMkErjIamEBme8qcmxjZnwLzat7QioolRc3PUnfv9lKX4ngyte8+DbYNDMh+Gw61cc0VyzQr+//4SlO84iknbExiWG4dC6xfiPZJSRE4/qsPunjPKwe+N5Ms1DSeueMWsB8aVcXF3wwvPP4djFCHCUZzOz1v1IGiPm6SmJdESVF+wMcL5nY+i4tbLkxzh7FfaOo1kQ9y7o4tEGJc9MQXRpW3Txc6IDqxVQOCDngCk8nl2MnQOjUeTVHZ1dLXBj1XP4OTofff73BRJTK2GZtRwzHjuF5zd/j4lGZtPn3cijAKlWKCwshKWVNbw7tqRBlPw5NE364vFDuJZ6FX2Cg9Cvb2/Y2skPDy9E5O/v4fUvNiHOcwwmD7iBXR9/iI/8n8Oy7e9jiCXR2P1lfDHtFbz1+jI4f/UUesmL39QE4z7s/iZy78ALrdsKuCm+VF2BHMnxPiUJ+fa+8HZglhQiPSoemXCBX0Bb3O7jo/NLK+HVvuMdKH76N7mQzsQ8QmfHWZibI657V4wbO8YIdmPqT78qpw3a9uiFtupiVt5doToxUIaHDg+uqqq8ZUdeGSYl2eI5YAufIG38Mvspi3BqCjWqIgzfjhuPUPcnsfKPJ1DvO7iZeODs7IyZT8/EiSvRKCHjTAkqW/eD4NmylPhYOuC8AseOn0DHjh1khlkl0v+cg6fe3YpUn6lYsu4L3G2xDTmbj2B97Ekco3O9hvixD58VAp79GQt7rMCipbvh+fIY1HUMr7Efdl83p+6cO617KVOP+FLIOYKfXn4KT0wcjaHDZ2FtLj38nE345/j7cN+ctbimiQ5qeKGIjIpBQmIicktkESUNX02rwJgQScF3adtRWVkZrmVktkCjTNdjqEDshi/x9vcHkVlZiPOL38THq0N1FVLu34EcqLq4DQeSK2Aevhvr4lQ7uY2RDbnFZeK833Z0iokCdXMgjw4sN6MBJ4Obqyv50LbTZi4+gv99tZ2Cn9Nh5s+8RgFkK3B10wYcy6EXk3dP9Pdio0wCM7gOehJvvVK3UcY5xWH3L42Cn3YzuIRA+TYSDrTuGTPoEV/KqQ+e/GIeOv7fEPx991Uk5VegIvYCIktM0bZnCLwk0zUvFGs/+xSL8Qx9j4P8OLtbeZYceHH33n3Iy80Vzv6DRt2jOMfWw0gr6zawoWOXCm/cQHBwr3pyttRbZvB/6E18zZ+W2gSF7ibhgEmf2dgQPrtJ6rqVSs5fuAjrNm1g7uJLxWlbpgL1csDdyxeTpj+NwrQEWFhWd2ooP7oJe1Jp4G5qD9NL32LW5JM4fD4T9gOn47OP38UIxbiql7ct9WYrN8xInnUGcrSBg/VpnAsvQKVHIILdTZCx9grSqmwwKCRInCGWd/hnfLFyHw5vO4HU0dMM8qzjExKFUcbIigrzYeOg3RBvkApaGRL/rj0xuF8fXE9Lhq+PTytrndIchQOtgwPs9L9//0Gxy9zaxg7D7psIeyX8j86H62pvBX/3mo4NFBrlUiQyaaNHlU8fjB46DJ29puONoCD4OdV8dVciK/QQTqY7oveo3mgrTSjorFnJYIwcqPl0jZHGxtNUb3wpQn+V4oilVMCSAj32N8/G1uNRKDcLQEg/1byYQ98Z+KBfV3x07BTWNp4agcHO1hbdunVDZGQkfDsGwNycPThrh7JS1TmdSQlxuHT2ZO2ZGnA1I+2qyJ0ScQFmNUZoDUCjyVpKmxZMKU5OcvhZzbVbTZQWq86NLMjPr4bCjAbe9nQEk2NHxRevGmOUH0bHgd27diEjPR0d/Q3j8B4RHgZnFxeK7O7Z6LYWFOQjkQaFHTv6oY21TaPxpaeloaioEFOnTxe4wsLChVHGP3hVwM5OOryx0VW1SgRxEZfhQie+dHaTLV9qWlqFwqISEf61wq0Xxj/yIPyEwVWBDDpXuaprV60fGcXr3PDus/gkcxpWHlAMMw0LW2jizjDMdDyc8ssRSKAgiF50XEjJgW+w+DjNnrkGoKdrGYopwGMbGxtYFetA0sDb7u5uGDFmLDqHDEFlWf1+ItfSaas8wZpfF4pPA6uqM/vGb+bUee9Wbqz7ctatFKu1TGxkmLheTIbahWOH0D2oB0xcO9eat76Lvy5digXz56N79x6wol1ijYW42DgUF9G5dD26NxaVKH/h/AW4u7vD28e70fhu5N1AdHQU/vXvf2Pk3Xc3Gp+C4NY48M6bbyEzM/PWCrfAUnxSiWSY+fh6o3fvYFy+HAa/Ll1hYir3gWqBjbuNJBeTQXuedmNWUSzLy2096azkybSTVb691gy+Xf3hYHIFWVF7sfLERDztmYajv32Hr9cU4uFVa/F6d+kVTiEzXvka31n3Rh/p0m2kXUF9ezmgPELir3mHjvCxrEDoyhcxPXw87hrkgOgzJzDvxddx5f++xqy+8s5imAfCo8nc4gpYWJCxwJ96oEdwXzzxwivw9m1PywKO9eTU71bW9WtgY69Lt6B6z+TMoJ2qcZFXMHDUuDoRF+bfwLplC4QniZOzE8ZPe7bOvHwjOvQ8Lp0+JvK079INIUNGirT0r4KUVDSdF9dnwBBxKZGc/lPiY8QnNswfjz4yScqq13dkZBRSklOQnUezenS+ZmOhmHaHVlRUID2Ld4k0HvKzryMt4xoiYxMajayCZi2L6MiqhKSkRuNSENw6Bzp29KdNKuWY9Ohjt45EVnL50iUYNmwYHnr4YdnVW0teCQ3FwgULMOu11+DfqfEzen+sWIFQwikB78YMGTICHXoNQFWFCLYm3ar1+8qFc+L6t199bhBvNO6brFsXzvup1voaerGS8B3d+SeO717X0KI35ae91uJaQkwUgvr0QwINPtkoY+BA49WNMnEZbR6YjTc3X8DHu85g/mPDMZ+OD7QNGIu/zf8esySjrCIGq5+Zhn/uuwbfv2/BA8NUZZX/LZcDimHGz677P/DHgXGILnClqOwesC56FpNji+HRxQ/OGl/MSlRQh6/UrWt0SsOKP9bA3dMDrn6BsLPXbWg5OrviyRcMNxulk0B1hpVz/4vS/Fx0JAXu7l3bVDsdt0KGwJl920QJS6s2GDB8ZL3oLUyqkBoXKfJ0aO9Xa/7Bd2lne+KjaTemGvw7+klJvb979eyF3yn3I2//D85eHfQuV1fGLT+8hetX4/HU56vqytKg63NfGI3uwx7AXdP+0aBytWWOv3gMm757HQEBAbXdVq41EQfs7O1gScfrdO1mmFlVU5qR8vbxwbDhIxrdAskQ6NmrF/r0DWk0vr179iAiXNVH2SBiyKMBp5kZKU4z3eh79RuAuOgIdKEwMpYUYFtfYEPmypnjZACXkkFngu79BlL5NkiMpfAcdIpKQLea/lq6MUdcOI1CWupl6Ez02Du64PK5M3Dz9ISnN29kqBuSYsgXLF3lIuLVzg9t6VMT8vNyEU/5Oqh3qbp6esPXryOuJiagd10bmsw74/HF+zEu4iwuJBbByqcrendvW33zmVl79OxES8b7K9Cjf0d15P+atSu/WxIHFMNM/bSsvbuhp/TkrNsiUNavq6I24Zsfl+BAFu3YPLUYb31SjB8+4IBCDYek5GQkUiRm/pidO0czTDOFfxnH6VIPqGBta6eZySoiRSEpvGrXacNAldpK5KVWKU5QSWEBeNaJoY21Nc0SqR5xcREtz1aorlvRdSmQLS8VVpLDLgPvfBQKldIxYRfELBVfP7xjMybNfJmTpPSKUUEhKxgsaWnQXBYQt6KiHDyDxgqWz31jKCsrQVlJqUhbWFlW82krLSkS+S0sLGjSUDUrWV5eitJilU+dGV3vN2IM0mPCkRAfhyADLR8KYpR/CgcUDhiMA6V0APeCxUvRno5J8+rUHY4ubnrhvmfiI+BPQ+H8MdpgcD1VU6wb+Vvd84jKz01zsYGJFT9+idTEeFFq8pPPokOg/ob1vo2rcPbIAVF28Jj76czLB3TW7kbBsoMCOsCkjAwu0o11gwWcAwdiZGAdOSqzcPpSEsot+yGkrzxeQCVydn2GOUtN8fiSdzBWf7u3joqUy03FAcUw04PTJgETMed7/uiRWUcW9r2QwLuDv8bpf8efv2umtSdOf05j2OzesAqS8/99j80QRhuX379lPYrYmCMYO+lx2Du5iPTBHZtwIydbpO964BG4unuK9LE925B9LUOkh90zAR4+qhmw0/t3IyM1WVwfdPe9YJoY9m1YK775X2xYKPjwcE/fDrh08jAS6YgVhuBBw9DeX6stKuj4le1rlqNH34EIDFaNxiMvnkXERdVyRWDPPmTI0UhaDalJCSK/f9cg9B6smg1IiArHheOHRY72NLLsT4bZgK7tRQyzWo8pkZAp3woHFA40GweukDN6PoWy4aVS/oy4bxK5XTjAysZW0FSQn0e7z1XnBdna2mv0GA9IpVkqG9rFaaPeLMAD0gK1frOmTQq26pUFHnjm5mbjBOkzOVw+dQwBpF/snZxhRQNDSR/yQPIG5WewtLCEA60+MPCAMVd9TJSFuYUwJE1MtK4OOeRi4EguH06u7iJ/RUUZsq+r/AZ5EMwO+wwcFDYrM4P8TovFb/7Hs5I8mL5+TeUbzDN6rh5tNfevZ6gMSlc+F9mtFdk5AABAAElEQVTKFKZt7DT3bilRchpnwktQ6ReMgTRxpoHUjXj/nSXYnTUIw1Vjcs0tJWHcHFAMsyZ+PmNH340btOMwJiYWfWn62tNO9QhMiA7VQgDgbmtGx5iorpvyDTW42ZjTLifVdbm7lKu1OZzV181lBVytzTT4LWTXnSi/VK8Fb3dUg6OVKn9sVBQprerOy6f2bMWzf38Vbcy16xP2lmZo61jd/44Vkq2lqQZ/nIU2vw2lra20hhlHuGewttDmzyCcEnBdXg6W4KUcmkKULivfCgcUDhgZB2JiY6tRdHDbevSigVvnbqqYg1GhF2iAd0nkkQ/c4sKv0MDtjLge0LM3evZT+5bGROAy+fkydKSBWx/1wC05IUbM4POyoBx4aXPnmt/I5YJOb2nXEYPG3CduX09PxXG1EedB8cKG3TtRXOdBKq8EMDiTkTVqwmTNKgVfu3TqKNJpwHrPpKn8U8RPPLh1vUhzGJD7pswQ6RLakc7Xs2gXrgRsrPGqgpSfN0dMevol6TYOqPGEDBgEHwoBZGtno7l3S4m4K4jMAxxGBcMjIR7pfn7wrIrHyg/XwmYg7fivbsPeUhVKoablgGKYNS2/KcKzGXrSDsOrV1PRLcBPU7uNrQ04BhCDo40lLQeqDBhbui7NFDnZWMDWWn3dxpryl6vy21rCUbpOo8ti6yJx3cFae92O8t+gJUwGB8or5bezaQNr6bqtlbh+YPsWkU/+L+JyKLJSk2Avy89pF7vq8+N8Pp69jQoPl+e0hN+O0rZttFP2bHDxPQc6vFuiR46f89uRsaiAwgGFA8bNgYcnPYio6DisW68yXphaRxpcetPAiiGKBmsS8CyRdD1Bdt3eUpv/qqzf80BPyp9Bg7jczGsSqmrf+bk5cHJzRxsL8slT11tMg1MJLGkQKl2vzNEOEKXrVrJBJJfhwayUP7tcm5/HuNL1AlNV+2STbaDxM9qq65fqlvJLv/n7zMnjSKOViCefmCa/3PC0kxtcrKoQe+ZnvPnjRPzj308gf+kn2NTtdXxY+jb+ZIzF2ciqdIaLagKz4XUoJZqUA4ph1qTsVlXWNbAL+COHV156Qf5Tk37+uWc0aXli5lNPyn9q0k9Mn6JJyxOPPfqI/KcmPekh1QhSuhAbHYOwsDDpZ7XvTevW4bXXX8fYMXdXu25mZiZ2KvLFF597lpYptCPAIYMHgT8SXL54UUpSXCYPvDbrZc1vTgT3ChKfaheVHwoHFA4YNQd4VqhLgD+GDhmMqKhoQauLg61mYOXq5AgPCgvD4OLooLnu4mSvvU5paSDmQsugUn5XJ23+azSLVUb+bHVBEZ2k4kox3yQ8jjQbJeFxc3XWXre1ll13FdfNZcsQDnTKiLub6jrXVUGDRAmPnZ22XaZksPH1Ulp6zYHKYDQjXnDMRSk/7waX6GFcnqT3JL/hfiF9+VLjwHsmFuwdgKjStuju7wqL7NV4YUEEikJ+wmexV2l3bCZWTXscJ2ZtwLz7VYPzxlWolL7dHFAMs9vN4RaGf8vGDXVSfOXyZcTQMmenGrv+5IZZGW0AqK/rm5NDvwTSjJ/0W/lWONCcHCjIVwU3biwNHLLhToXhw4aAPzVh0MD+4E9NCOnbhxzW+9S8jF69eohPzRvmNFsV0q+/WEU4dfKE5nZAYCC8vb3Jh9WM6h+sud6hfTs8M1O17Ki5SAkv77Y3XWeDSoK7R96Fvv37ST/h6Oh4U36+ySsdjH8zzRSmJMaL/LyUyRuaaquXM8x8uvZBtSh8i/9sfHsgWCrr/Bjmn+NQLRWI/nw8xi1wxWNrf8dM7XhZyql8GykHFMPMSB9Mc5CVS6NNHvkG9eyJyIgI8E4rCfqGqJRUYnz8TYaZOR3AK+Wt0BEs14IccCUoVy/FSr+Vb8Nw4HLo5UaFdUlNVTktG4aaloPlf3PnGYTYhMREg+BRkNzMgQmTJmkuxkRHIyvruvjNAW595Id/a3Lpn2DdJwEbVw0Byd2Ey7C/m1FA+SVsO5BAu/GvYdf6WDw5nTabGQVhChG6OKA8J10cuoPu86hw1uzZosWXL4Xih2/+K9J+/v544ZW/18kJM9qlJEE5zZjVB+YWWpEr12HE1YdHuVc3By5dvoLrOeQNrIDCgVbMAbkxJIUIakxzTUy1fnDSUqO++KSwRJzfaAwz896YtS0Ms/RthJLPaDigfUsaDUkKIcbAAfnoUZeSMqMZMwl0GVu8NV0CZcZM4oTy3Vwc4ECwhga5wWBo3Ao+LQfkfDaEMSTXeQ3FJ3aOq0m7k5eytU9HSTWGA9o3amOwKGVbHQe0k/qquDz1NZD9OiRo0IyZjtk1Cafy3TAOBJIPYGC3rg0rVEduR3LUbq3AfkCz/2H4+YRQihYfSjPOCtxeDpjIQgBVqYNnN6ZGuaHX0Bk4U1kYoUr1CQiNoUUpe2dzQDHM7uznX2frTWQ7lOrMpL5hJlue1O1jJpsxU58goAu/cr9hHOjTtzeGDLnZAbthWJTcCgeMmwNyQ6pSHROxMRTL8elaJahZj5lsGZTP11RA4UBjOKBdVG8MFqVsq+OAfMZM1wiQd2VKoGvGrNqyp+L8L7FN+VY4oHCggRyQG1INneGqrSr5UmZDZ+DktEhH39VWh3JN4YA+HFAMM324dAfmkSspCrpTLwd4V6YE5TpGi3KfHsXHTOKa8q1wQOFAQzlQzVnfADshpfOGmQ5dg9GatFYrawBaauJXft9ZHFAMszvreevdWrkzq65pffmMmXTAeV0VsV+PBOxg21AnW6ms8q1wQOHAnc0BuY4yxCyVfDBa1ahwGcpS5p0tmY1vvWKYNZ6HrRODLKaPTsNMNmNWpmPGjKf85QqwTPEza53yo7RK4cBt5kC15UMds/r6kCL3q9Wl82ri4+j+EiiDTYkTyvetckArTbeKQSnXKjkgN550KSkLmY+ZLud/ZpZ86VPXDFurZK7SKIUDCgcazYHqS5mNn6WqNgPXQEOvmvO/spTZ6Gd7pyPQOgfd6ZxQ2l+NAyayU3l1GWZyh/4KPUJgsGEmzZSV3eYNABI9pcUFKKHz7BoLfIwUj4gNgYtpYd5WlJWipLDxtJWVqI4UUnaFNfYpN658Ap2OkZuXi18Wzm8cInVp9sU8sG8f4uPiGo0vOztb4Pjhu+9gT+dBNhZiY2JQWGiYo6waSot8xswgzv+ynZUNxSenRZkxa+iTVPLX5IBimNXkiPJbcKBajCAdo0e5j5k+hpa5mVbsym/zUua5s+dEe1Z98rxBn+z8V+41GL7QAxvBH0NBeHg4hg0fbih0Cp4GcoA3uPCZsOXl2iPNGoiiWnZLKytx5FlGRnq167fyo7ioGExfbk4Oiooab1DxAMvSyvBBevVpW7UZLgPMUjVklaAmfYrzf02OKL8bwwHtG7IxWJSyrY4DJrKNmFWVsh+1tNRcFs2/olz3koL8IPPS0rJaMBru0thxY5FxLR29goNh3aa+49X1qzMqOgpFhUV0wHIv/QroyHXq9Gl4enqgfbv2OnLqvp1DszQRYWEY2H+A7sxKjtvGgW27dt423ApiLQfkS5mGcP6XH2Le4HAZMh8zJfK/9hkpqVvjgGKY3RrfWn2phjjCmsmiXleU6za05D5mZXrkbwyzx44bB/4YK7xkrIQpdCkcMHIOVPfr0j0g1NWcasuROlYJauIylfnZNjTURk1cym+FA4rzvyIDtXJAPq1fawbZxWpLmTp2ZXIx+UHm+mwWkFWlJBUOKBxQOCA4IDekdPnB6sMyuc5raLgM+Wyb4uOpD7eVPPVxQDHM6uOOck9woEqH/4Z8BkwfQ0ue/3bPmCmPUOGAwoHWyQG5IdVQZ/3aOCJfGm2ooWcq85tVZsxq465yrSEcUAyzhnDrDsorXyao38MMkM+YSbsg62OV3DArLyuvL6tyT+GAwgGFA7VyQD5jZoidkI3ZTFAtjpkeqwa1Nki5qHBAzQHFMFNEQScHdI0e5c7/uo5k4srkhpkyY6aT/UoGhQMKB2rhgNwwa6izfi3oYGKqPfNXl86rWV5OizJjVpM7yu+GcqDFGGalpaUoLFBt7y4uLqat3sWirUVFRSgpKRHpgvxCsa2cO1VBfj54hyB/OM0jKt7azWkGLlNIZRkYH38YuI6SEtU2d87LZbhsTXxch5wmxlcbTYyP8+lHE7WxNppEG2+VJlUbmTaJT/rQJPGDeSKNRqvxScb3StmuzWK6Lue7xCd+NgxMg3zJQIqBVJMmOd/lz07Cx/kZmKba+K6fLGhpqpXviizU6DPV+6AkI8w7SbaY7/Jnp0sWuP8y8DPU4KvRZ+T4WposNE4+JV1lPHpBqz/1kQXd+lOuF/SVBUmnV1/KrBB6uza9UFM+WR/XptOFIKr/8dIoy7SkF2rKJ78jJJ3O8imfbeNYh8wnw+oqSRa0NLFsyfvMrb+3pD6o7cc19bG8H8v7ILOL65XzXUNTNb1gGFmQcMufVWtMtxjD7NjxE1iweKl4Bn9t24E1a9eJ9O9/rMLuPftE+qef5+P0mXPIzc3D/+bOR3RsLBISE0U6KysH5y9cFGnOvG//QSxfvkKUW7d+EzZt+Uukl/y6HIcOHxUvF8YRevkKMjKuiXLJV68iIjJSpAsLinDi5Gn8vHCxKLdtx26sWvOnSK9c9Sd27Nwj0vMWLMLJU2eQTx2V8UVGRyMpJVmkMzOv4+KlUJFmwT946DCWLftNlNu4eSvWb9oi0kt//R0HDh4SyoRxXLwYiuvXr4tyicnJiIqJFukbN27g1OmzmDt/oSi3c9de/LFyjUivXrMW27artvHPX7QEx0+cEmEfGF84tSkl9arAwW29fDkMK9TluHBBYYHAsXnrNqwlXjH89tsfgoecPnvhPH8JOHv2AuLjExATFy/w5eTm4gxd42fDsGfvfmSkXxNp/nfmzFmRXrhkGY4ePS6UIdN0JSwCV1PTBI6rV9MQFqbiOyvLo0dPYOGSpaLc1m078KckCyuqy8IZimGWS/UzvhiShXhJFrJzcPYcy8I8gUPIwm8qWeD2bVbLwuKly3H4yFFhWDMOuSykkCww3/g6h89gfs5fpJYF4rMkC3+sWiOThYX0fM7ghlwW6PkxDrkssOLj5730V7UskBxs1MjCb9VlgeSHyzKOJMLF8sVproPrmrdAJQssj0wLA9OmlYXFJMc1ZIHaxjhYFrjNnOaXD/OC+wcD84j7DcNy4h3zkIF5yrzNIh5zOeY5857T/Cz4mUiywP32d3pmDPwM+Vky8LPlZ8zPmsvxs2cZ4DTLBMsGp1WycJzyLxPltv61HX+u2yDSv61YKWSNf3B9LIMsi1yOZZNllNM5QhYuUFolC3v3HxCyzeXWrtsIlnkGlSwc08gC95H0jAyBg/vOlQgVTSpZOEmysESUYz5z32NYsXI1uE8y8HPhvsp9lungPsx9mdPct7mPc1orC7+LcqwTWDcwsK5gncG6g/OyLtHIAukYSRZY97AOYl3EwLLAOopByALpLgbWZazTWLcxPtZ1rPM4nXGtuiywjlyilk/WnevWbxY4WKfuP3BIpLkc61zWvZxOSEoUOpnTeXl5QlfPnb9A5GVZWPHHapFm3f6XWlexzmfdX1yskoWI8EikpqULfKUkkxJwPMQjpD8W/fKruMSywM+P4XeShb37Doj0j/N+Jvm8oHlHsCzEqmWBZVwC9qvlMr/9/oe4tHb9RmyRZIHqOHyEZaFM0HH5ShjJUa5UVENrERlOx46fxAK5LPx5sywwD06THszLk2QhhniVJHBfv56FCxcviTQbeszbX5erZGHdxs3YpJaFX5ZXl4VLoZdx7VqmKJeckoKIqCiRzs8vEM9YkoXt9OxXrla/t+ibfzPwfZYFzs/Pi8szHk4zXsbPaem9xfUzMD1MF8Ovallgujkvt+N6VpZIc/uiY2JEmtvN7ZdkYeeevaKvMI41f67T6KoffpqneQZ8rzWD2UcELaGBbdq0ga+vD1xcnGFnZ4d2vr5wdHSAk4MjfOi6nZ0t3XOh6z6wtbWFu7sbvL28KG2Dtm3bilhRNjY28PXxgZurK2xtbEU5Z2cn2DvYox1dd6BvJycntGtH+Gzt4OrqAl9vb8JhBw9Pd7T19BT1eBFexs+4GZ8r1WtHdXLdjo6O4uPr6w17opPpVdFkU4MmT8LnARsq5+PjraWJ0s7OziIqN5cTNFE7ub1SG0V7qZyHhzu82hJNlPbyagsPd3fRdl/CwbRzG3zbecNJTZMP0WpvTzRRm5mXTL+bG/HJ2wv2hMOT2tfWw0Pg4HsXz6mCs1pbW2PsvfeKslzO0cFBtJF5Zkt8T0lKRjK9gBm6BHbBkGFDBQ4VTR5EhzXxiWlyFe2Nj43B9cxMkb/fgAGiDD8HFU22RJOr4AnznWN8edGHnznT6eZKfLdT8Z15yzzWyAK182ZZsKvBd5UsSM9OkgV+jkwD85vpcKCo6PybcbPcME2+3iqeeRA93sR3fnYsYypZ4OeolgVBU22yQPLEPCPeVpfPGrLg4iqeKfNMkgVBE8sntZFpsiWa+BlznSwXkiyw7Kv4zvJpK9rC8sk843JCFuj5MT6WBcav4rtKFnyIxyxPKllQyZa3D7WR5ITxsay6CPkk2VLLgpMj8Ynbpe6DLPuCJpJHlk9+jlpZoGdH5Zh2xsflnJyozzBNlOZo9EIWqA/aUB8VfKc6WYYETdSX7agtLAsSTVyfVhaY7yyfKnkSfYbobUd5mA4V39sKfrBe4GcplwU71gtEh0oWmE/eMllgmrSywHySZIHbLpcFfnasj4SuaqfWVdROXx91P9bwXaWrmO9MR1viF8u8pBdEG4kmX3oG/KxYLplPKr1AskD4mI/1yQK3mWkVfFfLgq9cFojWumSB9STT1NaDZYH4TnkFTaIPqmVBLe8OQi+o9CfTxO3n9rLssW7y4mdH14UskO5ifKLP1CoLTJNaFkhemA5JL0iycDUxCalkFDN0CwpCEH1UfFfpBdZ9Kl2llU9X0hmSvLsTTd7eJAtEB9OWRTqJTzJg6OjfCf0HDJDJgkwv0HNsR8+Uy0l6obyiDMeOHBFlue2TpzxGfNL2Y40sEN/Fe0smC4ImeqYsq/yshCyo+c6yYGtjJ/od18V1+hBPhXyyLBBvNLLANFE5lgXRHykt3luC79RG0lWsJxiHJAsquVDrBdItzD/xjlDziWnid4RKPlWy4ClkgeSd8gr9SXl86D2p0gvSu1TVB1XvUq0s8DNX6Srux1pZYLr5fce021F7uRzrKgfqy0wr0+To4ISQkN6wooDLrR1MyJrV5dvd7DxITrlKI7w1mDb1MWEcNTtBdwAB6TQz8dF774qWOlAH+eKbb+ps9c6/tmH9WtWoa8iwYXhy5sw68/KNJTRCPHXyhMjz+LRpuGv06HrzKzcVDigcUDhQkwO/LKLViGPHxOXJU6Zg9D331MzSoN8b163D9q2q2cjRY+/B5Men6F0+iQam//n4Y5HflQaP//ryC73LKhn140BEZBT5J1sgoLO/fgVacC7zlkA7jwgGDRwgRlstgd7WQKPcf0OX7W5moRUjvZz/Zfn1OcKpNfBTaYPCAYUDhuWA3K/LEA73ct/XhsYxM5cHmKVlUAUMz4EzZ86jTRtLxTAzPGtvDaOttQ2CenSjh2J9awiUUg3mgPysTMic+2tDZCFTSvrEMbMwlxlyZVq/jtpwK9cUDigcUDhQGweq7YSsaLwxVC1IbAMXkuQD2cqqxtNSW3vv9GvTpj4K+TNvzfwwbQmNu5qWip8XLBYOqC2B3tZAo1zRVKH+1W4z+VmZFbrjksnDZZSX687fGviptEHhgMIBw3KgMTNctVFSTec10DAzlQ02K2kzhgKG5wBvljl3/oLhERshRu3UhRESJ5HEDoYPThgPF3LMV6BpOCBXUrqWCeRnZepjaJlbWmoaoSxlalihJBQOKBxoAAeqzXAZYPlQbujxbtiGgDwgd6WOgWxD8Cp5tRxIo924Vlbad4f2TutLtQjDjKcvLWknRrXltdb3LIyqRXL/DQrIUy9t8hmwCj2iXitLmfWyU7mpcEDhgB4ckC9r6fKD1QMdxSLTLiDpGozWxFfNqNNDB9Ysr/zWzYEJD9ynLGXqZlPT5eAYOhzP5HpWdtNVqq6JDY201HTNMirHZ+K4PAzXaHs1x+Nh4DwFFBiTZ4w4zTGW+MPpcpra5ngw6WkZIm8uleF4Qwwcp0aKgcNxo27coMC46joLKegmx8phHPxdVFgo0lXk88X5OD8Dx2Li+DAMjJfxM6SlM00FddBEQRDpHudh4HZoaCJceTduiOv8j5UU18l0MA1l5BemookDXxYjn2iRQAr2ym3itjEImii2HIPEA05bWrVBSWmpjE9Mk6qNfJ/j2zCPGZjnzHsGjqNzg+irjSbGV0w0MX3MR47hxPGmGDiOFceIYuBv/s3AfOR8Et+5PAehZBzc1up8J5qofoabZUHFMy5XUxaKi+qQBeKLhu81ZUFGk1wWbqapuiywrCjQOjgQGRUt+i/3m8th4aJRiRQmIjpaFdYhiu4nUbgahtDQMCHL/PwvXgwVsbo4nh2nWf6k+GjcbzgOX0REpCgXR3G8+MMQTtc4Zhzn4XJchvsDp7mPcIxITrMMquLchYlyTEOURBN9J6ppuqKO98b5uRz3OdaFnGaZZh3Baa6PY9SFh0cIfBxnLi42XqR5N14K7cxn4LzcX1i3SvqAr6emZ4g+y++KS6FX+BKSk1PA/GOIjomjmJZJIs18ZL3HuprxMR7ur5Ke4ExMF+tt7sthapoSEigmH+FhiCSaGD8Dx4/LzcmDCRl2dhSmhawHobsYN9PJOozzMHAZbg9DDLWPcTJwHZLOEjSRvmO9w2nW06zjOc00y2WB21RNFigWHgPzgJ+PRhZIv9+4oZUF5iHjY2DeamVBFeOPr98sC1nVZIGfpSSTnP92w959+ylunyokye2uq7nxt4g4ZjYUR6srxcfieC/ycxmbgnmsUHbt3iOCQXbr1pWC3e0Snb1jRz8KzrgW2dQhOT7M4l+WwpKW6HgUx0Fv3SgeTUZGJtZt2Ah/ionDgTp37NiJnj17Yt++gxTk8BwCAgIoWOQW0VnbtW8nAnWyYcGx0JZRwD6Ou1RcUiyCQHpTnJiExGSRv2vXQBE89MCBw+jevRu279pNQTjDqR5/Eagz83o2xefxxpJflhG/zGFhYQEOuOlMcYXYwFm7fj38/PwoKGYktlLQxF69eoFxnTp9Gl26dBHBQxMSkpAUr1JCpHEwcOhwCni6HNbWtigl5bBy9RoRH4479c5du1CQpzJySohfQ4aPwK49e0SbO3XqhHUU9DOdFCbHLPpl2XL4ET8efvQxxJOSGjxsKCn7GxQYdB3at+9AQTGjRBBB5tOhw8dw7MRJevaB4ICRsaQU/fw6iKC5efSS4Hg4S5b+CiuKcceTehzAk2PscADK9Rs3oXOXAFy4EIrdu/dSjKMe2Lt3H86TMurcubO4n0ovAo7ntOzX38goqxQxp3797XeKneMoXh6rKRhku3btKChmHPFkq8Bx7NgJCi55HCpZ2Ekvo2iwLKxcvZaUc67gyWLiuyVNufMoegXLgps7KedrQhaYH5cuX6Ygn7tIFoLAAU3PUcBLIQsUPDT5aoqok4O2snGokQWK48MvSA4I6k3x1Dhw6yaSnW7dulHw0FM4QAqL6eDgoe7uriK2ERRo8Rxg/WBhaUWGUzyOHz+BHj164BA9aw7OybL01/YdyCEdxPH7VpNsmFtYivhv6zZsoJhQruCTNTggt1/HDsL4YnljuTt5+iz1hYuib+3Zs18ED2WdwMFri0tLRCy1VRRw1M7OTqxUMB1tSc+xkbGT9E0A9a0wCvR75OhRET/s8NFjIiAt963tO3Yhiwwb33a+Qh/xUUcck2wt6QGOxcY6jftzhw7thQG3h1643al/nqXgw2fOnhd9ay/pyAQy7jp29KPg31upHcVCz3LYJI4lZ2Zujt2kd0qKVKd3FJEBFNSrtzB6Dh86LPQsB6xmg4f7Fusopp37M9PB+oJjVv65dr2IeVdaXoY9FNi0qEA1yGQ9FkJxzM5fvEShfc4IPbuPgj7zc2A9u5VCBN0gA5P1LPOJ421NnDQJsaQ3J095XOi07aTv/f07UvDgOOynAMysZ49TwNlQ6v+sZ/m9kkYGd3viAwdrLif/XBeKYbiG9I69vQPKyVhlvcOxA9PI8OT8gYFdyegKxQnSiywLHGCYjU4hC/Scc8hwZj3LQY0tSBasiVf8DmJZyKdTObaRvPgRT7kd+4Qs9MTJk6dxngxH1rO7SRZSUlKFnt24cQuKy0qFnmW9Y0c6iF1cWBa8vLzBgXVPUGBtjpjQFMDvP16daU/vytYOLSKOGR9vcYU6GBtnHLyvqYFHPUkkrJ5kCGSJWbsqETyRRyS85s0vz6upqeKFzsHvrtEMDQf15On1rOxsKucBjgLNszwcyDCHXuCsCDzc3MSIlI05Vljp1PmsaQcqB9DkEZ0zKQ42rDKvZ4rAqnxAeHZOjojlxp2siJQSByDMpjrYJ4I7XwYpH0tyxuegnWx4cPBcazJceDTIAQDZyMqiGTF3oqmEaaKRFBuWHJW9pIRo8mCaspBfmI+fvv5asJoNzk+//IoMnjQR9I9jychpunD+PNat/EPk9SRcc95+h2jKIZoqBE2ZRBN3KFaEjMPO1p6Uq5Ym7uw84+dOBkwJKYI8ooWDdapoUikGppmIJ74Tn4jvHHDYgRSFRBMrITZ+mO98RFR2TrbgE4+EC0jZcjDRHOIdj4I5UCOPGM3NzQRNaUQTG8EceFHFd2cysLU0lRFNPDrkZ5d3I18cg6KXLMhokssCv2TyCyRZYJrKRRBHnp0wpZcYB49khc30aGmqLgvlJD8STTwS5uNsLCzMyeg/gPHj7xVBQJu6nyj1GZ4DHM2eDbMuAZ3E4MHS0oJmq1QbZvh584yIiZkpeGc0p80ozfqEjXoekDHw4JL7MMsgp1lH8ewwD0Zqw8c4eADMeo9xcP+sDR/rHA0OwsfnVWrwUf8xJE1SG+U0bVq/DkcOHBBtHDZyJCY8NEnowTppopwSz2q2kZEc2LsX2zarTrPo3bcvpj31dL18kmjSxfd6+VQPTXrxvRllgd9nfGRVl86dmH1NAvLl6yapsJkqaRGGGR81w0e3PDF9Kr2w2zYpq3i6nY/GGTp4kBj9NGnlzVjZDVpG/PT9dwUFrNT/9ZXKSKuNpNiYaPz8ww/ilheNIP/vrbdry6Zcu1UOVJYgNzkBqaUUBbsjRcw2qx+RvV3TD17qp0i52xgO8MyMAjdzYNumTdi3Z7e4cdeouzH+oYduztSAK0cOHMTGdX+KEn1C+mHqjBkNKH3nZZXcQXr36tkkjedj6XhQcf9945qkvuasROvt2JxU6Kibj5J5Y/Y/mtwoY7I4cGBgQGfY0czTnQRy539djrVmZqqROfOHz05rSVAZvgKzxvRFv+BgDJj4AXZkNGw31u1sq0lZGNa//xwmjbofz77zLv7x+FiMGj0TP5zW+v/J62dFycsq7GejQOvgwC/LfqMzG/e3jsYYuBXVHO4buIuyNlJMzEw0l6uUWGTkXEwDwsRIhEenIb8Wtc6+bQfU56JqGHcbE3wMFi/T3gnQIgwzXoLaTf5BkqN9Uz4YnpofMXwo3GmZ8E6CKlqKkECXYWZOSycS8BJJSwLTrg/jkWBbMiir4HH3NIz20LaludthUnQeOzaeh+WMxVj5+0osntkNlddO4pdFu1HbHAovF/MyLS9lK9A6ONA/JASdO3VuHY0xcCuq76Js/ICKlw4l4EPMbye0hgFhX17unar/sVWN5Wcv8jsOIp/qOwFaRLiM4uISxMXFIzi4Jxya+Kmwj9JP8+Zj9N2jyGEzoIlrb77q5DNmuqgws9CurbU0w4z91lgh81+t/guVBUg4vAV/HTiLyJRcVLkE4b4XX8A432wcpyXuo9fIEDUxg8ewmXjcbj/mbqdddHBGr8dnYoxvFdKP/YHl604hocAMrj3vx4yZY+HfJgdnf1+IPQmlKHMKwfhe5Ni78RQSPR/ED6+P0bC70m4CPtowFKY+7WGOSvLLs2YqYU++ibV1XPZ1ZDlVljI1LGzxiXbtfcinsaTFt+N2NEA+w8V+pY0FuaGnazDa6LrEgHAeDm+nDUPGOiB87U/8/mw7pP80FRPnqgaEz/abBMlRIj0jHdfSr8F9xNDGskOv8qvXrBNHMk1+ZJJe+Vtyptr0u9G1p21bTzz/t2eahS527r9nzGixy7JZCGimSmWDR+E0XB8Z5tWWMlWOyfXlbzn3KhD/00w8+ksFHlu6BO/Hf4jJ787DwQx39FkwBT06ZOKT/25EitN9+PwlZ3Is7oDS1z/G1qDPMM2LNg9sfgsz3jsE11eXY16PlXjy+dexP+EbbPh8NO3QAv7zxR+Itj6MxPtHwvriIex1DCLWaA0zmNqhrb8dUJqNhEMb8P3vl2ET/AQ+fHUorGphIm8e2Ui7UafS4cve3k3ri1kLOcolA3CAdxC60IYWNrgVqM4B+UDKEEuP8hkzQxh61amt+YuGgvUMCKsKYnF881/YfzYSKRRpyDFoAp5/cSw6mGbc8oCwU/EprFywB/FlFbALuQ8h6Tux8XQKnB/8GG+OcdEQqO+AkDcoRURGYEQTGWb9+/cVmzc0hLbihPGs29TDZN7mvHLNWk2srnqyGvwWdx7ejcchGe4k4Jg8EugaPcoj/1fQTszWAyZwHjwFL77zJp4KcoRLv55oR3NWFSmxSKSVDofhU3FPexrb5CUiimbOTIpTkFYajKmvjoMXIrFy4S6kVQVizINd4NRnEHraVSJr/xYcpAkQSy9PUMQjVFr3wdR33sJ/Fi7Hkg8n1sK6Ehz98hk8//aP2J9pC+92nnCoY6XSlpz+Q/qF0E5cMuYUaBUcGDvmbvQOJitegZs4INdRvPOxsSD3WdOl8xpbV33lTSqisPCpyXh5TSnuf+89jLc8j7/mvYsP12ag0tRDDAh3/7oUyzZepVl4GhB2oQHh7t+xOc0HQWJA+DZmvPgjznZ9Bf+a4Yyz817HMx/tQbZTLwRXHsPqFTSL//187E5LRujBgzgRU8NnVQwI28PDhAeEy/BpHQPCfiF9MH3q4/U1xaD3OOqAiCxgUKzGiUz79jVO+jRUmZGhwMs4TQ28jLCMYlslqgMBNnX9zVWffPSoS0nJY8u1vKXM+jhsCsd+43GvVyxWfTQHsz/eiiQ6bqWKjE9eOaky74bxIzvCvDwSB3fQrsmNG3Gp71Q81p7ktCQKsVfJSDVNwZ4PXsGrczYit+dgDO3dDjZl2jpNzC1hQa4t1u17YkAPL+0NTcoKQ95bjx2HdmPBI86I2fJfvPbRVtQWapnDogR0DhDhUTTFlUSL5gDH21Kgdg6Yyf1gKxrPKLnOq2hG5/8qEzf0f/xlvPPmE+jp4IZ+PdvRm68EKbHJ4GHvrQ8IrShskDO9R01g3mc63njrC8z7bSE+mVjb7LruASE7/++j+GxNBdsphujuPfuaqrpmradFLGW6k0/No5ObZ125TRsrPP7YZLShILd3KugyzMwp1poErcEwMyk7h8Wvb4P7x7PRfvF0vLQ0A93fWojvZ53Ea6O/RKbUWPL06vzASHRavgiRe37B/KpcjPpgtJgJAy3vWpLFVVXRCQ98/iOmOmgKqRLFNX7X9rOsgGLOlcLK3Rm2ps4IuX8gvNdEIS78AqLKJmBAjZmza7Qbc/2GTTSKnSKCUtaGUrnWsjiwm4KeKkuZtT+zajNmBjCk5IYeBUSrvdKmuEp9ve8D96Bk3e/496pYpMcl8nAQlRQnjs1PaUC4fKlqQDjFRjUgfI8HhIXVB4QXTKtQwQNCE/mAkGLMUQgkE/IW8+05AL61tkk9IPxnNk7/eyZeWkkDwmJXbP1+AnnQqoBjyvFpEE0FY0aPFPH1mqq+5qyn6aegbqG1fHjpvAWLxBETt1C8UUXYKLkhjjVqTUt0ulkiV3q6cptRoEsJWp5hRiqPnjH/qaASOXtXYvWBaORWhlM08GgUmAZgxMSusCafiizOR0pb8qQz7XI/7u5Emx+ubMQWx0l4qofKWqqyCEbvLm1gWhZKOyvjwJNk5cm7sWjZEWSRzufgu8Jfmf7V9QqoDJ+H58ZMxNt/qebHCpPTkFNJSrVDF/hp91tIrIcTBRAed89YEWRXc1FJtGgOPEqOzkMohqICN3OAgzFLwEc6NRbkOq+hZ2U2tm4uzwPCJa/9B1vSzuCHqZPx4rxwtH/hP/jXg51qrBWpB4Rm5YjmAeEmGhA+VWNAaKIaEH7/40/4cf4CzPt5Nsbo6+HAA8L0bBSwYpIGhGaVyBcDQm1Le/TojgkP3K+9cJtTRcVFIrj3ba7GKNC3CMOMo7wH0PEjPHvV1FBSUiqOLUqlyP53Esin9bnd9c2acZgGCTifIfw9JHy3+7syfC3WnKbdlrRIkLbqJUwcOxoT3tqCqxY2sLEOwJAh7WFdcQ7Lnn0ec1ZmwsWJltSvHcWf2xIFaVVmnXD/6ECY0/LDyBkT4SX1KFMvPPLmK7jLswQXvpyM0aNGYuxTi5Hi7gt70zJcWrUdUcQrXD+GNdsSNIaevL0mTh3QybMYRz6diqf+9hSmf34IlQEP4J23J6G2qB682d+cjGQT2RKPHJ+SbnkciKcjftjHVoGbOSCX88qqxg+c5bsyb7/zf90DwpzY3dgbQ2ccB9yFBwOt6TSS62LYyIM5CW5tQFhJs250QgMhqU+f6zsgvBR6GRs2bpZIuu3fR46cwImTp257PcZQgfaNagzU1EGDI51DNvKu4TCTjZDqyGrwy3xO58svPk/nmGk7hcErMUKEfCSRHLgj1zTWpPvy3VF8jY89srSULBQpl3F+m3adjp8OTK+buPf+xJZpUbjWpiMCvW1p5Pp5jbxm8BoUgk7HHfHs0OpDUvMeT+H7nQ8hJTwG6ZUu6NjND87qHtdz1iocmlUDVY2fJu0exVe7H0Le1XgkpubD1LMjAnydUGMFU1OKj+bis0+VpUwNS1p84szZs7SU6Yr2dMajAtU5IDekDBF3jI9YkqA+w0XK05jvmwaEm2lG6loGcixGwa7LEAxutwZx5xbihedPIJB25TqbxiLryBr8ldQPD7UzgzQgXBSdWeuA8OirP+AgDwiX2NN70wsj53wOh4oLWLw9imboK5B77E9sTRyASe21s45Se6QB4R4eEG70RG7opVoHhBy+x8VZu5tTKn+7vh9+aAJMZc/odtVjDHhbhGGWnJLSbEcy8cGy5y9cFIddu7o2nRA2t3DUNMLqU1SclzcASMuYfKYnnUrX3E0wUP1WcPMPgttN2Aqw99PZ2OvQFQW7jqPrP5cj8GYdB5g5wqdHX/jcVF7fCxZw8A5AkLfu/K7u7nh8yqPi0GHduZUcLYEDT894QhyW3RJobWoaDR3HTK7zDBF+oz5+6BoQmqzbjkejrsOqYwC8bclgrDkexK0MCDvghTXH8UJ9hNE9fQeEnfz9wZ+mgqiYWBEuo3u3rk1VZbPVox0iNBsJuit2cXIBbxt3dKjpQa27bH054mmnZVRUDB1yXSicGDnNh/xmZeUgOjpOFE0l/7bQK2HiUGyO28KHXzMkJ6eIw8h52S4+PokOpS4Qh/5ymp0ib9woENf5Ph/ozfkZMjIyxQHVnL56NVUcGM7pBFqyyKPzKfmAYsbBh1Lzh9N8je9xHgY+0JvLMjBNjJMhOfmq+vBwFU1MA9PCOHh3KR98zmmmiQ9Sl2jiNjEeBj74nA8xrwnx8YkoLGSaigUOPrg3Ly9fpDmvfNYsjXBINKWkME3ZYuqc6+YDt7msiqZiwqmiiY06pikxMVlUzTQxLQz8LfGd73M+zs84uHwxHcbOacbL+DnNhiTXy/UzMD3pFAyRga+pDqOHyMvtkGji9nE7GUcZxfvJzb2hoYn5ItHE/CqoKMTVS8lwnPoW/t6dfMYkWSA+M78ZR+2yoKVJ4js/T9VB7VpZEMQ24F8ZPeukpGSqs7QBpZSszcWBJNIJFy6GiupZ30RERol0aGiYpq9v2boT585eEHIUGnpFyDfLK6dZZrlfXL4cLsqxXEdHx4h0XFyCRm7DwyNF/y4n53Eux/qIdQunWdb5ZBVOc5/iPhIWFilwcF+LjU0Q6ejoWE1f4vq4Xq6fy7Fu4n7HaZZ37iecZmC5Zr3KEEdO7JIOi6S2suxzn+G83Fe573Ga9RT3cU5zH+S+GxYWIXCwzoqNVenm60SDBLl0oDbnY13J5bjfsk7mNOsH7u+cZr3AfTgiMloUZb3GHwapb3O6gMpyf+R+zOUYF+PkdGlpuajryhWJpquIIaOBgWmT9CrTzPzkNnA5bhO3jdPcVm4zp5kHzIvwcNXzZx7FXi1Ax6BAFFyN0+h6znv9ehJ2fvQ3vPL+e5j94VF0fvpBlIXVIgtpBSiyckTfnn7ITqwuC0wTP2sVTTlCBjhdXRZMVQNCConRvY5Z+lOnzuDX5StEu5viX0RkpEaWmqK+5qyjRRhmFpbm8KHDsfl4JENDZFQsnS1IxlJ6plCS2dR5ksjAuXjpkhipsrHj174DHYvSiZRKAt1TGViRkTHgXXC8bBcREYG83Dwh2JzmTpeXlyuuV5Ay5HySckqh8omJKgMrNjZeowy4HCu0srJSUY6NKv7wdb52/Xo2dVyVImAFwmUZGBfjZOA6uK4K2jrO5XJzc4VSUtFUpKGJab5GbWblyMBtio9XKWA+YYGVqXz0yHkiqVOw8mWFxfj45c+KhdOs7EIGDkbP3n3xyJTHSRllaNoYRfxNS7sm8nBefimwouQ0G1W5xDdOs0JlZS/RxDRINPE3/1bRESXycX4ux+UZD6cZL+PnNNPE9XL9DMwnie8xMXFCEXIezsvt4PZwmtvHLxpOl5eXEd8zKa16UTENzB+G+Phr8H3oDSxZ9F8Mb1uMXOKnRhbo2fOLj3EwTfwcOM3PRR9Z4OfMz7uhwEeWHTl6TNTX0LJK/qbnQHZ2nnjOfEj5dTIc2HjgdCbpgWwyljhtbm4Gz7Ye9PKuEs+VZZI/LFPsc8SGUG5ujiCeZe4GGW0MvFuuoKBQpFmeWQ5pj7AoxwYVyyrj4G82NFT4qkQ+zs/A5QsKVOkbdI3xM3BerpcNChUOxifhqFTTlCvyqnShhE9LExs51fGVgWMgMj42GiR8PHOl6kMUZZWA+zrrIQb5AKSstJTyMU0qHKwzy0lHqOjT0kRdnuqlgXO1Nqr4xLRKUEY8YfwSPsZVXl76/+xdB3xUVdY/M+k9gZBQAkmAEAKhd6T3jqAiKKBY0RVdd6277q7ruqt+6xZdd9VlLaggiCK9995bQhIICQESSIVACqTNfOd/Z+7My2RaYAgZMocfmffOve+++85777xzTxXjadmfrbxcSfdSuq6fE+YG4QsA3oQ54RowD9Ad16abE+6d/j6KOfG9Y+ESoKO7ruga7kV1OpWTyqOCslMyqemcP9G87l5iPGvPAu6h8lnAdfKtE8dhDspnwTAnOP7bgBYtmnM1nngbvRzX/ODU+2nypPGOG7Aej6TijxM/FvUbLmZm3hFT5nn+WHt4eFFAgCwyUb/pUNeze+2lFw2nfPevf7sjgrHhBK6NahTAahzC8+DB91XD27PjKslkD5Xubp/sy7l0Nj1dlJm7uzNx3rMfPXSQFn/3nbiA2A4d6Mln597WxZxOSqIvPv9MjNEqKopeePlXtzWesx4MQXDnzj3UtWsXCg9vYvEyIJxXsEDeLDzMYh9HNuzdt5+/157Up3dPRw5bL8dyCh+zMPadeXjaA+RoH6+EhCThjxMXF1svb87dnhS0ZlJuv9M+F3f7Wu/a+TW88s7migFXKymgVRtqHqBzVGvKWpKgoIBaTQur62PHT9CA+/pSMNfNdEH9pUAFa19gOnLBrVNAzTVqJTjC+b8Jl/4bO5EdzJnvBQXLbF3yDPfgrwXe485Jr2Nj27HConowkykFjjOvOZWUTC/Ne9606Y7sF7EW2JMVKQ0BnEIwg8ocTEzLZkFHQu/ePdhp3SlI4MjLvqWxpIB2SwffpYNUlafph1+8QB/uz6VKr0ga+xfOcj0i3CQn0F2anCaXtn/4Bv1j+Wkqj4gk76xTdK4kiDo+8Vf6/MU+5Ofny+lhvGs1uXI252RmZVI5m2BcUL8p0LJlhMg7V79nWb9nVy1dhgPymCH6deiIkQ65aGfmPb4c+RjapDGhTrQ1iImJYY1aU2tdHNo2euSIar7MDh28ng3mFD5m+QUFtGr1WrrCfheOBPh01WXmYkfOvS7GMvUzq4tzOvIcWvdYmjK1G/lylGhF82H06NB6IpTxRao07CC96yjl9X6TFv6wiJa+P5maVRVQIpf/2lxG7EycQYcOHa0VOUJDG4vadWFhls0PtRrQ1fmOUQBBGvv2Hbhj4zeEgauly3BA5n9H0syZeU9ZGedO3L2PfXlrBoEpaeTGApwn+3/XFWzYuJm2bN1eV6e7q+epO6rexmU2b9qMnpv7NCf8dGxZJDjQN2EzaaNGDUBtfQv0VwpmzmrKxKqaLROk5Rx4NVYhmhI6v3s1rd1xlM5kcZLZRvE0du6zNJpz+xTs+pa+ZU2bhl2mqdkAmjPNn3Z+sp7SqlQU0P1henp4BFVd3kdLvv6ZDl3kHGNNOtGox+fQ6OibdHThfNpyvpwqgnvQ+M65tGnFIboQPpk+fmWE4S5o3dvQzP8so/sDIglJWLQtwrnUiYqyvH0pgE/ZKjKC69rVzncDQQw7d+2lMaOGE4Q0F9RfCniyr4yfn8u39XbukDLvGKwq9Q3qnvd4U/HBRfTfrRlUVhlM3cZ3poL1K+lwVjiNeedlGt1IxwFt8R4PTy/qwdGYtkyZCFKCKTO2XUydkD4wMICDYaxr8epkInVwkhrfqjo4Z61PUVJaQidOJFApOyU6EgYNuo/i4to5csh7aqxqghlHFN5bwOk2/j2HHvzlD1Q8+Tf0u3HedHLVp/TmO8soV6OmJvGRVLj+W/rmm5UsVMVTiGcMtS7dRt+uv0zNOzUjbe5q+u0jz9E/kmPp+T/Ppib7P6PXn3qbNl4Pps6diQ4s/p5+WPARfbrlMmWd3EVbD+pSBhhp6EHBLVtTRDD8ZKooc/NeSuPadR1nz6FBzHtQYqb2wrAun5zyvhnP59qqTxRApGXnznUX0Vafrt1Rc1EmwXYuV4s7xXuIArp0IvWeJbRk8QL612ebKTvrJDvyH6SzukBWPemt8x5E7yKbgC3o3LkTTbl/sq1uDmvv17cPO/73cNh49XkgpxDMijltxKHDRzjkVxdC7CiCpqaeNaSrcNSY99I4yg88l2i8x0BFIf0eprlvvkaPxQdRo56dqCVrrKqy0ukC8yRNyACaPjKS3DScW+0sp0Whm5SVU0Zxj86jsazISv/uC9qUq6W2XMsyJqQr9Y0PJFXODlq55yZ5NgsXhcw1Pt1oxpuv01/mf0tf/mGSRfppzy2h9xacodCpf6Z/PhErUvNevJjFeYZSLB5jriEkJJgmjB/j8CAZc+dy4W6PAjBVb9689fYGaeBHV6ttWQ81ZpZvz53jPVqvZhQezMxa5UsdZ75Jr3wwnxb87/c0Jdz8p94c74GvKhz7Cwt1KUosXQeCjZS53yz1cxR+6U8/12kJKEfN+1bGcQ5TZotm9PJLL9zK9Vk9Bg8eMta7wDYFHFEk2PZZ6rKHmoJ6jqcxN3+mJW//QOdyzhGnpWVNlb64OLlTu4lDKXrRl3Rm+0a6OMmPlp/pRjP/HMkm0VI6c/YS67lUlL/uD/TSQTVpKztQ3/5qivSuMFyEitXuHswjfVp1ot4GbPUNVfEh+ujXn9HFEe/RF38YQZJ/tm3bmlq3jqze2cZeLtdUXL9uAz045X6R+8pGd1fzXaQAhOjo6Ki7OAPnP7WyRJ9z8ac7z3u0zL+8mPlo/VpSvAXmY4n3IOgI1iRPT+tmw4yMDGHKrCstVlxse0JO04YATnGVVzjZ5s7du2nQgAEcyeS4NAC9enVvCPf4lq9RqTFju9otj1O/DuQC4p+/RitavUYTk16g577OpQ6vz6eP5h2kl4b/H+UrJuvWfhwNjV5AqSlb6JvPVJQz8i0aGYgOao5Y8mCxrJIipr5HHz1k8kwqB1GMV2NTk0Pr3nqL1kS9Ql+xUNZUXUZJPy6izL6zqYePLilkq1YRNQ6zhPDx8qY2bVqTt2/tojktjefC3zkKBAb6ExJ0uuDWKaDkT5p65vxv/qrqgPcQRw7ZA1Z4z9BwVEfIZR/XJuTr62txtN69exH+1xW04YWquoFkUTCv36wrStt5HtSrREZ3/DoS4LcmS4Q4ctx7ZSyV2vh41N7fqX5QQeerZZyL9so2WrxkB6UWpNOWLWepRB1Dgya1Jx8uiXKFNWZIiS2fMq1bDI0bHkPulUm0fGMATZ3VUV8B1JM6dY8hb2aCyexcm84HqMozadt/v6GdVzUiW7iI3uc/lj01uCLET2/TB1uLyCd/Bf3x6Sfp2cem04vvLaej11AtIp8rFVwwTtyOLX9/P+rdpzcF+tcu/5kdQ7u6OJgCKJm0Y8duB4/asIZTFrR2RB4zR1PvbvAe8C9UGGFGRpbdgq3zHlRdOHv2rKGCgSW64Nu5/8BBS80Ox/+8Yg2tWbvO4ePWxwGdQmOG8P/HZj/qcPq5u3uwKdMofDj8BE4+oNKtzLmca3WERy6hZT8eomvMp9QZi+nFsStJcz2P8oo4e3RADPXv34p+WHyMFjz5DB1r14gaBatJlbeXflx3gfpPasWDuFHUhGEU+78zlDl8Fk2VdkbWmIVNe5Xm7XmJPt79fzR98JcUxEJso5G/ov8LqKKET9dTKjSMBfto6brz1HdSJBsWqoOq4hh9PX8vXcWi48h+Oq9v1rrFkx8nmW3fCkEptQtMycnJoZ+Xr+SUGQ+7tDHVyV3v9ppyMlNSuXjP7dyYannM6plG/+7wHjVVHV9K69PYyUKTTweXrqfzvSdRpIm3ji3e4+PjQaM4stsWoBRYVpauHKCtvo5oR+JsfLMbAjhFSabc3DyWlNfT+HFjHJoGALXoXGCZAn9443VDnbbf/PEdCg4OttzZKVvKKD89lfK8oym2uV/NdBp8TaqbR+jDmf8kr/e+phdiTDgce5ldz0yhtBwNhbSOo6gQU/Hr1okCp1rUzmtXi1B0lFJJTz9HneI7uFIx3Drp6+TIG1zzMSevwBWocRvUzuCSVv/56J9ihPCmTenXb/7mNkar60PrL+9BTU/UB46MbEVIUWEL6qoEXDYvPN3ZlNkQ8jQ67kti6+7dRjtuBpxl8etI2L//IDPGxhQT08aRw947YyEBmB6c1ZQp52/+14tCW8dTqJnGm+vfpZd2BVB84Rba0eUNWlRDKMNBbhQY0ZG62e8GZuZM5lGi0DJHI9cGsJpswnXrUE/OBfWbAplZl+nEyUQaPXpE/Z5oPZ6dinMTStBYttvJLvXst/7yHuSEQ8RlZaUxkMkc8ZJTzrC7xXlCcfG6gK1bd3I1FE968IEpdXG6u3oOx0o6d+hSGjUOoUkTHV9VPiwsnOCX4wLzFFA618L9qiEBIio1FxMoo8vz9M8X+5N/HV+8LiIzslZnLSjId5kya0Wxu9e5VauW5OtX10/V3bveO3Fmt3t04Xi3eY+3txfdx2ZDWwBLfLVvhK0DbrN93JhR5ObeMMz/TiGYXeLV5fc/LKUZ0x+ipuHsm+EgiOTs6nX5YDlo2nU2jJI2zuhjdjuE8hrxGs2/i8qMjIwLdJVLkHXrytlq7QTU+ps8aQLXuTOnA7RzEFe3OqHAzZs3RUATojNdcGsUqO+Z/2/tqojuNu8pKyvjPGYn2Y2iLVuqLFfFad+uHeF/d0nxYAAAQABJREFUXUFufh5bAzwoKMgkCr6uJlCH53EK8dM/wI969ezhcL+Z3VwP7PTp1Dokt3OdymjI5Ez09cy51rkoWfvZenhwHiIujVIb0HAOtpKSUtJwVJUL6jcF4DebklK7BML1+4rqfnbOm/m/7mlVmzMica+nl5fNguFIQrv0x59qM/Rt9T18+BgdO3b8tsZwloPd3mao75OFbxnMmaiVqVakcLA074qKCrrAobxIkFfFdvJMzqKOunTFXDng8uXLFMJO7Pn5BXSDi7W2aN5c2NPhOI2cLZcuXeZw4yrOU+VFFzMzWXUKpSLXMLx0ibw48R6yIl/OzuY6YgF83HVCgfXAwEAq4N+iomJhGs3m1AtYdfj6+lBmZhZbAVXkweNkcgQLJH6Mf4nn4ePjS6WlNygnN0eMUVh4jbUkV8XYubn54iPr58dz4r6VlVVsX9fNSc2+FdBmiTnxPOWc/P39CQEN+ZxqQTenKzzHazwnf8rJwZxuimvEPCBogT64RjEn9iuQc7rBq3k4Wp7gagsYG3DfwEGiJFYxjw9ago4VLAD48D25cCFT3Bfcm6xLWTyul/BPAJ18+dwlxXB0zqUgptOVK1ep8No1ChBzyiNoDkD3rKxLHOmtMcwJdMccMSckPLzJ9MScQPdr164zva8Ix1TcxyL2xYJJGuerYMdVMSe+LhW786vd3UTkEK4VNLycfZnP58d05zkxTYKCeE5cYxK0R204fDCNzwInkbXwLGBOku7Wn4Vspnu54VmA4GSrBh3oDafbJrXUfOVzgtm169ZTTNu24niM44K6pwCezZMJicJJOTs7h06fSWU+04zOpp3j9+MyhXOUOYI7QpinQSORwH2Rh8ub89CdSEjgXy+q4nchkesQBrN2AHwmhccIDwsT7935CxfF2Okc6IFzNWrUiJKSUsT7jfceH0w1vz9u/D6eTDxFfvy84z1L4tqGjVmriuLUaWlpnKcqnC5cvMjvWA414dqqqIQC3yL48ybwcRp+9vFuHj+ZIBYJVfw+Jp5KEu8xAlOS2UE8jGsN4708f/4CzymMzp07J3hr48aNKDn5NL9LN8U7duzEScEjwAcxJ/DyMn5Xk5JTBA2uXCnk86fynJrSBX53wQ/w/J89mybeTdAp8dQpfocrBf/BeBp+n48dPiRusKcXp7Dp2k3MKZTnlMvvdgYnQA1nn8tzGecpNy+PQtmfOIX9ovAOBgcHsY/fSeYRKsFzTvA98BHvdCWdSk4W34hC1liD7rDSYD6Zmbo5paWls7bzqqixfIrpge8N3mnMyYP9PMGbExjvz6bqGzdKDXTP4zngnoXzeBlMr2zm+5jTGT4HeBjmdJLvv4bpbHwWvAXfwpxMnwV8q3D/4AwvnoUrNZ+Fo/wsgJcanwV//rZZ90FF0vVm/GyAx1mDsrIKkdWgdetoa90c1tahQ3vq2CGuQVi5nEJjdok/pp9+Np8FmDybNxkf0uycPFq67GdK46idtHMXxHY2v6gJiUks4f8shJf9Bw7zi5kgXoZ9+/fTgUOHxdibNm8V2YzxEV+zZh2d55e6kIUbbF9h4QsvKLbB6E6fOUsb1m8Uxx05eox27d4jtnft3kXHjusk+3XrN1Aqv3gQdnAcBA0IE9guKrrOL+h5sQ0h5BQzni1bt4sxDhw8SAf0OWKAS+A29MFxYDhgjNjGxxhMHtulpTfFuXBOAOawc5duTrt5bpgjYMOGTSLqBsIjjrvIgtoVZvDYhoByXj+nvgMHUExcB2rSrDl5s4AIGu3bt1+MsXX7TjrJzsuANWvXUvq5dGZ4xWIMCDcQTsWcmAmeTU+jdRxVCzhx4gTnb9oltvfu20uHjxwR2xs3bREaBDA5MScWpq9e1dEdvyhRBDzaoWlAfwCOxzgAjIvxATgfzlvK58dxmI+I7uVtzBPzxbwBuI7t23eIbVyf8VnYJj548lmAsA/6YLwCZoKgG7ZBR0Qxga4A0Bn0BoD+8llYvWatYLyiwcYffCT37Ttgo1f1ZnwYH5s9U3xwq7e49uqCAsks+CxavJQXO1mCFxRw7sXUs+m0Z+8+wXMgWBw5clRsHzl2THxMMa/DR46Jjz6crQ/yOw9hq4iFMWxDiADfwzYEIwhlx/XP+JkzqYRzAvBBT2deBThw8BDlME8Aj8JxeGav8FywffNmGfOLS3RQz+/SWVhMTEwQx6EgdepZnQXh6NHj/M5lCkEIx4HPlPDCE9tY/KHKBLZRU/Eiz+moXpORmprGwlayGC+Bx01nQQ1wmM+XzbzvJi9ScBze6UI5JxbespnHH+R5AzLSM1hY1c0JgtsZFtgAx9i8huvHOTEGBCcJ4Pvgq8BXssCHe3CE6QpATq4kFpQAiacS+bugq1t7+NARXixfEgsnHIdFIxay2MaCGUI1tgHnmCeeOKnjLaB5ypkzAn+chTvwS/Bm9EXKGhyLbQjUuJfYLoeCgF1yJL+DYHyKBVRAIv+eTTsrtg8fPkpZLABWVOjoVHAFC0/ds6BbTOqeBZwPeQ6PszAIwHwgCAPwLGTonwUxJ34WMI8D+w/wt8xIM9HZzB88N3C0Bz2tQcuWLahXr57Wuji0DdeKBU9DAKdIl3HjBqcBOJdB0ZGR5O1jXYpfvOQnoXkZMKAfr6z8hXRdXFwk7NLl/FG/wS8NVoR4yCtY+ApizQQ0XciJ48+aoGuszYF2BasFvPhYMbrzigMvmT8n7sQLgQ877NzQhEALhTQS0MYhMgg+I1h1QlPjz8diDIyFMTG2ck5Y3WIFiLlgRYjrhBYGY2MFBQgIMM4JmiCs1KzNCcfjxRJz4nGxqoT25fr1Ys6arLtGzMmLV+dYOVmbE8bAWHJOuEYkTcTq8BpfowdfI+aC5L8+rB30ZG0gxjOlk3JOuFYIOpiTku74eGA+Srpj1V8MujOdYJ7DsXJOoD1WmMo5ge7u+jlZozvoe9vPAs9Jyx+I2j4LOLfSd88Sk8nN1WlMo6ORT80+wDOTzEJr757d+B7ZDnO3b1RXL3spAM0YNE2jR4209xBXv9ugALRRR1iYQ6JZaBm797JQe+g2ztEQD62oqBSL/2as5cU30RJAcQBh/qV5z1vq4lD8ylVr+BvhRWM5COBeB6cQzKCRgKYJam4vFnCsAVTfN1nFGhnZ0lo3V5uLAnVOAWjSoJkcOXK4zXNDA6BhIRi+ZvYCNCurV62m6dM4SIYLqbug7ingyo1Y9zR3nbEmBTRXMyj5WhDFRYWI/IxY1EKQ6tKlizDB1jzCiIHyAcIZFrnWXIfAb6BlxEKwrsDafOpqDnVxHqcwZcI/YMkPPwl1rC2ihDYOFRoxW/1c7S4K3BkKVFHhuVOUwaWZTMHH24f8/C2vQJX9T58+S3v31s6UCd+lJ5+c4xLKlISsw22Y875btLgOz+g6VV1SANn8lz47kvqwcNODM+q/tTnHSsm1upyZ4lyaq5T43Zv06LjJNPtvuw2VM2EdgiBVVl6m6Gx+E1aSbdt2cFk466ZMJJYFz6kr2LZ9F7sI6NxW6uqcd+s8TiGYwen1cfadgYOqLVi/cTP79ey21c3V7mQU0KQsonkjulNPZoq9J/2eNuTWFHzu9iVprx6nJW88TJMmP0Ef7NYFTSjnBOfV/v36KlEWt1u0aErt27ez2G6uAebgjZs2C38ic+0u3J2lAJJVt60jR+g7eyWu0c1RQOseS1OmdiNfLqNW0XwYPTo03Gy1EHPH1gXuRspy+mDuXPr9/zZSyvWqagW/4bIz/eGH2Km/qc2pwO2mU6eO7FJj3R0CQSvLV6y0OZ6rQ+0pYL+dpPZjO+yIivJKEYGIaEBEEFqDYUN10YPW+rjanI8C6vZT6YEun9Lu9deo6bBHaHhYfVpTlFDqz/+kfyzeT2dTz9F1TSBxcFYN2LVnr4gWe8COTNlgjlzhs8YY1hBIlwE/uyr2x3NB3VMAEd4BAYF1f2LXGeuMAvBFRl5bLUfG13w7NVSavofWrt1BR89k0nVqTO0mPkPPjWxJ13d9S9/uz2UNGx/cbADNmeZPOz9ZT2lVKgro/jA9PTyCqi7voyVf/0yHLrI/cJNONOrxOTQ62puKDy6i/27NoLLKYOo2vjMVrF9Jh7PCacw7L9PoRnIWGqoo9qaeb35FT219hkb9vXpaCfjzbt6yhReG/Tkq1LqWCz6w8GdG9L81iIuLo1at7PeBtTaWPW1Dhwy0alq1Zwxn6eMUgtmVwiuEaEmEGSN9hDVAWgU4m7vgXqMAGCKC2zkJhpmUKdqSdNq/ai1tP3qGsq4TBcVPpGfmjqRIdS7t/+Y72ptXxVlP3ChswBya7r+d/rP+LFVSCHWePodGRGgpZ9/39O2yQ3S+xI0adxpHs+eMpNbehXR04Xzacr6cKoJ70PjOubRpxSG6ED6ZPn5lhJHAmnIq9u5Lr371JO15cjR9qAsoM7brtyJatBAh7zUazCDOcTRxHqc9GTz4PjOt5lFIm4ByJXVVu878LBou9hCnl9nLEZjPPPNUwyVCA75ybeqn9NRDX1Lp7K/om7fO0ztTf0P/25dDjbr+l2bHR1Lh23+j5bnBNOTvcynE04Nal75Ob2+Lo3cfa0ba3NX020feoi0t59GijzrST9Ofpdd3nyfVz+/T6C6dSP2nD2jJOW/afXEsDfM4STt3BlHbYmLBTBJcTYE9x9BwFv3MGSAhUELYcuNACVsAn+6DBw9T165drApxiJBHwFpdQUNy/rd9l+qK6lbOgw/ar345j5rZkfUffjlHONTbBQ2HAqqqVJr/2IP0/NJyGvfWWzTe8zit/fS39IefeIWqDqOOkfm0+ZuvacGKSyx0hZBHu0gq37yQVmW3oPhmKipY9QbNnvsJHW3/Ar07O4SOfvoKPfH2FiqkYOrMifcPLP6efljwEX265TJlndxFWw/qwu0NFFaHULexwynam1fDVgAalZi2baz0MDZFR0dSt25djAg7thASj4SP8Ml0Qd1ToA2bMQcOHFj3J3adsX5QILQvPfSLN+iNWfEUGNqDOkeoSVWWRRmZHMgTMoCmj4wkN801unA2jxeFNykrp4ziHp1HY8OI0r/7gjblaqntiEkUE9KV+sYHkipnB63cc5O0Xs0oPJh5i8qXOs58k175YD4t+N/vaUq4/Z9vRFeOGT2KQu1wB0LkY58+vWwGCSANyfYdO+uM9i1aNKdmzWybYutsQnfwRE6hMUNCUeTd6d2rB6dZsG4qmDRpPJVwBIoLGg4FtKpQ6jX9eQpuOYk6BYZS804tSb0lkbLSM6mKwihw4Awa1WoNfZV5gVJZc6ZqlEXZ5V1oxoujqRmdoU/mb6JsbRd6eHI7Cg7oS538l9Kq7atpZ9lwup+jG4OZlBqfbjTjzdepd/Y4mlEUekvERT6rnJxs9vWYZvN4rFqRc6o2JXsQRYW0K57m7Kg2z+jqcLsUQOqYxk1s+8He7nlcx9dPCqhCWKs+6iYt//aPtOxcNp3PZD9YjnCs5OhqIg82aw6l6EVf0pntG+niJD9afqYbzfxzJJtES+nMWU5mzdaA/HV/oJcOqklb2YH69ldTpHeF4WK1xNVAPFSk9WtJ8bXMDAL/05+Xr6RRHBEOAcca6FJClYjUFNaiwrt168a+aPHWhnJoW/euXUVqFIcOWk8HcwrBDFEiqWlp1JkfAhtymUjaCFNmTEzbekpy17QcTgHWWHWfMIrKli2kPy9Jpxw2A2r5n4bzjIElat3jaPyQaPr26zO0c8N5eth3BSV0n0FvteIVZ2kqpV9iM6c6i7b8/gU6odZSVad+dJ+Ki0wbeSKhsDDzRPJp1YlqyRMNl9uBs1ZHR0cZ9q1tXLqULUyZTZuGWetWrQ050kYMH+YyZVajSt3tIIeZy5RZd/SuH2eqoITPX6MVLX9Pr4d9RbOf+5oyu79K8//2Ah1/biS9rzDeuLUfR0OjF1Bqyhb65jMV5Yx8i0YKPYOahSCuGMB6tIip79FHD5nWgrQdSWmLFsgRGcfBRPDTtgX4fiZyMnaYMn2s5A1FJQP8r6vIzO+X/Mh5Lj2Fu4ata3D2dvt1oXfxSlE65Dn220DpCVtwmjMgy2zTtvq62p2bAqqKY/TlS3+h1dlH6OMZD9LcT1Oo1bN/oXcntzFxzHWnthOGUBu3Sjq75Sv6fOU1GvrYcKEJIzcPTozLq1BVG5rw/if00Sf/pk8+/y9XmvgVjXBwfWkv9itBKRp7oH37GBowwL4ITjleDle8mP+/LznnX7ZEuX7rkALxHeNo4qQJdXhG16nqmgJIsM1KMANor2yjxUt20OnCKjqzaSullqopevAk6uCdTblX0JEXh/pYHK1bDI0bHkPulUm0fGMATZ3VkfVoAI6C7B5D3pzcIpkd+9O5v6o8k7b99xvaibQ7Gg1XO9CNJX7EMZb+aKmo5CY3sqaOk5/zklMAEnd369ZVJPbWoyz+oO+wYUP4e2vdMoCKMyg9VVfQk/Ol4RoaAjiFYJbH5T9QSgn11GzBA1MmuzJv2yKSU7aDIUIPJrmihgq3LqYfdpylwvTNtDWthCpjBtPkWB8uyVUgeiFKUYK63Tga1oajjJJW0OqgKfRYRx1L1Hp0oa7tvEldkUgbVpwjKMkqMzfT/xbsoSuCJ7J/iOCJrIGTg1n4VWmvU7HgiexBcqNmZCRKymzdts3C0dXRqGd4/nxmdaSNPT9/X+rG6n7UIXVB3VMA1ShKuFyRC+5NCiCP2bIfD9E15gfqjMX04tiRNGrca7Qmx518/XyozX392PRYScnzn6K5v15M+Y2D2acsl/YtXU/nBStyo6gJwyiWHfADhs+iqQYfMTWFTXuV5g1sxg6t/0fTBw9lzfdj9Fl2Y4oMUFPV8aW0Po0NnRoug2UYqyaNNcmL6HdPTqfnvk0RAplm799o1uy59MHGPFGB5suvFoh6zTWPrI5BZRbUPC0uLq3eYLLXs2d3mvXoDBPsnduFYga1RRsCOEXmfwhmm7Zso5HDh3IRXkMYitn7s28/10rjdAFQw7rg3qGAJmUhzXv2A9qTX0WewU0p1FdDxVwYvdBjKL2z7mE689jLtOhSAMX26kyxjQpp75rDdKX5WM7p8wHd3xJh31V04ZMZNPXzfBr275X0f4OMwkvlqQX06xc/pp25XAIrNIAL/jajIb9+n34zrjml/GsmPf95Il13a0FD/jSf/jYpkj09TIE1cQt/R39dfogSki9TKTNut0ZtqFPHgTT93V/TmFDd+gch66iHCD8wW4CagwVcm7VvX/sNpygCX8pRUk2YecHfzAV1SwHwHpcps25pXt/OVp6XTqkF3hTZrjn5m1F7qG4eoQ9n/pO83vuaXogxfUc53U1mCqXlaCikdRxFhdTkNLd6vfBZTT93nlDf0lqZJYwP16F9+w6KXGbWggVQzB01SSeOH3Or06rVcYu+X9pgTJlOIZjh7uGjYw8grUYFl7MZeF9/e7q7+twjFFCV5VN6agF5RcdQcz8zHJGvs+LwBzTzn0H0zoK5vGo1ufCqa5SVkkY5mkYUHRdFDuSJhhOhrBhqtbZp09qAc+RGdna2cPB9dMbDNh18HXle11g6CiB9wNXC61b9cly0apgUuLn+XXppVwDFF26hTU3foEW/60/GpeGdpwm+iQWcyT8kJEg49TvijImnTrFPdwY9OmOaI4azOUY2F4h3d3O3y6XJ5mD1vIP5L1g9m3R2dg59Nv9Lu9IAjBwxzCWU1bP7VxfT0XqFUnR8rBmhrIS2/ulZeuujf9Brb++n9s/PrCmUYYJuQdSiY3fq3unOCGU4xenTqXTo8GFs2oRMXomeOpVis5+yAwq8jxo5gkIUWmVtZQmpMv9H6gNDuQC9IppBeaBr2yEUwIcjsQ59bhwyadcgdUIBBA9pLiZQRuvn6Z9v1K1Qhgssvn6dF23LuSwTmwVsQBnXmj529ASbP69Z7RnfsSNNmjjeah9HNpaXV3CO0obBwxynK3XkHTAZy9vbi9pER5E351exBS6NmS0KNbx2N88KupSQSR1e+Du92L8u16nVaT140ADhJ1cda36viiNKYfasDSBTN3IQuXEySSo6yYGm/yO6tJatuJwE0s2HVGoz5QhqcwJXX6sUyM3Oo6SkZOrFvjf2AHwmYTYCIHkynK4lGBN3IjGoEq9z7EY/JAyVgHEwHgDjYDyARTybtrR6KwSeGZm0GSYvaZ2wB48PZRWXKAKgWoWbm04VrcS7M97DHJ7Tush0DCiaLZ93dwt4N9aWeHIADQAaoEp9InElvorxMsG4JTyuFdcGwLXimgGW8CruL789yv7Ke2bpXhrw982jj+8zvZfG5KzKe3njhvEe23UvFfce16GkH/YB/pzOYMr99wuNmQ5j7S9XEWB3IPk8WeppS2OmrSgk9eVvSFWSSpq4f1kaxm787t37dKbMiCl2H+OsHZ1CMIMmYNjQwYaX3hqx/dnxGT5mtgAPXR778Phz7iHkHwIUc/6zUn0ONODQBgCTLCrROfX6ePlw2RVdyDFeoKISTr/M4O3pbcg5heoD14uKBN7L04tQpwwABnBN4rm0FNIbAMDECq/rViee7u6E6wWAWV29pgt4AGOTvklgPgVXr4o+7sw0kPEdAKaRf+WK2HZjxozafQB5rdiGijQ01Bhtk8/+e9JIDN8kydDh31SlZ/ShPL5k3Fd4/Eo9Q2/MvlKSEV/h+VTyvAAhQcEGhltYWEjl+vsRHBhkYKxYjZXrBY+ggAADo7zGJYVkod1AxkuGeP16Md0s133EAvkey49YUVEJ3SjTMbgADgWXDK6Y7xf8rQC95n1Cg/X3Eve3UN5j/rBJf4vq99ib77FOgMOH7XqxvMdehqgme+4lzu2mUvN90N0fRAtfZz+z7nb4P0ZGtiT8rw1cKbhMabvfp5j886S+kVr9UHfds1wd6dpzJAV6cNRYu1rUN8Uzt4CrUgBQau6pJ+eIbbz3Xy/4Vmzjz3NznzFsL/jmW8MH86knnzC8ZwsXfk/lbEoFzOK6wpJ3LfnhJ+ZpOt41Y/o0A2/5+ecVwiEc/R+YOsVgHlq1eq1IgQD8pIkTDCbx9Rs206VLWUBzotLRnPYlUmxv3rqVzmecF9vDhw2ldu1ixPbOXbsoNfWs2B444D6Kj+8otvftP8DCa5LY7tu7N3XrrouyO3zkCB0/fkLgu3PkXZ8+Ot/KEydOGrTM8Z3iDdaQZB5jz559on9sbDv+PgwR22fOIOnpDrHdmhP+jh41Umxn8BxRRxYQERFBEyeME9uZmZdozVpevDCEh4fR1Cn3i+1c1iwh7xcA/PXhaQ+KbfCzJT/8KLb9mT9J5/diDvr4buEigYfQ98Scx8Q2hER5L92YV8uqEODJEo+Oz3LWAcljv/1uIQu7Ol465/HZBl73/eKlLGjreNqjj8ww8KIfly2nItaISVDST+I0zIOv8tz9+dslhVLZZvqL9t69e5iia+z7ePvwHMzkFb22j9QXvyDK2cIfJa7C02RAjWNvBTFl8vhq9T9vZQxnOcYpBLOLmZm0cNESmskRIM1tZP7tx87SRXZERoH5/fTjMurVqxf17NFN3K9TXJT16LHjYhvBA/369hHbKcmnaf/Bg2K7Y4cONIg1H4A0zq22a/cesY28acghBbhw/gJt2bpNbEdGRdK4MaPF9qVLl2j9hk1iu3nzFjSZk+ECctmJfdWqNWI7rEkTeoDL6gCusrDz07KfxXZISLAhMWkRC3eYOwB5aWbPelRsl7IQIfGezOifVDB6iYfgNffZp0V//FmqHwfbSkYPpgSfGcBjs2cahNdVq9cpGP3DzOh1wuWGDRsNqu8HHpxKYXrhb/OWrSIfF8ZRMvodnDEaPleAMUyfaKYTYC/Xk8w4r2P0w4YPpdgYHaM/ePAApZ5NE30GDhxA8R07iO2jR49RUrKO0eN+yaCPhJMJdJyZOqBH927MaHqJ7aSkFLOM/gx/ROC4DWjPjH6ontGnn8sgzBXQpnVrGjVqhNjGM7lpEzMehpYRLWnChLFiO5sTyK5Zs05s4483M685j88S+yixlJubb5dglp5+TkQhI0TcJlQVks+F/6N2eWspNrKUVxJmjigrIPWOTlTVbyupPJuIDlqOWlXZqIdnZiQXygIFIIgkJiUb+IBpNwjzWJAg4tbDw43/ox6qDvChvszpBwDyo6xrIQMe++gnIYdNp3JhpFHg8zhtShFbGQBS+4VtPH86bQxHHuu1XMDn5/MiTC8IyHceeFSSkMJCRblOqwQ8FmGwYgDKOAmyBAgt8hrkedB2nYUGA16/KBJ4XqRIvDKaFYsqiS/SL4rQv1SBxwJOwo3Sm4b+1/QLXLTd5IWzHOfq1WuyO5XzfTDidQtZNOLaJR4LUAnQHkn8tWvG81Zx9KLEl7LvqAStVmPAK01vuHOyv/I+4jjgJa2VbdnZuSxI6Z4TZZQ58oeV6JUFmAeeg+ZcWQTa1Sb8DTEFLEi3b99O48ePNSxGTfvIfSS2Pnz4KMXFxRoWlbJN+dumTWuDv6y28jprx75jtwkWTovPKbuxKlWnIKiOrP1eGgcvQMMa1z629gc72RFOIZg1Yg3S8GFDDJonazT+iVeCeLDlSslaX7QVM3NITDwltEtgCBLAKORLBC2HhNIbpUa8YpUCRiT7Y2UiAYxL4q9cMTIHMDoDnhmghArWIkn81avGcSoUTKBYwaxg8pL98UJJAKOWeAihEkAbiZc4+atk9GAuEpAfSzLi6swBjF7HkCoqqmR34WRapT+n8txgdpL5lFcY65kWXrlKl/WmBWnawWDXrhoZeukN47VVY/R8PySAWctrU95LrGYlXsnob5QY72WRgtGXKhj99WvGe3aDV6tyHCWjh4ZP4gv4WgB+fv7UJLSxMO/I+UlBX+5b+4XmLyjISFNrfcktmCqD+pFbwVZyqzLSo8Yx3CaFMrS57Wahz68VacPGkabZLE6iq9Ps1jjOhbCLAvDNUb6bpgfBv0cK7dDC9O7V2yBYubOmXAlS4JIabNmGfsoPtxHvYRaPceRYbDCV3dmJ2ohXnqMaHiZxPagV/YWpXI9Xjq/iWrQSqo8DPb0O1JwqQs7HzU0xPmuTJF5ZPBv8QuLdFIsIaJ8MeB5TgpoXnhKvZtOnBNSKlHj5izZcu9yXv+IY1nTLfVyLBD6tEc/CtQQexoB349yIRlCOb5wn2uX4xr66LdxjKShXuzcKvPIYN0RgM3v09fUxaA6V7diGFQZaPGhmbQFojgW3rb4Q3i6l7aRZ/TKJsjfyikJn0agxftYKUlcWkabztzWaaoNITk4RQqpLMKsN1e5gX0/+aLdq2bLaR87S6WLbtTP4GFjqo8RfuVrAmphUmjB+HOE8+KACPPUrQrHNWZkl3svL6O+BFa/E+yj8Q1ASx4BX+IFglSzx3go8XmSJl6Y4nBcpDyTej186CXhxJN7HR7dyRRteYomXvhvAq5kpSTwYlBL82WRnlMGMbTAJS2FLyRygoYPvBgDjSvBXFJdXFspFQlUpnCkZpY+PL89JJ2y58ypIgg9fp5yru6cCz9cp8R7sSCsBq0mJ9/JU4Nm0bMDrhT4cgz4Sj/stAUxI4r0VNHWvdo+N9wBzlv2VSWNhcgYeguyQIYMMplWcJ4E1sldY2IavmS2obU24ikYTKetmPOUceIMGNGNNodaMUOcfbTxtEfdhLRr+q64mEDV9xNjm2rolCsTHx1FkVCu7j0UW84kTajpP44NtDo+BwafMwZjRI82hCcFQ5mDI4MHm0JzU+D6zeEuLil49e5jtD8211F4rO3SKjyf8N4W4uPasoWlviqZ2MW3Ff9OG6Kgown9TaMnfCfw3BVhampuhNbRL5mjdiC0U5vABbL40hwffNof3ZB5mDg+eag6PeY8bO8Z0+mIfgT3mYPjQIebQ1XBY8MKCENe+vcHKUa2DYgd+fPHxOouEAl1jEzzK070vf6jYCmQrsEijENqKEkl9bCabOAeSpulU9n0ZWmNsc4iHHpxiWNiba7+XcE6RLqM2psxS1lyhVqb0TbJ0s6Bi/uLLr0QzXpLJkyZa6urCuyhwSxQwFa7gLwOt4VA7GGly8hlheho0qH+tzg3TVZBbFqlTXmWb01HjsRFTqSr6NVJ56z5aqsz5pEp+W9ceNpg0XdgEwaDVVAqThLbF42Lf9cd+CpzUu0LAZ8scXOZ0Jjt37hKO1cHshwkTuwtcFHAEBWAihyUBfsvIPWaafwzt9tbKhPVn587dQrAOD69pFpXzxTcUARuiJFPxKVInM88pPCGbq/9GP0matu8InOrCx6Q6/YGuPaAtafruqN7Xwh78E915Ud7HDv83C0M4DdrtbYb6PlsIWS1bRogHwFTlbzr3n5atEPUypROqabvchzAWzA8xHOqbN2vOD3SgbHL9uihwWxSAGSI3J5cQBFJ0vdjwbKG0WHR0lF1jw8zj7+9n3rnWwggIkDjM6TjCWsRxPrc5HIrVkrVhh0RUpjaMV9tNFNqZwB6kbTqJyLsRmzJ5UeKjm5c6431mmvxfU0jaxua1LRZO3+DR8G0tZvO49Jc0JQgqMiDFQJPQJsxzmpk2u/ZdFLhlCiDZ6ykOiMjIyBBKiYiIFtXGQrBUN9ZiBuoD0ao1mtmBBaFRIwRxWTZ9Hj58hLZt30F9+/RiE1MYaVs8yvbUpqQqBM8xasi0sW+wq8Sj7Cqh80dWZ/yDqOSCOKs2+mmioD667bLLHMGZyDyppsYTHU6dShYm3tato0T/e/mP0VZUj68SWgA4bKJOmS3o37+PCBG31Q/mQAhv0jfIVn9Xu4sC9lIATt4yWETp/H/gwEHKY0frCeN1gQLWxvP3D6hmBrXWV7aVc9TqOQ486c6RbkEUSNrwaaRpPJbc0v/MjNOMIOAXQ1q/X8vD2eHyFKnSPtPtZ3xF2lbPk8rLzHHGI1xbCgq0bRMtIvsUKNemiwL1ggLwud29aw/1ZNOzqTbNdIIwpUNTZit6M4bNzKb1q7UsgGlCJzDPYe3YhR94aK4VyoKX1NTjXFXxX5HqylZS561kU+YMg+ejW9ILrOU/QpoeC9kprqZJHeZ6fLcbAjjFVeZz6oYVHLV4ReFUb+nmQLuGfDoucFGgvlEADt9Nw8PtmtbZs+l08KDCFGnHUUiDgvD98LAwQ2849Gvavc+r2ccMOEsbWp+2pI35FXslw49SK/IPWerrwtekwMFDR+jLr76u2aDHwNcSEY2IqpZpeSx2djW4KFALCgRyKqJmrIVtHR1tSJ+kPBxKDQQvIVjMFpRx8fNdu/aK6GFrfZEvDQtPU1B5BJEm9m9solzF2rAOpPWobg5VcU5FaO81HT43BCOpsr7m8OD9wldNnfIb0yHF/gZOd7Jlq31mT7MDOBHSKXzMEA5cVFzEUSd+NmsALl7ykyh0bUsrAXMT1LCwp8Os2dD9PfI5n9np5GRqxDm34jp0rLNHOD0tTeRNatu2LTVmweJegJs3y+nwkcO8QGDGxcEio3mlV1tAfraKijKzTNbSWEivgiSMo0cNM+Sws9QXeG1VOZsddpM6fy1pfVkoazlX1x3+IkkvUVX3n12RmtYIaNKWlXWJ6xFmmHV6R9cLFy9Wi8ocxGlfXGCeAi5+ZJ4utrCmfq22+ptrr2Th7QpnCggKMuaXNNcPFoBTnB7mpXnPm2s24CAUmgadGRrlRtFxUp//D+cNWcNRZR6kGZ4hWwy/e/buF0qXPr17GnD36oZTmDJLOCVCItuXO3fqyH43uqhJSzdkzKgRVKJP4WCpD/BYOcgEiLcjmB1jO3tySpIIfR48ZBg15UgVCQcP7CckQuzcuSt169Fdouvl788//UjLli6lYPa5+37pj5wMt5zmPjlHlMH69auv0bAR7KN0B+DP7/yRLmVl0fiJk+iFl16yeIYTx4/Tvr17KJ/z9wSyb2CPHj3pvoEDLfa/mw2IthtwX39ewRqfBcxn2/adlMN5zqY/PO3OTU9lfmjhBnAzg1QV2byK7Sc6qa5u4+ioJ3Tbfi2Ngpl/R9L03mwwMZgf0YU1pUBok1D+AN1dluriR6Z3pXb79yI/AgWQSmjduvU0ePBAata0Ol+qHYWMvTt1iqcYfZ5JI7bmljmhTFtVxovCHWzOXE2aiGeJArqSJv6/pApmLVrehpqDMOa+/n0bjCnz7nIRs+SvibzOD9V+ls7h9GdLMMsvyGen6wq7nRxrnq12mH/8/UPK09cfW7dmDX2x4BtDfprVK1fSoQMHKIejseq7YGZ61Vc5ehBFsQEX9AlfTfvU1f5/P/2UIDgqYd3q1fTbP/yBBgwcpETX6+2YmDbUorl9PlsXL2aKqMzBg2v6Wli6yBDOPTR5eFvy0x4mVfZVdu6fLrpqb14gtz1D2ExQxr5mIaQZzA62DFr4cSD3FFJrlFzkTKCHiQLv/dWouPg78Ofo0eMiSbHM7m56CgQuIVs8LAAyL6Bpn9vdd/Gj26Wg7ePrIz+CebyI820ir2Qwp/poxAtsJXhw6iVET6ISjS1Ajs1jnGgd6U4sRmUyL1FlL6H8m50oslWErSFJW5Yl+IzKW5dOxu3sW/xh0UWCq9W+wt0Cg2hZSNM0f8bsohAVDjB/mZjd5kmduINTCGYRLZrTr345zy4yHz5yXJgybZWzQY4wlApBiDHbMu0a21wnmQgQbRDAli9bRg889FC1rtDIORtA8/fcCy9wIEUZjRhZe1Oco643i4t5S6GsHefgGc6aO+C2btlEFSyA10eANvbq1Ssi6zoSasoVKphlQIB90b9t27am6Mgwzuj/R+ZWlXyZKroRyQ61gKoS8jvDzKuqWOwWx68QvwW556l1+gSxzTZI0oQ9rDMheDbXj8FN5SywIfqJnfpV7qx9bsLpONw4l13YWA4E6GSWIeoGdP21RYF27VgoVuTzM+2PSEz4AN7JgCMXPzKlumP36ys/unDhIufjPCsu1lxJJpQYtCdNDwZABOfAgf3NOv+rSxPIK2cheeZvoKDKEvrh9KvUo/dgkWaHyrNIxYtAUnvzAo8jNRkgvKmSWQir5MTXLSYIvzLgtSH9SKUXzOjyatK2/bOhCok5DRuOQU47VLRpCOAUghl8Z3ax78yAAf1EigtrN+ahB+8XIevW+qAN0R2o3+ZoJrl08fc0bsIEixF1YJyrViynFPbnKuAIPQhAvXr3oUFDhhim/K9//lN81CdOnkzffPWVqB35+m/eotQzp2nHtq3Utz+/NLxy2LRxA13jzPTduvegadOn07GjR2jV8hVcM6+czaddaNqMGQbVLxjK+nVrKP1sGteQLBW+S8NHjqL+91nWyGSy1uYG94W/QSOuo/kDXxvSQCgBPmmPzJwlUDB//vzjUnFtmENUVDRNZSFVWZtzzapVdIjLKyHSdsjQYcqhzG6fTkk24GfOmk29+uhCq594+hmDvyFMnHt27eIaeC1p+qOPiv4Z587RT2ya9WA/r1/Me1FoMSVdH3viSVrOGrikpFMiI/b0Rx7l+9CMvv/2O2GWDmPn+akPPERt9XX/DBOwcwPOs7u5tBSgWlTmwcN2mzKL2afyZlEuNb20UHdWFrQMghlrudwRki4BGi/Gefg0Ybq68z1nQQ7CHMyWEMBgXvPhgIAyrkrAmf5V5XkCj8M1XRbLUVxCmYESt7bhzomXPepZ4JGLH7n4EZ5mVJFZ8sNSGscR4a0iIqw+4JWs0S3MOkAR7oc4XYaKtJ7hnD6nnDxyfyS3knTjscxzZs1+Uuyrc38iVQIHDgFC+5Km209iU+seSCoIZYBrOk09NjXBXPvaqzH37UeaJvblEG3HfshY6DYEcArBDMV589g5vVJf5sfajUGSx/LySurQob21bg5v69qtGx0/dkwISksXL6bZc+bUOAfUzL9mP6pz6WmGtsSEk7R540Y+9ii9+PKvhMCydjVHszBs37rFkPrjCpto0WfLpk10kM2jxay6lqVZTrL/1d7dXDT4zBnDuMe4KDAEWmi9IDA9/8xTNSoi7N29m3796us0YvQow3FyA4ITBEhATLt2QkiBUJXL9fmUgISGEMxucFLfF3/xPGWyg7MEzGHjhvX0yX8+o6ZswvvsP/+mFaxRlAAzry0ICTaq5D/99yeiOkOXrl1FaQ557OGDhwRdIFxJwQwC6GYWXAFPPfOsWAVKuh7Yv49gqpVwhOcZxMV4L3MtU8Ap/r93zx76kgtGywLxouE2/3Tp3InvRTu7RsnJyacreZcoTi4QWfhyv7aDPHO/Jy1ruEjFDVq9xrCKBS73UNbG+ZE2sC23saDmwyZT2c5nrOq1niOgQu06t6vTrVEgiUvGoN6qJVMmFmUo9wU+gLJDsgbirZ3N+lEuftSw+BFcfFDFAAv2IE5ebAqoodmbC8MHB9ZsM+1bybVBCy/spjjfb/VNsPjUTFWl1aoo7eD/OD0P50T0YP9KOdBNHR/FrtY3VoflhSWc+mUggIrrZ2oGnZRHGI81YGpuLFu+ivm4Jz34wJSajfcYxinET4T/z3lsps38K7g3mZmXCIWkbQGY5I6duwnZ2E+eTLDV3WZ73/73UfMWLUS/n5f9ZCjorTxw8cKFQiiDaXPGozPpD+/8idrHxYku69eupTQugqwElNHo0rUb9R8wQDjly7YiNr824bQLGMNPHwwBoSyE0zEABwd+AAQ7ALSDoSiO/uA0+vCfH4n/Yfq0Ddv0fURHG3+enjuXnnp2rjiH7BoZHS02v1+0UAhlKPH0948/pnfff1/Mo4Trei787hvWuhXQGva5A7TgFducp56mlq10/gbASSET20qI79JF9AcOgtMbr/yaXmIBMOGk8aVW9rdnG0LZcDbPQvMIKOU5YuwBgwbRYL0Wr4xpD+3krQA+uqhNB0apzBkEYbeKC4fbA3Fx7Ti4YTCVN32QKgO7sDDGJaySniaPfJ4TmyBL2/2FStp/TCUdmXm6BYkhUev0r3sm0MWWi1gT9j3nDjLS1yWU2UP12+vTtXM8PfTQAxYHyeJn7DvmARs2bqIDBw9a7OeIBhc/alj8KDKyFTvH96OJE8dR+/Y1F39IIdUmOop8/DhVhQ2AENe1i1KxUVMowxAca0mRN78h9RG2zCCISO3JGvmW/J8XhxK8o0nTfytVDUsnTZ/tOtcK2VbL3/s4R2nvBhCRCbI4hcYsNzeP1q7fQOPGjK72oTN3XydOGMupNUrMNVXDwQ8oiSMmARCUOrM243aAh6DH2UT2lz+9Qzd5Rbx44bdiXIwphY79+/aKU0DjIzVqrSKj6MnHZok+CQknKLpNa8M0evftS39898+GfbkBH4C/s4CF9BIQ3uCDhSLDf/3HR9SC/fHwEi746kvhPwcBFHUzEZQAgJMoBJPIqCih/SpgTZy9IB3t//r+e+IQODPDTAg4rP/QtGvXnjVzFWxm9BCmxULW2qWx9ioxIYHLd7B5jeHlV16ljlwvb+z48fTUY7N1fn6ipeYfzP2DD/9GH37wvtBIoseZ06fpjVdfoTffeuuWnP8nTr6fnp83T2gSp07kfDosMA0dPpxee/M3Yvsga9Sg1cjjCNBbAVEnc/CgGlGZCYmn7DNlsqarOG0h+RcuJ88KmHKrM0aNRxhVNJpcY2qBrPVDrUMUIHZB3VPgGr9bSJmBaiJ3G1z8SCf4uviR7kmEy8viJUtpPEyZZmqJKp9X8O/0LG+KaTyRvFQlrKk/xtHcrJU3AU1AG2qiYmUC2BO7TlT130UqX933S3XxU9LywlCFaiN+sXZpxEyGr7GLeqSWCr/X6OzkCKcQzOC7AVOTOwsftmDnzj1UwcJI7149bHV1ePtALgzcdnEMnU1NpXWsAYMJUAnSDBgVbRS+mrMgBQEHQktBXoGyO/XoaT5CDgXQZc6vIP1HGGNAKAMEcVSOBPgL4GFe9uOPwkfsmkmSXik0yv62fg8fOkRbN28W3eDD1ioyUmzn6CNTj3L+LvxXAvzUcnONJlCpJURBYESpIQDDWoAErvW9v37IqUdO0VdffEEJJ06Qhu/xgi+/vCXBLKJlhJgeTEnIbg0hrAX7pwGgXcS8gMM5HAn9+vamShYCrYHHlZXkm/Y2O9bqHPvN9q0qpcCjA6gyoBNVcmRleZOZopsHF1xHsWZXgmWzVLvjyHPnzgtTJnxXzYGbMF96CeHfWqkbc8feCs7Fj0jwoobAj0pKSqiEy4FVVFVSEPMvuJgowc/Pn8aMHs3lwGy7M2CheqkolIIifsv5EBsJocvr0r/IO/N/IgGsHPd6mT8VV8RSK9/LRB5+BqFMW3GN1KkfskfFTU6DwbUwO33OwplSAydHqN3v5i3bG4wp0ykEs0aNQzhEdoJdd1Gj1bL2yfrHDwMhKrNv7950nUOMrQkFdp1U0emJp56h37z+qighdYq1REqAEAANV2mpUaMH/y9otQABt1Cv0565Hz96jOZ/9qk4B4S9eA4MOMAO8ykpKQJn7x9EaP7rH38X3SGQSad/ILxYSwcXz/YdOtDQYcNFH/knunVrQiJZCUh/EqIXHmsjGCLxLbRnL897gU7z3HP1wqCkQQX7Ikqwd1x5rDzOEb9gbNeuFbFA7M7/VYZkrzk5ecw8S6z6P1Y0mkQ3qq6TT8bfOJLJ+Jwo5+VWdpFUZbnkUbaF3ErPGgQzaD/XrFxCDz38uEFIVx7n2r6zFIDg3bFjB4snwcLpiTmPOTzgyOIJucHFjxoGP8rIOG81KhN8ThftaPAEs/jYQOOPQDsDsH9YWYuXqaLxFPJNf53cWIMGKHaLpv03hlDE2PvZnbXQoBVTX/qSnVpZKAOU5XPwANfP1O3d1l+UZHJ3V9/WGM5ysFMIZpcuX+aIkp9o+kMPUnhTji6zAkMGD7DLlAnNSDeuKejoqEzkK4Nf2InjuodXOVU4p0OlDOd9RMlAOFnxM1cqYGESENM2RtndYdtJSYliLGhS/vjnvwitUJKJ0GjPyb6Y/7kQhuBDBXOkUq0czkkLYSKFT9noseMMjs0wncJsDIFUwsrly+ixOU+IqEnpcC9pIPvI31UrVogEtA9MmyaiOyHUSa1fuN5PDiY8AM5/9kwqeTFj+e6brwUOfyyNbejg4A1c646dO8SoyqjMDM4HB82hrcAUaMDSiztTaN5fKbyqZoCEuszoQ1nZaKhh9uEeCfRy58+pqvAyaUPf4JQYOp9HQwfXxh2lAD6OKafP0H2cXLi+gIsfufgRnkVEeSPBrD2mTNT6PXEikZPHtjEsoDGGxjuKijss4VQZP/LC8QNq0jyWRncdiSaORTJaabShY0nFC0bKWkXa9n+o1iY63+KfgisFoqg6/HfvdXAKwczfz4+Qm8XXSo4geaNWr1lP0JoNHTJIour8F6kcfvnC8zUEgqkPPkTvvfsngt/VE7PZSZ/VzTKJa3vO0dWtZw9h5nD0hJu30JnuysvL6ZWXXqRK1tDB3FpbWM8JdAEadmB/7Vcvi20VC7jfLFrM6SUepL8kvUMXL1ygx2c+QlFRUcJEmZGRQQ9Ne5hmPf64CE6A8IQgCOR7gy+eLbhw4TytZuFsOQdUQABDjUHpq4a0JIC4jjrTETRV856fa2vIu9Y+eNAA+8/t0ZjS/H5L/hE55HPu96S+weYCPZS0/Zjcbpwmt+tstm88WaLJJ3sBqdjXw/3SMqKbaVwMeK2hzbVx5ylQWHiNLnJaGkuA5xNaXUSNQ5OqXNhYOsYReBc/uvf5Eb6NyJMIEzkCsEwBps0Z06dxnr2abaZ92aGDPNg1xpI1oTz0QSoPGUHJJ7kk065lHJg3q/oQbLbUxP2btNGvVwtAEtVHuKi5ihf2twKHDh0VpszW0VG3crhTHeMUekGEAgvBzNd2REnz5k05Gs4+O/q+/Qfo1KkkUe/rVu+a9BVR5i9qF9uOJk2Zwpop3QPYtJnO9wu5yp59/nny5euBUAKhzI1fAJQWeue998UU8DIAB4DPkBKk75A8p66Ph+iCF0mCl4eX2ERAADSDg9j3Df4mAJgvkeOrnz5/GcxtANOxzc3Dk4MOJOADI/6zsAeNFMZ/5rnnxLVB8ETqEJgvIVS3i40VH6Hf//EdkQ8NY+D64Ws2YtRoMSSc/M3BiJGjKCo6WjTBFw1CGQS0J595hu6fqouA68Um6dFjxxoORzJFlHcC/XH9+G/uenAAfPMASpq665MYerhXp7/oaMcfnBfMESu74GCdNg+HJaecIdSXswciIlqwWaw9VQYNpqLOG+lmxBxelvJcOfIJeYUqgwZRWcs3SeOrN51pOBP3jUz90GrSxLxrz2lcfRxIga5dO3O5rYcsjpjJpce+/GoBrV23lvZwWo07AfI5dvGjhsWPonkhPGjQQJo69X7q2KGmOR0pp86fv1DNcmHp+fPy8mBrUhfrQURuweQT0p5dJixr5REVDmFMnfIyqQ8MIbdtbUh1dbul09rET3toKk2ZPMlmv3uhg1MUMb+YmUkLFy2hmY/OEM7N1giPB6GI/XjwIbYGiDz54suvRBf0nTzJviR3pmPCPwyaKESMmAJWyBBazK2Mc7NzRKJXpIwwba/gfG2VlRVmx0S+ME/2VVMeYxbHgg8iI5UCTyGbTwvy86kl+4ehwDYc3CGQybFMx7E2D9NrVe4jmhHpMZCDLKxpuLJJbCPZrS8LbDDlgj4Q0hDQYO2eYe7wKYOWsUl4mNm+8N9Cn0i+Pghj8N8DyHxR5q7H3P0TOFbn+7CAdztgWivz0KEjVMB0GTNmlM1hU1PTRN++7LckQX3jDHlf+oRK23wsUdV+xfN2eSkFeRaQKvrVam2unTtPgeSU03ScTUATxo8xe7K6KGJu7nmWk3Hxo3ufH5nyHHnv4TqzeMkPNH7cOGplo4QSXDH27TtInTp1tJoFQbqIBJrR0Mnzqi4vJFXia3KXNP02EvmbD44xdLKwcZTLREFZ0YXT0tzr4BSCWSl/uNPPplNU62jy5Rwr1mDxEvbZ4n8Txhs1KOb6O0owMze2C+eiAChgiUnaQ53c3HwRKBAdrYt6teeYYhZMU5JPU88e3cjf14NUxRzmXpzETnYVogadPWO4+tw6BeBfdoITXCOtjznI5AXmmrXruUlLjRs1rle+aObm68I5DwVKS2+wNuwGBxqFsrnSTySbvtXZYwF7jq0qzdjSg6TVlgDa/1NJyfTSvOcNXVDuTZ3zE2nCH2Qf16asMeOsAId5IXqNA82ajuIITZ0yxHBALTZWrFwtoujHjTX/ftViqHrf1SkEMzgjZrOGKZw1JdLkZomyqZykFUXMo6JaWeoi8Fg9Hjp0mMs3sXaN/8XFtbfa39XoooC9FMCzBV84mNThTxEUGCAOPXL0OAcoFNCIEcNtDoUxqqq0vEK03x8jJzePVq5cJcxpEflvEmXz6hSAkPW+O3Tbrr93lAL25FB0dMDRHb0g1+BOQQG45FirlQl+dJA19p1Z22Ra4Nz0AqEJk2mW1GrLlqccLs9XkJ9LffRl8mCypIs/iOG0sW+QttU83dAlqaTO5KCktn/hynG35h4i5whLSEMAnYNNPb/SXDaNfc/J8ewxZaLOYQmvHmwBbnCfPr0dHpVp67yu9nufAjAFbN6yVVyoMioTJlV7zaMpKamc4DafBg++z26ChTcJoaefeoIC/HmVW2g0w2rDdJFTdg/k6nhLFDh2/AQd4I/fozMetno8PpIVFboUOb7sNyvdDSzh4XKAgAEAsrLDDQFgCY+0NtKMj9QH0pR/82Y548vEsUjdg/I2APTFMQD0xTEAWBVu3NBFU3t6uhtcKzAXnBuAueMaANC0QHMDwIICvp4AmFeLi0vFNtIdQKNjDY9FSVFRieiDIAn4GAMgMFy/Xiy28X1GvkFreLQhKpyHExAY6G9wgbCEL+aociyIANAWSUEAbhKVlbqB/P19De4flvCW7iXoAzoB4P4CugJu916KQaz8qeB8lpcvX6JYO+r/gn8hH2jXrl1YGX8wXIsAAEAASURBVNJEN6qGnwMUJ2dwv7qBvDnQKLA4lcKC4JbRR+C1nFxWinGqHC5MLgUzvxjSxHJeM9Hr1v9s37Gbn08PUeHg1kdxjiOdQjBDSabZjz7CSVU52Z0NWLd+k12mTDkMXsRiTswHwAdNMg28cHL1i4iXQD1zwAuH3GcAP2ZIkjngxbrGqRwAyMwfrM9JBoZXyCkyBJ6ZoczKDmZ4VZ/sFVrARvq8XmCGV9h5HgCHfpHgj7fxMhdwRCMAOdhCuag4AEwvL79AbLsxt5KBD2BuufxhB2DVE8blgQBgbtCsSGjKWkgJqLCAiFZAGGt7JFOCgFCl525IUOimLySbz+dFhCegMZeDkh+YAi56XqHP8o/VmfyQXLlSKAqso38IO8bLD8bVq9dEoXbg4UMmPwyF164bnFWhdZJ+fMgRdoPV9gD4N8gPwHW+l6Vm7mUxV4KAZhTgz/dSMnp77qUP38ugWtxL5HOT1yVOqPgTbyXHlaKb2EQQS6NGdmSQryoir5yvyIOdaqsqbtKqgldoKDsBB8V8QG75+/mhbk2ayNdumymazs+1X5MCeNajo6ybnvH+HT58xPCO9+3Xl5oyfwMc58TJeAcBvXr2NOSiS0hIJKQMAnTr2pV9KHXWgGQ2W1+4eEHg4zvFU1vOFwhITU2ltPR0sY1o7/YcjARIP5dGZ87oorFj2rY15Fw7z5HUsgpKdFQUdenSWfTP4mCFE/rSZxEc2d2zZ3eBz8m5TEc4NyKgKfuQ9tVrTFDP+KC+Akgo84kB+rQhqNm7e89e0R8BMUO4KgYAQpZMK4NgmRHDhgk83stt27eJbfDSMaPx8dcJkBKPoJ0J48cJPHidxANxv8JBfMtW3TjAT5ww3iBQ7di5SwQSAY/Eq5Ln7N6zT5gEgR8xfJiBV+zjFEfFer4/mEu3yTyMh/heFur5+H39+xv4L/yh8pkegN69ext8o09ymiIZid+jezdqqc/CD5MgTN2ALp07U3R0FG8RnT59ms5lZIjtDuzU3y6mrdhOSztr0JC1Y2HLiwX2AOaR+GZIfig66v+Af86YNpkLil/jHIhZpFGzMO2h+56qed+t5Ci3XSWNF/sf+w+g+PgO1ESziwKOf0TqsgKqCB1m8G1VVxaQW+FhMXLh+b0UqHssSNt4FPOZDzjDeSxpw3T3RjmH293WaLi6QJX9FoTbPd/dPN4pBDMUL8/m/E9BQfzg6SPmLBFtyJABvPrQrf4s9QEeL/NRNi0dOqx7wICLbdfOYNK8eDGLcxKxXZyhDTO8Tsz4AJeZQaK0DqAVM8juzCgByHx/nFfMgObNWxgqD+Szs/dh/TkgYPZjRgyAULZ/P384GSB8DRygS6VQVHTdgA9kgWDYkCGiD5iV7O/r60ejRurMYVgBSzwEvHFjx4j+EOQkHgLWpIkTBB4fBokHAkEP0ul+PzMf0AUwjqMcPT3VYvvQ4UNi9YydUSNHGF58MGdk9QcMHTJU3B9sH2dmjnqegEEDBxgKgSeeSqQreuGyP9MB2k1AckqS4oPUiz9IzQQepZcMH6Ru/EHiQAlAGkd7mvsgIdo0Pf2c6KP8IKGvuQ9SJpfPMfdBgtnc8EGK4A8S56YD5OXlKj5ITfmD1FvgITArP0hguNCUge7QcEjYwx8nCMVTpxhTXMg2019oNGRUr2xTl11gBnqS1KVJnPDxVdQS4yY1eV/4lCVu9uXgvfLrqSwU9+MAzmAuXL6cw20jbqs+nTy369c2BRBJG8SChyUo5nf4Ege+yIUX+jVm4Vv6InpyAWoJ+PBLvLfiGULaA4n38TU+W8j2LvFn9UIZxgrw9zfgEXwgwY8XobL/Za6xKsHHx9eAR94oCTiX7A9tkwQvFpwkXmrd0IbFmMRLngI8+LfEy4hw4FHdReKloAM83gGJBw+UAJ4l8VIDJdskXu7LX+Q9lItHtXh3dC3QCklhRi5G0YJFrsyZhflJCA1tzLxLt9BVfo/Ax+W55WIUx0Bgl3jkWJSAsSVeyScC+Tsn8WfYNUcCBC+JR05ECYh8h/VnoJX8eUUsVJ7b+y4NDFwmDqsIHUqlMZ+LbffrO8jn7Ns6fOOBVB4wUCgo3Co4ql2fpkd9Uyc0olOlb5zoiz8RQTolhUBw6aWqIac4b1mQod2RG8OGDjEoCxw5bn0cy/i01cfZ6edUcPUKbdy0RXzIbZmCKjgsuIIjGm0BXmxoJSAcyAzy/gpmhY+2BD/WssgXIpc/zhJ8FUwMUS8SfHy8DP1LFFn+EU0px4FmTIKSWUkcfrH6kf2VL7oba8wkHglXJSiZGNTREpRMTMkk0Y5xpGCGz7yEppzIF8IBQKXSCWjYBr0CeHULwDwkhIU1NghgytQdYFZNOfksQMnEQkKUTMzIrEJCjB+eah+kQCO+1h8k1ghIsPhBYrOLpGm1DxJ/FCW++gfJeC9NP0itOUgF/02hefNmYlVrijfddy/cSqUZB6iq+DwF9uMVqL5IecDJKcwVdfe7ovH9pPFhTYibH1UFtOecZrrFwv0DAsiLPygAlXdL06Fd+3eQAvDh2ctpMJ555imzZ/HnZwzaDSSizcnTacZkuhYc4MftKFEGQES1BB9vI17JB6BBlv09FEKdj5e3Aa8UBKAVkv0hUEnwYiFK4sG7JCDlhsT78rkkIDLOiNeZK9EGoUfipeUBeFyjxEOIkACzphGv4ylo06Wb0dEBVgkJ4EOyv5dygc4WAYmXvEweE8CpdbAYFaDwl4KQU6bnwUr+JsyXeouAcmHkz/m/pHVARrFjTFzPDT2vVQqauH45JykMoj++GUa8J1ACQF8DnukuQXmPcZ8k4P7J/tAq2gJk/XdzMx6v0ugsDjhO427UzKvLC4S5+8CBQ9SnQyAF6gdWc6URCRqf9nSj7e+ooCKSCspaUCfZwL93SijDKVatXiesEagAcK+DUwhmEZwr5ZcvviAEFVs3ZM+eA3aZMnWCWXOKjY1hRqATSQIC5GOoW2lCTQ+QmeWxjRdU4mWdSuCx4pL4YE4TIcGHNScSL82SaMPLZMCz2l8CzGASr6x3BuYm8dWZnpsBr2S2YCqyv5Jh4DxB7GvhzQzClImFN23GGjOd/4OSWYUzHcr1vikwo0oI51UjGCfGUX5IYO6UHxClFgDmV7lQVX4wQBekBwEoV44Q3po21a2S5YoWfUKCgg3XpqQF1PXymv35GiXgvkq8ND2jLYCZp8Qr8435+RrvsfJeevO1yv6NeRUsAR88iZcmZtmGX6+LfyG38myK4wiloqjXDU2+Z+aQe/FZrinHZvP4JSxoxYg2n4w/UesbWSx0EZXcSKVK/54CX+XLqVX0Apg7mx7KIZgxlDV7nNSNcyhX1Y827TxLE/zzDSYV0cH1p04o0Lp1lBAqbJ1s1KgRZrsMGzbELH7QoPsYj//VoV/fPoT/pgCTozQ7KttgIsN/U0DeK3O5r2JjYgj/TQGRwuaihaExnMUpjUwBQVum+AN799JKThoN3gEtFX6P7N3J2l3dNvZRW/RxzlcoAbzBdBy0eXC+RuCx6EQEvxJmPjJduWvYnsZVZMzB1Cn3m0PTxInmTXOWUt/ADGoOhgweaA5N/fv3E/9NG1Hz2Vzd5+7s/4X/9gIEyK7derC5YRVLT2rS6v3FcLzGK4KqAjuTxiOAqpinYEHeu3dPFiLdqCTkO8a3II2nzoohzsdm0PImsyhJRGXuZmtSzWfK3nnVph94rPyu1OY4Z+zrFFGZKGMEW37PHj1YSNKtpCwRG4Vc4fyv/MBb6ttQ8R++9xcumJ5Hoex3BvV+GAtkSILbtHlzxhl9yyR9sOKEaTKPzbUoKZTP0TjQHBbk5rNvgxe9xOWZXGCZAgHHh7JJgAUthqWXn6FRU18R2/4nx7BpUucLVBL/JRcl15mz/ZMeNtSjuxHzZyoPfUj09zn/exbMDlOVbyxVhM9ggU1nShWN/AeZ5xFpPISrXkifRdnm+r3zFIBfKvw9G+v9P+/8GZ33DDA/fvDHP7K/7jWLFzFq3Hgawf5fpoBj83KzKYfdSnLY7SAvJ5v5UZ7gaUOGjaBR480LUabjNKR9fEOXr1hFI0cMY0tRc6uXDr9luHM0Yr9ha99RuNHAl7iZwk/Z6sAOaFSamh0wXL0dwik0ZlgFJXOUWjyX3rElmGWw2QoJX9u2aVNviX63J9ahQ0favnULMzVmbvyfC6MZpgTNXCibK+N4FX2TX7zz7K+CpLQymsvQUb8xYtQYU5Rr35QCClNwl/jWxlZ34yJDVZ5vwFcE9aOrJWoqLPOjcB/jc3wj8h1DH3MbCCwZyb6HIirTXAcX7o5S4GTCKaumzDt6cicbHOa9uE4dCZozc9COq4IMHzXK0FTKATxLv19EqK17lV1bDOZJQw/dRqdu9muRTA69p3fhfxwT09bgS2ftYvH9TExMElGZ1gQzBHnl5efVmWC26PulbGnypAcfmGJt+vdEm1MIZs3YR+kXzz1tF8GTk1PES+sSzMyTC+p+bza7WgKUPIIPBXwhzmdk0A3WPloSyjBGTFyspaFceD0Fylo8TaqKa+yLUkke3jrzI5pKo/7ATvtswnVrxKYCnR8e8GUtfknqplUUzFUsNPwBsxcQWLB61WqaPu0h1oDqzPD2Huvqd/sU6NihPZcc00W63f5o9+4Ily9l0WYuqJ1w0rggVF4t3AcemTlbmDcl3tffj3r160ffffWlRaEMfYMCLQdfyLEa4i9cZ2BxUvq7WaID+g4dOlhE/1vqA3wW+2Gj2sUANsPWBfTo0bWay0xdnPNuncMpTJn5+Vdo6/bthAjFRo1sv3gyzcXdImp9Oy8CAU6jJmjCCRF+jdJLliCKI1CfeHYufT1/PldbSKXRbE44uG+fWKWaOwaq5dZt21Knzl0pniNUZWCAub4NHbdt+07KYbPL9Ien2SRFLpuJYRoz58tj6WCkBElKSqHePbsZ0rhY6uvCO54CKLd1MfMStWmj0Io6/jROO2LmhYu0ecM6SkpMtHgNWBTOffGXFGkh7cgZXngv+GI+pw/S+aSaDgR+BB4W36kLxXPaj2CFL6hp34a0j5Qli5cspfHjx1IrfYoOS9cPU3EGL8qbcbCSMljDUv+60tBfY3capIRS+nxbmpOz451CMEMeLURlIkWE0oHeHPEPHDwkcn7JXDzm+jQEHAqJJ3LaiqTEBDrH6SXgN2AL2raLpceffoYq2IT5zu9+K1amiKSEoLZ00SJOdVFgdQg47IIpdurSlTqxkKYMXrB6YANpRN6myspyQ/SqtctGBQvkievXr6Zzt6XjoA2FEB7KWhtl5Jil/i68Yymwb/9BlynTDEkvcBqbjRvW05nk5BqtES1bUaY+FxsaJ015gAYMGVyjnxKRxgvGrz7/XLisKPHmtltEtKSOnTtRfOcurEVWOLCb63wP42D1SEs7xymeWtoUtsBD9u49yFUCrNfKRK68rMzLXH/TaHK+kyRsSKZMpxDMcLNN0zxYegA2bNrMYc0aGjSgZhSTpWPuFXwWr0iFMJaUSJc5OaQlEJGMLESVcEJWCR3i4+nRx58Qqu79e/bQsh+WyCZqwSusWXOeoPn//jcX1jb6Qhk6WNhoFRUlGGKXbt0ohB1JGzqgFA8SEZtLpeEI2iBx5c/LV4rM8y1aWHfwdcT5XGNUpwBS4CA/oTKCuHqPhrWXzklQN7HJMi31TI0LxyJw5JgxFM2+wJtZaNu4di117tKFZj7xZI2+5hAZ59Lpy88+MySgRp+wsHARnGSuP3ChoU2oY6dO1JE1aZFR0dVMpZaOuVfwWJjns08YEns7KrIR+TzT09K5Io/5yFdH0+4S809kBWjKAWv3OjiFYIYIkRXsOzN50gRDBntrN6ahmDLxsp09nUKJCYmUknSKrukzUJujTWhoGHXgbM4deeUYGR3Nmpsq+uNv3hAmga7du9P0WbNF2DqO/S8LYGfPnK42zPCRo6kvC7uf/+tfrMnJY81lKL32u99RLienPHn8mBAIrQmDEO6wau3StRsHF+iSM1Y7QQPYqY0pE/4bqHDQoYP9PnxY6V68mElxnALGVr6/BkDuOr/ETE4ee5a1Ej24iHxDhlT2O9q8cb3Q1JvSIZaDikaMHlvNVInnFou+p3/xC5FGyPQYS/uZ5y/Q/M/+w36wpdSrb196aMYjlM9+lidPHBeWggtsjrMEyG+GxShcMNpwbrl7XcNcG1MmFhioRNCa06LYY/WoK1PmRa6MgNRPEQ1g0ekUgpkuS/5B6tu3Nzt3GnONmXvpNm3ZShrWmCEvzL0IyH4N82Qyl/ZAZnxLjvkwK0JjFdcxXghEYWZCmr/87+fCXv/Aw9MNq0dEP8GMaaqhxHjPvfQSm+EaC+EMTG38/dVz/iB688QxCGknKFOR1NX0PiAtRzznvunCAmG4PvmsaZ97cR+CtIYd+u1xwM3IuCC0L9262p8jCAwVQnMU++egNJQL6pYChw4f5aoaB+nxx2fV7YnrydmST52iLRs3kDmBqGN8JxbIxlCLVuaTHsOvyZ73wvRSL7FlYP5//k3THnlE8Dpl+3VOEZGYcJIST5xkIfGsRXcOb07u2r59e+aTXSm2YwdDYm3lWM6+XQGNGac7QgoMmTjc0jXhm3L8+ElOhtyWS0+FWOpGKJyefi6DHpmuS+djsaODGlymTAcR0pHDmAoKlsbet/8AVXCR3W7du1rq4nR4CDwJnNIimUsanWd/DUu0QEh0Wy4r1YGFng6ssrfluIlxGyuS24IwcPT/cfH3ZmkEoezlN95gYZCLHrNJzpywJw9ESHsC14tD5BXmbAmaNAlnn7Qu1JnvVzMuZQUB8F4F+GSg3t6d8n90mTLv/pPTULT1SkqfYuFn84YNlHXxohIt3mW828NZIGtmI3dWtQNruYOUP41Yg29NsIMLQTIHHZxifnQ6JcWifxrSBbVhHhrPiXjj4zuTX4AxUXUtp1WvumPRlsEaxOb/z95VgEdxde134wqEKBACCRY0uAR3d3cp0BZo+1Wh/Sr87Uept7RQKFbD3d0hOCTEEyDBY5BAlPh/ziQbYrszm+xudmEPD9nZmTv33jk7c+bcI+8hEGCuQKEOunXrNiW7PMSQQf3V0Z1oH1zz2IQRA6gSz8tOemExe0CZTus2bBQKmUuBAdB34cgYPXfvRCLYP0DIYGJQV0XEJvmGhO/WiFak9Rp4KhVOivoovH/1iuWlBulyG64s0IfiQjp371H4FNFtXrmyYhlALgZORFCEQcSKn6CkkbvTleqQvmxK2vkLF4WaoMOGDhblWUTEXaGuaGvKsJRKbHV49uypYOovXP5K6vmGduXjwE16UbELqGeP7uXrSA/O5meYF17Hjx4WsMUKT5kzI71atBQUMmWLt8LnaHObn5ObYSEIJKtQCMXjcvZzacTyh8M+2LrPyUz6HCeriiuTS8xdu+ZLdaPrS0pU0pYrM4gycrncn2eDF5BDpf1uL8M+vVDMuABrEMEANKZ4GyFwXQnnOfg5h4QGF9vWJ+IVTXhoiKCMhVJR7+SkFzUwi18HZxexMsYp4TUVpJUXP0fKd15Vfr3wC3IXVyZhlVxEYH321SKqzWZTbmUphX5LtqKxknb75k2F1j/GMuJsqmakpLFwZGH/KhEnCiQSrxqQO0Eq8e93OyISzSiWUOw5kdqnoZ10DgQQKKevnx+GDxMvUi+9V91qydZ6v2vXcOLYUcQyOHUh4jitFi1bo2e/viUs8YWa6dQmX09kxG1yd95AMMXqsqVfEVWj0oDskmUljWWwPi0cWZFmhYtL/onJUuFdFB4ONzc3pYDuV0l5C6NY5DdmSUvYUMRXqfu3bN0uuGGHDxsi9RS9bacXihlj1jylwHYORGRTszJi4ZiemVFqjTdl51XEsSQqQB4USKs2ihe7RUqKcmyeOiQUGlNGkZcQ56WJ+XIMFAsbfnC5OPr/KNaMiXn+v+9/EH2gVZ0Tx8sFEaRHIClpN0kQMLhtacRWQc6maubVAh716qp9HqWNqYl9gZTFFE/3saYyhg2uTE38aqr1qe/WekVXywrMtcuXcfLoUSGOsXA7Vshat2uHHr376LVViZUXjlkLIOWa43ijqeSTIuLkJ46zbUL1KjnDU0zZUdSPtvanpT2HP8laT88GkgL6pczrAfEqLiYOebVcpZxR/ja6zufyX2FeD3qhmHE2xvoNmyktdzyqV3uBkF4aEzhwMTklTW0pwaWNUZ59HA/BwfEMssgB8orcehyQWr9BA8FF2ZAEgCV91ybxvD5fMB/plDHFtOCLLzSmEHL/nJkVQsIwwI9jQEIUKqlsCWrUmJS0Fs1Rl/ijT9lUfnRtT+LjJbm6QkPD6QX4GJ06eTN7JBH/Zln0ArWztaU6xS9vrJ4kZlRAI14UXif33ojhL4/FjBdrVy5exKljx0rgGLK7nLMhu/fqjcoEw/CyEcfg+pOSxjF0pSU0yK/Xhp43wYNBWecMA6Is1k1+jrY/uY7ujp070ZfKXIlB6bASd/asj1CSycnJQeFU2SWcnZ0FRwd7hW3UeeAiFU3nOOrWrVqqs1ud7EsvFDMBBoDizFxrVBPNKNm0eTty6d8gQjjWBRJM5RRXxfhioZS1pAwHjN13Dckqxi5KtgxVtNLxy/ff4REpxUyvEcgsp7prg9iUzrwK8LuOUAKlVJR5ysoqZ52ya6G+Z0OdFIhl5RfXoUuhBYabWw3JXTCAbQC9RBiUVix7WXKnhoaSOcAxZlx5oUePbpLP0dWG/NK9THUsT504VgKGh1+O7Tp4oyspZGK1i3X1+lSdF3sQuHIKy/EI8m6wwloacRwuZ3gyLJEnhZtweSN9I/7t799/CBcXR6WYfJdIUeKYynfemqOVSzx46IigmHEh9ped9EIxYw3+LlmX3AjF2cLSXOlvwu3Yl15dg1lASieQf5AxxYKDg3Hx3DkCe81Tbko7j5GphdUWuSirUwyDrhALnj+WLsUdir9gaufdEcNGjdK6sshCgmPvONCYA3U5jqo0EgQiFT5uSu5OFojqAlEsbayy7rtMVSniqGzPwP7ihd9ZOc3JyVZJsMfSCv/QwcMYNXwYwZA4lXWahvPKwQF9d2XyfXfx3FmcOXGSYhyfFeEEP2MdOnZE1+49X5psxSIXKPELGwpCKSwh0N9PyPBUtHDkhXXPvn0FmBCJXWusGZdr8/E5L1ib7O2VW7jY8s7XyAq4MuMAlyB7SoldzSkWWFtkcGVqi9MSxlHFlcnlm1JJkataVTH+ioQhy9SEb+bNGzdi25YtuJ+P4+VM+GFeFB9VQBTDxWjXjIbfmLJ9pAD4FZyrhY2rV65gDdXJvEafXP7KgR7ilJRUxBE+VjoJ7datW2Pm7NfRsnUrLcym6BCsLDKgrr8vuYKDAookJxRuaWFhiZHjx6Mepb3rEgp7ePhNEmSJaNtGnHfBwWHge7lrV9UrWGgrS6owzw3bBDVzhXDMyIowXY9xzBgT7GZYUXBptkx7d+6CLpRtamn58kMVqHIv88LxJsmkIMJKu0EW/jCKlU1IeAqOn82kmFlWbmpSED3How0bPlyobqBK/+pqy9b0o+SO7tTRG/xOUka8+D1zJs+V6eysGAyck/L43VCvrruy7tR27OixEwI+Y7duXdTWp652pBcWs2xCqX+WlCjgcokF/1eUK3PL5s1YumQJGBqides26NilI6G2NxIezJ1btwnYKzGxcTh39hxkxkYYRyjV733wgc7cF/cIg2jB+++TwhMEB0dH9COrTlPC8nEl3Bum+/ceIJBiwA4dOCjEPnEw/nc//IAarq4Vcg3sIo6gepJ+vtfgS1limRkZBfN4+OiRYGLn1ZUrVRwYQkC4EyZMhJWNdUEbXd9goZdB1yRWG7bwdfALwef8BfQhU78q5xXuw7Bddg4IyP8RhPzfUjrESdlHK/uZDyg84czJU2TRDxKeZU74qUZZho1JeXB2dMKenduFzq0onrNT1670v5tKltuyz0w/z4yJicWKZUtxYP9+ITa2bt26FB9cH1Uo7o7lUiTdE6GEnZaYmCgoZrPfeBOdunTW2YvlBfDjx/E0/0pKQ4e07co853OBwlXM0KF9G53lnbompheKWRJBR3BdriaEymxjoxzwLz6eVitpqVq1RP3711/48fvv0a59O8yZOw9169VR+PtEUwmjP9esxb49ezFs5Egs/PJLhW21dYCVsplTpyKDsl/ffPMN9BvQXwDyK218XgUeOngQK35fATNzc/z5998Vppzt3LEDy0gZ5iB5L8qOquPhgSwShM3oxWhPdfG4MsLVq1dxlVyI/JKZNHky3pw3r7TL0sq+U6fOIIYw6caOEUfKZtdDBgH5qmL5ZayiM2fPo1+fnlQXULm7QisX/IoNwor0EwqyVheAp7rZF0jZ36uovuTZM2cEmBpnqjnI5dFyaZHD8CwJlJjCFh5+joaPGImho0YqfTGre3762J9cdvKCvP/AAZg4aRIpuSUT1Fhu7ieZv3HjJir8/QDzP/kE46hagbaIY+QOHTpMGZSdKHas5PwKz4NrTT8lWWJra6P0908mq2A6WddqE+aktsjgytQWpyWMwwCzGzZRVub4cYQfo7yA6e2IO0KMmZubdiw5cqWsN2W7fP5/X8CIVp9S6K8//8KqP1ZWuHImFyxZpJT9tnwZPWS1pExfQJGeN2ceTEmQV4Rytv6ff/H9t9+gJWXozHrjdTTLdxczhh3HSBgXwj1jxOs/1/5J9fuOYtSYMfiUMkwrgthSkZycSsHB4gCJBldmRfxC5RvzApVjOk8Wy9mzZ5avIw2cvYJqUa74/XdUoZI8I0YMxwhSurigdWF6RPAQW0jO7qe6xM8pu/2r//0PA4e8/JhRhXmgyvb9u/cwY9pUZJPSJVV2ZpMS/MWnn+PkiRP4aMHHmDB5kipDlrktu1a5Kk4LWsByWSZlJNWVGUseIIaxaqWlKjvbd+4mV6Y5hgweoGz6L8Ux44VEun4lnPnTgaxRDHAqRkeOHBesEvWpMK2m6ezpM/jsv59AVaWM59Wc4B44sHLDv+sE5aZlK/G4I3VfD7sDJ40dK2Q9ShUs8jmwmd6b4hXY8neEyrHw6k9bgIt///knWSi/Q68+vfENfbrQyl9OAg5bMeWY59q9ex4a+3ridyzVjOua/11+njY+GV6ALb4M8ihGfM/zylsVBP/Hj59gBwEs1yL3rQFgVozD6j9uZWkhAKuqYuVU/yxK9ihXygYPHYIlvy1BmzatYVlKtqAtwT6079Aew0eOoKD2MKxft44y4WsIsD0le32198SS+3LKxAmCtXEpFVKXuqDlhXvX7t1w9+5drPvnHyFspBElK2maWI54EFC3FNglLhRerboLZXbbKsVnY1zGa9d90b6ddlyLWRTP5+BoDycKtXnZSS8UM46dOX7qNMU/OFKsg/KsTLZG1CLTqjZMnp9+vEAw9f667DfJlrLCNxQrZyEEB8Grp/ETJynNgCl8nrq29+3Zg92EbfP1t4vRuLhwyArDv//5D77ZeAuV+3VEHdOSo7LC40GJDFs3byGe16KSUA1KNlLznqOkBH5JFq8+fdlCuVAlvrekoul8X7ByRlokWrfRjkCRs4BjJHz9fKkGn7ggZtcDu/BVgSPIoljM1NQ0uLvXMsQEyZmuxU92V3GGHis4ukJsJeP/wyhTdz7hEirLspPP2Zys4D2pcgrHm64zKGdythT5XPLzT7hB1QJWrVmNWhTcrwqxctaNFoaB/hyzewDjyf0pFjutSv+ltWXL1j//rhcC/ysRYLcyysrKQUx0jCBDlC0Mq1evhqbkqbCkBYk2qEqVyhQ7a0+8MtbGcBU6hl7UueHYjRiKgcggRH8xCqSK92GU/aZp8r12nUoL+WM8Zf8VcV+yQvP2JIyf8h2Olo7sUGRq06ZPQzylHe/auaPIfm18YctTfcpcbNu2bYnhchN8cck3EncyrVCjFKVMfkJ7smTWJcy1P9eule/S6Ocfy5cL431GpaOK8J1GzQn5C+9RUsWkb08hRYFHefqM6ehG2WXr//1XIfSGpi6gWdMm6NJZWtAvBxTfuqW4+Htpc2QlrkvnjqhCFTIMpH0OMIbZvn0HtD+wghHvREZiJT0vAwYNxIfzP1LQqvTdXJPw2x++Fyz7Xy9ahNTklNIbvoJ7GQppz65d6E+xuG5uNYGMWIT6nMCJ6/cL5E7O01CcOXQQB0+FID6nJJNYds2ZN0dwBW6jha2mifHUWlHYRyUqtydGWVmZCAsLp4VhstKmjHXmS6DZ2qLtO/Zg77792hquQsfRC8WM03tnTJ9CCMOKUYjlXLx37z4FskbJv2rsc/++vcLKeMDggUXGkKrQyE9qQplQDEh4mFZO2qTIiAihDNSo0gLRMxLxOMsb765Zg39+no5GJspnxn1wSaW7d+4qb1jOo+fOnBXmPGnKlBJKGalleOp7Gdcj7yPdygVmuYoHm/HaDCRRhhRDm2iX8uLfpIzZsGEDlaEyuCTTij9W4eHDR1KGMLRRMwdY8R5JbkBdIYa94RfyO+/+h6aUgdjgCzhx8jruyheMOU8RdvowDh48jcCnJbUHVs7e/+B9pFIiyob1ZGU2kMCBbVu3ColSk6ZMxnO/vzB/7qf4+uuF+GzubHxxOElo8/zMKny58Ct8ue468mqnlGQeV3Zh2KHNmzQvhzipo369ehTiIA53whawvn17kXXNseSkC+15QnVFI0n51xZ5d2gruOG1NV5FjqMXihkHGa7bsIlQ85+I8moIKUo9ySKiaWIzf4MGnkK1+4KxVFRo5Oc1IYC+MMLC0SbdoFIjTKXFtj0P2YH/mzYBU6bMwhd7H6P0CpYvZssuQqYb5KbTJO3etZOEhTN69upZYpj0xCd43ukDrPzrL/w6g36XEi1e7KhD7ldOGti/d++LnVrY8g8IwlkCHJZC0dFsMbstpWlBG3ZRdOzYQasZyQWDGzaQTBaG6Jiihb0rii2cVXeYsqcHDh4EW6Nb+OeDefhs0ddY+PFbmP7lETwji7Is5SzWfPElvlq0AVcUOCNq164tZJtv2rBBYfm4irrGihrXz9cXzJfqBDFiWbcf/vPDEszwsoYsNxmxMcnIllHlksBIpMMYTg0bw1HJW5bjdO9RvJmYdaq81/qMskbXrd8AhhISIwYZDgpieA/lFrOWlEgwdswose7UdpzjZl+V2Fklt4za+FnujkwoSJ5/EGMjcd/y2XPnceXq9XKPKdYBW+VqUSxPYVJVoZGf6+HuIQh1fni0RQyAy0jepaV2WzRui0aVZcg1coCnVzWIGMyo9loNATrjXj6orqauIYQqKXAh9+IuTMhScWvbF5g1bhKmzfgfdj3JFp2CF5VxYqshCyFtEQfJDhwgLaMohawUCQmq3Q+mBF/iSrhyUpILtHXNr9I4EXfuwIfkjy4Qw8RwCMjAgYOQa1UHfT74Hr9Naw5rWS5S42KQQo9IVkgwbmeQFde5AbzsFb8K+vXvL0DSaNM6ogs8VDSHiFu3CLy6nnA418YF1azvITQymeRlFbh5VIVxdiyCbz1GjswSdZvWL1gkpj0KxPkj+7HvhB8epOf1zliXTCGEKadJsra2oTqZvSV5nTgpjEvCZYqEDjFg9rFjxzU57SJ9Hz12Eqco1vxVIMVPow5dfVVCoB8+dDCq2BVN7y5tihwAzYVVNU2M/cMKY2FSVaGRn2ucH8zID4S2iNO2i89fPnbusyCEReUg17wOmjWWZxASRlP4ZZw8uC9PsBSzzzM8RQ4BE2qSHtFqz50wlkpQrhUatm8I4e5wbIDm1Yv+LiXa0w4GgcyiYO0HD+6Xdlgj++LintB4DyX1XaeOO5nt8yyRkk6gRk/i4rB581bKOo2TeoqhnRo50L5tG8ycOUONPZa9q+DAQGHh5VGXnpdcG8Kussa9kEgk5xqhkqs7qhrn4HHQLcTlyGBetwka5K++MuJu4sqJg9i3/wSuR+X5PJvml9zhOpEGAtKepxXB0+TwlcAHJC8tPNHayxyytAAE38lGrnFtNPbiwHiqDrB6NkbOXYPrMRE48sNbmPj6agTRa8o2PxCf3cWaJM5WNzExlZQ5zwl2Xbp4i4JUZxPeGb9vtUV9+/TUijdMW9ejbBwjZQd15VjUo2j8tmwFwWDEik6pe7fOlL5bMphd9EQVG/ADFUfApoWpdIUmr4UsNRIXDl9DVCn3MfdjTPEcvKrRFnFGJWPblFZ7MssvEDezaCVduxFaCAk3GfBZOBpjPtuD29H+2LloXoFg4fkyGCqXo7Kzs9Po9FnxMzUrzUmZg6SAcJAuCWN6yTSWNyFLWlSAD47uPYDjNx4hjdw3cjLLh6zI0qLFLILiMQICAuRTUPp59+59+PsHKm1T/CDzny1yBnDZ4pzRznfGBLxIWGa6QJyFx0kgBXh+OQnwDXwoWHE82zSDBVIREHyPIjON4dakKSwoJjPr9P8weuxn2Hk7BoFbvsFbE+bg99AsODo5CZcUTwC0BgKB8JoXkZtZN4Jwm+RlTq1GaGVN8vDsWdxIy7dEVuVXrAxW7h0w9sNP8OaU2RjW1ApZd8MRQYqZXCGzoLJXmqTk5CTspzjmWFq8iRFnFl++fF0oLaWsLcfB9uvXR1kTtR57SuDN2vQqqXXyKnamF4qZFQUselFgrZWEm3f/gcNk7jyjIhtUb87ZjDeLZX+WVGi430xEnV6B9ya8hg+W7MfNUoxi7KJjuAltFt7m8isMxMqxckUpC7duUEZOrjEcGjRDNcH4ZASnlv0wa/7HmDnjbQz1NEHG3TDcyjdMch/cVxOq/alJYnd2QnxCKUNk4kbAbQpvNkatRl6w4sB/yo79e8YYzFnti5jIg1jy5mTMXBlKv0YeyeMVq2hYmSw82W5dO2OMxJgMY2MjlSFfhMumjKrcHN4ykLY5EE9xXYxPpQvEsBhsEZaTLDMAQZEZ5G5zQ5PmNpA9u4BTN5KRY+SMhk3t6ckBjJybo88b8/HJ7Gl4Z0hDmKbdQ1hEJnkg8laTJoRvZSCgtrs7bhfEf9KiMPoxUuiRM6lUFdZ39mDxCh8k0vdcl9qok3IbodG5qNFzOqa2s0LspY3YF2yORoSB1p10sbCQvNjiBpQApkni+NOxY0ejmks1CcMYEayKkah17QbBfWzfsVNCf+ppcukyVXEhNIRXgfRCMePSEK3btJZUkNqFVnf2WihH087bWyhUHpL/YLG5uqRCAzy/shlb7zmhmiW9MI1ktHYqSs8oO/DalatoXQpkRdGW6v3GdTCtbWyovtvBoh3LsnDvfiytpI1Qjdxp0ScP4vJTI9Qb8ibGtaQA19RAhNzPRdUuA9Al38t5cP8Boa9GEvC5ig6m2rc65H5k4MsSlHUTAaFJ9JJxRINmznkxcTIruHmPw3ufzsHk14fAyyId98LvIDP/BwgJDhFQ0J1ECvqWGKscO0Ipc/XylWuSeuAapU2a5MWfSDqBGgkB31Td4InBsiGVZWptx6jq48ePVWufZe2Ma9iyhYut2Uw5iTGIpc1ck0qwt7qLvYv+gA9rE0YuFB6Qglvh0TDyHIS5Y1rAhqxpgcH3keXUGYO9zXHzZh78UE2JVUHKOmd9Oa+ZlxcpZrcE/hIDUZlKBbqZUUzulR8x6j+H4TJjHJqYy2Acth5vvbcCp+5xpibFbR1bie+W70VQdlW4VLYQ3gUXCY3fhZIINO1tYIw9rjzCng0xMjc3JWiN5lQrUzm0Bit7XGNVWzR61DAMHTJIW8NV6Dh6oZhxJsnSZcvJlSluhm3VugWaalhB4F9sKBXGZmvLP3/9nfcDlqrQ5MCizSS8PbELatkWV8nyTttMtdMy6KGZOm1a3g4t/eU0+mEjRuD4sWN4UtglS5ayGjWdSLnJQuSGd7HYJwtVrfJvE1kyfFcsh0/16Vj0cXfY0e64uMc4cfwERlDdT3MKPtckMSBsEMXO8JiFSZZ1F3fjyBRpVINix6Jw6sBVJMhqovtrk+Bt9QhX1+9HgJUXJk7sLFjTWEgx9EZzSgDQJiU+SyrKayWDc0bmpUtXlLQoeciRAJgn0Uqc4WUMpH0OhBL20wGqR6gL5OXVXLBiM94ik6xKIzSpaQaj9CtYMuI97HObjAkNLSHLDsOWOR9i2ekXsZapV1bhtyvVMHXRR+hVxQjyPpqT4mkgYOToMYI1aQNlOTIZt3gLKzeuxK/L1mLL1mWYN+QN/Lj+D/z222/4fdX3eKMth3gYwb7vu/iZ3heftozHyV9/wsord3DxwgWqtDBS6EeTf9IobMWHAK4TnpbmcSg6Mitvp06dpYQP5SgI7rVrwZsqRWiLgoJCEBIarq3hKnQcvVDM7O2qon+/vrCrXEmUWZu2bqfA1UOi7crbgJWQMePG4RzBH1y4cJGWokoUGgWDRUbewbZt29C9W7cKKQQ+ffoMYWY/fP8jOBkgj0zR5J0V+Gv5Evy4ZCl++3Qw6gqWMUKD3vcNfrjZHYt+nobmZIbnc374/nvB5TZ1Rl5fCi5VLbsnEn6ZjJIM1v37b5H+co1d4eZoQi+ZUGx5+zucoRWpJftmcuJwesUPWL4nFBl2TrCjVSwTFxNmV+a0/OsXdmrhT9s2rdC/f19JI9naVoKjozhuX+HO0kighpN1gz8NVAEcyK/TWgEjlxjSi6qKsCVmy+bNecdMvTBn7XqsopqZq7duxoq5QzF7yd9YsexX/LriD/w8q43QLjfqABb/fBOdF3+PWRQLxc/4zu070Kp1a1SmuFQDQVj49OnXD7t378m3mgFWNRqjVYu6cMj3Ili5NkHLhjVgy3KIgiyu/fExvjvyGNkwR1WylpHWjOsbVgklkliuaZrYIvfG67PgRuXaxMjIyISSRZxFF9qXLl3G2j/zDRNinarh+B0KE7hPcZyvAulFSSYuTM2ZllzqRKykCJeQ4CKtdhIyOMv7A3Oc1gUfHypJtBkNPOnBHEmo8m3aotuIyZg6uBkchIeSRslNRfC+zbiYVAe9x3VFLdrPStm8OXMpbs4K3/34Y4WUcbGimC0bSjhg8EiOjelKCqIARWFkAbtq1cncbk7rvDzKjdiI+V9dg1u/5jC/64c93/+O5ScvIuD8aXy4YAHatmtXXnaKnm9lZYUH9GAepCBWb++OL7KGjF3Qqm83cgd3w7ApUzG0GZXt4N5k1nD37oehg2ri9j+rsD7QCm07uGLJV19R9YB6eHPeXNEx1dnAj1CyedXn4eEu2q2VlSUqVa5CSm/pltbSOmB4jZOnTlE1h3p0P9mU1sSwT4MccHBwEGJFNTiE5K45C4//bScw1E6dOlJCCCn5ZrZwpBqI9lb5gsmsEpyrOaCSWf5Tnh2BzR8swkWPvmhrcg83dv2Mr/Y9RVTQKXxGZdBqqlh6SPJk9bBh3br1sGPbVqGcXo+ePURqUGbj/tFVWLn5NG7evoQDZx8h180dUb6nMOuNN9CBwmI0TZzoxYkpXB1ErF4myxyu98rGB76PFBGXRuJ3LYddaIM8PRuggRZqYGvjWsTGkFHQts5HCt8n3/j6DZvJTTOeQP1clF4T1xhMSaN0ZlI6tEFcqmTWazME5PuFX/4fKTddSw6bE4uNs0fht0e9sHj353C6FYoP3ntfuPH/pEK21QkHrCKJC6l/981isID57+efwaK4S1L2DEc/GIf/O/sMBTeLjOIPcp9h/sefUK23iVqb/mNyZ0+h8ZKTkrBk6a9CSanSBpdlXMXq/55F9fnvoH/lACwZOw+bbSegWvJJpCQ+w0oqIdUwH0OotPM1sS+QkiQSKLOoM4FKilFwcJjgsu3ataNY0xLHbW20c++XGPgV3+Hn548r165h3NgxOsEJzq4b0Lu3kMm8jEIQXAicWRklH1iA0V+dEQLX89oZw8jcAvXca2Lz9u3KTn0ljwVShvUbs2ZSLJYdfl++TChgr5gROXie8AgPY59jw849OLRrG9jL8O777ys+RY1HOJtxL8UT9+zeVTQujDP1z5zxoVAPL6Xo/2lpzwkrL50K3VdX40wVd8VzMqP4N226TxXPRrNH9EIxE2plElSGo4OjaObips3bSXnIxaCB/TXLuUK9y5Uzjn/ybNgQEydPROcuXYSqALnRp7F2xVYcpFIoUZk2sLazRsqTGDi7uEAXlDL5ZciVMw7oHDJsKEaNHl3ClcaxXVu3bKE6cbuFAtvaVsrkc+U6kq9RORQWNj/+8lPJAuzUUJbhg+/GfIETVdqhk9M9nLthjBzTRPIqpGLl6tVoVLxou7xzHflkuAMWfKUBACuaIvODs5a6de4kCfNPUT+G/WXjwJ27lMVIcWbe3h3K1oEGzrpFru2Z06bBgsrsSFHO5FMICw3F22+9TZ6HqviTQgcEi5v8oOGzgAMs89+YORMm5KkZTaXpuDydNVn2S6ML5y/gX1qI3yDL+Qw65+133y2tWYXv4yzcKKpNbU/4ocqsa+zKDKIkqnfemqOVOR87flIwZnTt0kkr41XkIHqhmKWmpFLsDKEtE1iipYKbXs7ER3RDpaWlw8lJtfgc+fll/eSbec/u3fiHCoMzorwJ4ZK5kj/fxsYG6enPwTU80yn2hzGBxk+ciHETJkjKMi3rfMpyXjhlPK5etVJICMimAHkWxs4Ua8AUTXzluCzGW+tFq/CZs2cT+nX9sgyjlnNiSTmbMXUKHpI1tR0VUp9MLszmLYoFJ+ekw+8SCcOtB3H18kUw7MrKNWtJedZsarqiCzxPgpnBX4cNG6KoScF+DsDNzGT3vXSXJP8+x0l4DR48AE6UCGAg7XKAYUqSKAtSmftHuzPKG02unLFr6o25b1JJs14v8M2KTSgjMxN7du7CKqqzaVDKijFHwVfm788//IDzFNbC4RbNKb6P4S84riudLEoRtyMQQNASXG2Fq6TMmDWLEghGK+hNM7uTkpKpTuppdGjflt6NymUDA50nJaXQtVjC1FQxRArjiiWnJKNhA+29B4woxvhVIL1QzFRxZT6gAs7Pn6dXaGba5UuXcJ1KooSFhYGzYcxIIHpQfUYvSrPuQnFcYnFyFX3jcbmps2fOgJG+4/IBCZ1IoWzctCm6dO1KgaHK3cnamj9bKjdsWA+u4/eY5mlDSoyHh4cA3cFKcATF8T0lyADeP3zESMF1UJEr/4iISCQR0KMXQZWIkcGVKcYh3Tt+gWJ4WPmePXumzk2OlYcFH34I/mSIg779+wnlzTiMghXKu1ROisGPDx08JMCucLD/txT7WpHPi84xUWRCEbQgX8cWMaqleYf4yYtbJgdaJLGiNoQy+fv07VshijsrWqdJprelsnBOHG+ohKS6MhMIt4/raTZprJ2FLif1cbm5vn16KZn9y3FILxQz1uA5XsLM1Iyy8hQHI/JPUhGuzJfjVtDfq2DL0onjx+B3/boA+puWRsqwmZlQvqkJKUFc649XshVNmWRVzaUyJlKAhFNT04RadZUJvV0qMW4VgysPGNBXUk08qf0a2knjQEx0LCIoiaZJY9Xw56T1rp5W5ymL/M81a+BLz0phAFrunWvnenfsiNfIotOEFmEGKjsH+J31nJ5hE5JDUp73so+k/jN57mwNY2+Psrlr25V5+fI1ipc0QauWLdR/0TrWo14oZs+eJVLsjC9aE+gdZ2Yqo2SyoqRS8KIy37iy8w3HDBzQFAdOktIUExMtKTj8GWGe8WJEFZc8x6VdunwFPcgqW7WqAdpAU7+jon7ZOh5LxZ+rarGahKK5iO3PyMgksOYQcq3HChac6jVchWzeV8VVJMafl+04x5/u3rMPvSjBq3p15aCwHJbDcbycmcl4l4qI5RPfR9WrKU8qUXR+Wfa/KvenYgdyWbimoXM4xiwoKBiNGjUQVcwEdOP0DNSp46Gh2Ri6NXCgbBzw9KyP2rXEcYS494fkkudkC1UUM65/2rdPbxiyMsv2+5T3LD//QJ11ZRa/NraEcPUPA70aHGAPQh2C6eG4MTHiZLuAgCAhK1OZYsYWegah1ZZitnHzNkIMMMPIEcPELkHvj+uFxYy5zOZVKbR1+04w7tkAAqQ1kIEDusQBhnLJpOBqznYSI161Zkt0e8r74sSCffv3Y+yoUQQuqr1VrHz8V/2TLftR0TEU4K0d+IBXnd+G65fOAUbFyqJ3qAkFz4slp3DbjIwsCvwnuBQlwfZcXo5LEs6bM1v6RMrRMpSS00wonKl+vTrl6EU/TjXSh2k+JvfAjp27EZ/wVHS6o0cONyhlolwyNKgIDly77oujVAJLCiXQvf7oUZSUpgVtLAmsuDFhs3H2qYG0zwGO2WL3joEMHNA1DnCYw+pVa8CJdGKUlUWAuPfvCSFBytpyJZOpU7SHYckLnmr5KAHK5vUyHNMLxSw3J1uAwOBPMeIAQX9KTTaQgQO6xoGWFLTau1dPSdN6Ep+gsmJmbW2JZuSesjYoZpJ4rO5GDOlz7NhxdXdr6M/AgXJzgJOfOhO+oV0VKdb6LKoEcx+pKWlKx+Us87M+55W2UefBvfsO4fCRo+rsUmf70gvFjIszT5wwhlxA9qKMjE+IFzJKRBuqsYHsWRiO7bko9Jh79zCWf/EJFny9AzfF9cj8WaQg8vQBXHyUd0LajUPYfT2WyohXLCWFHsHei9FUFPMejv+2EJ99tBjbbkm+KDy/dQYHLj0SrkOW4o/De64hVvrpFXvxGhg9jbK0OL1cCjWoX5eASttJaVrQhgO5//r7H0STO81A2udAy5bNMYGqk+gePUP44b04H52DssknGJ5lFX9UdcpOIAVBB/fialzZhSfjaro4OwlwE2KXwnFlPXt2E41vTSHMvicUB6st6tqlIzpJqJqirflochy9UMyiY2KwZu3fQjC0GDP69e2NLlpEBs6J2IZP/7sdz5vkBdIa1XBE6qX9OHgzFZXzS9Ipm3PWvRNYOms4xs37Fttv5alilo1bwMVnMT784zo9khVBtGLa8gn+uz0TjZoRZplxdTglXsH+Y+FIqSJ+UbKM+zj90+sYMWYeFu26SYV7qXqTdSO0tLuA797/A9c0dFG6riCHEJr6pcuXJP2gHPwfEhImqa28UWWqrdmzR3fKCjRkZMp5os3Px/SSYquZLpEsKwK7FnyKLdmN4eViBFXlU0U9y7rEQ9Xmon7ZCVjDs4Udri76AMt9yyY8ExMTsXXbDkRTVrgYcabljRsBVFklSWnTpk2bSALLVtqJCge5HCBj7r0KpBeKGSNWs3+ZM0vE6PiJU7hwIc96Jda2vMdl2XewYdF+OL71IQZ55MX1yJLCcZsMFq6kXNmJDCBLuYR1GyNRrboVWZU4KDP/BBNntJu7AJ1v/IRfr2s/ZiU38l8s3l8Db84fiDrCZSVR8d1oZLk2QUvRd34KrvyzERE1qsEqK7dQoKkJHDvPwYL2gfhx2TWo+6r0QUHm1d6I4cNF7oq8w4zN9lzFeCUGLuZKAUa0OjaQ9jnwkGIC/Xz9tD+wwhEpVujvxdjhOhfzBxDwMrVTRT6xpaYinmWFl6MHBzQjO2lt7NIJbyxoj9AffseVDNUZYWNjiyGDB5EVzEn05NzcHAodSqPkI+U+m+DgUEo2OiTan7oacK1MnwsX1NWdTvejF4qZHcEAsCWscuVKosxkMywj7WuDcsJ3YV9mRwyvZ1owXCbVQQvLroT6Lerixd6Cw0U2cq3bYdr86ehZuxQQUSNnDOhjD59tF9WuxBSZRIkv2YjYcRCJnYegQf77XZZxA343s2DdoDnqi77zrdF65keY3sMdlUssbozgOKg3XM7sgE8ZhEuJqebv0BcF+f79+wglq5kUql3bDS2aqwZnEB//BLt276UqCNpzL0i5llelDQdDz5g+VWcuV5Z9E7sOZMB7WP0CWaSKfGJLjbafZZ1hXpkmoknZSRNyGYh+duew9aLqy1rOtEwlnL0cyvYWIzaEtKfSTYxjpoy4XJMV1WCg+VGIAABAAElEQVTVFg0e1B/9SQ94FUj0NasLTHjw4BHWb9yEyRPGi8IAdPRuT2VvymbuVfVa0wPC8Lj6WDgVqLdZuOMbggTjumjuZY7cmLP4Z+0ZRBVD+pDZNseouWSNEvEKmjUg3JmNAXiQ3VW0rapzV9w+DYHhz1B9vBPZ8PIo+7Yfgp8Zo45XM5gjB0/O/IW1Z6KQLbfwCc2MYNV8LN4e6KG4az5iUR8eZhvg/zAbPdxFGKC8p4KjcgX5+1IU5GaSFeQ2ePrnGXyNZwX9Chv5CvJaVpBbdqXrLztFRUcLgJ7NmomjqkdG3kU8JQC0IlBlqWRv74ARI4ZT8XlHqacY2qmRA7du3UYwwQd0795Njb2Wo6u0QIQmVsPwAgFVVD4hJxbn/1yLM9HFXtaySmgybg55AUSeTw08y+W4Wh04VcOyExao726KtTceIquLB1R5eadQTctjx09g4MD+cBOpgsIlDa9TBrmnZwOlylm9enXB/7VFDx4+hCl5A+rXr6etIStsHFV+2wqbZOXKtujSuaNQ81BsEmwx4NVBL4nZb2L9KT6eg9SkVBiThe6FfpIIv4D75PLrKLj8jFLs4VqvHqyLKWawcoH1i5MUDiGzsoB56jMklbA8KTyl/AdyUpGUagJLixcTTPYNwD24YoTgxzSCmX1N1KlvQypaYZLBwoWdJSIks4SFWRpikvhsEcEv0pX8sL4oyB29O8inLPrJNeGsrSXws1BPWVmZeEKAj9UoyFdZKZVCpxg21cgBrjgiBdJHjUMq7So3NQlpJhawLHiUi8onGJmjas26qGtb9EmGzBoukgSU+p9lpRek6wc1LTvpTWNpaU7vnWSo+krg0m5Tp0yi4H/xpSVjl3FIhLGxcvWA4X/Cw29i9szpWvll/CjuzcLC3KCYaYXbEgaxInymeqTg8I8iRh6EbpxOIJ6aJyPY2NkiKyRRCG7n8WQZQQiMyIJlqyZwy3iO3MqN0HOUeN28PF9+DpmZi846l4Ivk22qwE5uuip6WDPfjKxhZ5OJpES5sE5HSEAkMm1aoGmNTKSRU8S2cW+MaCwyPF2MEPRfHBg4lxTNFGtUtlOPUkbQw3qjIAcGBSGBatB1lpBZxGVTqquIU8plV7hQsSvF9xkgM0TuTw0cbkbB0O7u7hrouWxdyqztYJsRjGf5j3Jx+QSTyvDsMwqeYt1r7VkWm4iOH9e07CR17FliCqwpuUdV6ZlO1XACg0LA2d5i9XeFqhB0L4uRs5MjGUHEWqnv+Pixo5QC3qpvpIrvSZuv/DJf7aPoKKxe8ydiJcTOeDYgV1lt7QhH0xZNUeNuMCLlCpWMVqesO97ejW9WngVlpyunnEc4+esn+HhLKLJzEnBl2QIs3OiLvPCrHCTeCEdW45aoptVfyQLNmznhftCdfLgOspBZmUOWdQv7v1mF07GiF4XYI7/h0/mbEEpKWeq5Zfh44UZcz9eVcxMCEC5rhDaUIaYeyleQk0tRkOsVVpDHYNSYYv8HtULhaWhaQc6ggP70588lXXZo6E34+FyQ1FbeyNnZGa/NmE4lUqrJdxk+tciBwMAQ7Ny1W4sjigxl0RxNne4i6E6+gFJVPtGiR7vPssj16PxhzcpO0Dsi4CbQqJVLQZiJVJakpz9HgL8/hfmIw/WkpT3H0aMnKOxCeayqM8mZpk3EDQ9S5yjWjusAs5XuVSC9KMn0nF5md+/dh1tNV1FT7KbN22ldkYtB5EtXJ6XdD8D1kAdIsaiJZu2awIUVMIrR2P+f/+DSuJX40ttGGC4r4R7upTugtouVyg9P4fnKssKwcuZ3yPl0JV6vq+r6qHBPirdlKQ8QeC0Y99Is4dq8LZo651skY3fhg3duYOjqL9CZvWmZCYQEnY6qtckFWy59Kgu3ls7GIotPsGpmXZViJBRfBaVQR/6BqR+lYcGm/6ARsUqWeQXfDpyJ7ZYd0KP7SLzzNiUcKJs3K8hLf8XGfUdx+WEmKjfqie4jpuCT8S1gRi+np/++jsl3Z2P7p23ou3boyZMnSCGARzc3V8kDJpGLIyAwEB3atUGlSuKJMpI7NjSUxIGbFGMWSDV9uVC0tqn0ZzkH8Tvex9yA0Vj1hTdYQqlLPlFPGnmWtc23Mo+Xk4IHvlcQ+DAFZq5eaNfSVch6hcZkJ71uQn/HrO/MsGDVTNTTzCtBYAdnhN+j9y0v9Gxs8tAGSuPTpUuXERQcgnfemlPaYbXv23/gsIDD1qd3T7X3rWsd6o1ixjdKTQmK2Z07d5FGMAOuNWqohdeyZ77457PPsdLXAp0GN8CjXXsQXGM21m6ch6bkgs+NO4ulX++F0aC5mNuzllrGzI65gs1LN+Bm23fx38FualNgXkzuGQLWfo7PV12HaZfBaHxvN3bdqo5pf2/AO404l5QE+pkl+HqvGfq99Rp6uakh8yYrFtfXL8W6e23wzieDUauMgkWfFWSuLff4yWNJJcNYOOaQC0lKTIj8d+UV7oGDhzB61DACkzTUypTzRZuf2ko8enFNIs9yThwu/LIYO80HYu5rPVFLDY8y1PQsv7gG/dpKvrYWX3y2Cldsu2JEw4fYvT0YNjNWY8e7LSjQQwOyk5Tgx5c3YNmGe2jx/scYUlN14ZlMGZkXyALPIMhiQO0co82lxbgupYmx4hUtFzDnUk+qZo+X59dWVruzPP3q2rnGC4l0bVLF58PZbFu27hAyQDgoURlxnS8u0mppaamsmbRjOQ+w591ZWHwmB91+2Ihvx9XBo31bcemOBZpMGwTWYWTWtdCuT1s4piTBzlm83IWUgbMpG8+s8wSMJlBBxY+FlJ5Ka5OD6K3vY9a3Z/C87/fY9M041Lt/AFsv3YGx1xQMacg2IeJfrQ7o3c6B4rdM4Vy1/NJclhmPeMtOGDeqBaqW4aJYQf73o9n4zzIfPK+civNLv8avx7LRYURbOBtbo15rJwT9sQpXTeujrUcVGFlWplg500KJGaXxQvk+VpA3fv8n7vZegHc6lP+3YIsWCxYpi4awsJsUWHsLDJshlTiurDlBbNiLpLlL7c/QTjUOXLl6XcB14t9AOyThWaZA/podeqOdQyoSTR1hXyipp6xzLO+zXNZxdeK8B1vx/mvf4qSsN75e/w3G14vCkU0XEW7hhWmDG5FFXf2yk1wWeJJgifYTRhJIdxmEJzHueVo6ZQyHoKarK1nBlCcVsYeKMcMqk9VdWdvs7BwYEXaitgCtjx0/Cc7MrF1LPQYQnbifFExCedqFgpO0vbu6SzXMpNiZSpWUK2U8r2PHT6nNlZlz/W+sPv8E2R6vYUrrJFxe9SN2Rcrg2HcQOud7/QReGFWGe7NSsMjKyChTtybQlOdelkkKziofPJF5YOLkNki9sAY/7LqN3Gp9MKRjUWVWVtkDTdV0WbnmNanAdhkZQgry7vnv4CcfU/QhS+I3naKwzGcvfG8HIYxi19hyKXPsjLd+bIbIwLgyDlLytJx0SzR/53tMcFDPY+LpWb/kIAr2uLrWEC2JUvxUXr1euHBJKKdiX1U9i4TiYxi+K+aAi4sTmpT5Jlfcr6Ij0p9lI1TyaAp1ObfL9Swruhi92J8Jv7Vr4PPUCDVemwLvxPP4a/E2hBm7oNfQzijs9FOn7ASB9NQsZywXvztHjZQGbs1A7l4EjSSGGxocHKxVVyZ7D0xN2aPz8pN63jga5hOnoTNGUKNGnqTBK59y717dkErBi+WnbESevYaHBNZllUqlhGbfgKVzHQz76l+MHdwU9vkLF1nSAwRFpqIqJR0IcWflH1ijPeTcPocrhFskM0+B7/9mI8TaGR5jv8Rf4wajWSFTVsr9INxOdUCDBs7lwu5Sx8W8LAry6dPnEBMbjTGjR4myhS1rjOSvCuWwCyIj45UpW6IKb7TRlt3H5ublty5LnavUZ1lqf4Z2yjkgy46Az9Uo5MgIzfHSYszxt4ZTvXFY+PYYDGxafou68tHLd5Rr9B4+chidO3UGLyCUEXucTE2NyfOk3DrXuEljuNfxUNaVWo917uT9ymRlKtdy1MrWsnf27FkiTp89KwT/KzOt8giJSUlggLwqVC2gfJSFqKh4sr4Zo/6Mtfh7vG2p3T3b/QWm/WyMd0+sxPjCVrRSW1f8zpyoaMTTCzyz2Qz8sWa8glV0PA58PgVfmy7AyZWjK1gxe3kUZHePWnB0cpB0E3BMZRxlIXft2lFSe25U1c4Ow4YOhq2Iq0Jyh4aGKnHg6jVfnD9/AbNnz1TpvLI2lvYsl7V3w3klOJAdhZgEKgRv1BQT16zBZLkDRyxRvURH2t9hZGIEO5IPjNYvRhxfdvWqL4VFeFECgGKwajaYPEt4CvItinWpluM7Kb7bjCCzBg9Qb2KfWian5k6Uq8RqHqys3bm6VseH7/9HFPWf+7906RoYiK78ZIJqLlWFGKWo8CAkEyrXU/9N+Hz0NPwSSv4zopy4cITY9cbcT19H39L1tvJPQ809GFVzRlVaEZk8DEcQFUjIiffH9gVjMeW3EIpkYMrGk7AwVOrzNj5/vZcCxU3Nk1LaXTEFef3fWPHT55gz9IXVkk8XFOTpP+CkOoylSudT9oOODo6UZVlTUgd16tQm1P8WktrKG3Em58ZNmynNXX3uXHnfhk9xDtSrWwc9enQXb6imFmLPsiwjFkHH9+PQtWjh2c65fwE7N+3GJVEcHzVN8GXrxrgaXNirkPsQoTeeISfrMfw3zMfYyT/BXygrmY6Yqwewfe8VPOLv2Q9waet6bLv4KB96qOIYYkNo/5wtbG8vHuLAVl9vqqBTVSQcIvJ2BM6e89HaRbm7134l4suYoXqhmCVQ7Myhw0ep2n0iz1kpjRg+BH379FbaRtpBKkE0YSYG1TTF4y2z0aN1W/R+czNShr+PmZ55fu6cFB+s/HwRlp2KhrlecJJiseqPx6yBbrB8sAXzOrdG+15vYl3WELw/o2F+Pb0cpJ9bgYVfr8CxaHMduEFeHgX5IqWX79u3X9Ltx3XtEhOLlYcSOZOzqKpVq061YrUF6iEyoVfsMMfmqFqtoTwsUv4sJ8Dnrz+xc/33+HjOtziYnoOY/Uvw1dcbcFmNdWrLM399OzfXuB7GzB6I2mYPsP+NLmjfpjfe3JyFgfNnoRkZopLP/It1+3dgxX/nYdFhWiFGHcLvX36HdVcqfrXI8aerVq/FgwcPRdnOQf1cDi4zU/mN0rp1K0yaOEG0P3U1aNSwITxfgXJMzC9xu6a6uFqOfti0ytkYGRQ/I0YhVCQ6PSMLDVUItFbYp8sA/N/+Dph+IwwxuQ5wb1IXToXclcaydBrLGB5eLZEXNp+Cmzt+xFe/BqDZH5vwQQPVYoQUzkOdB6j2Y+/Fe9F2lj9CY3NhX7cx6joUuihWxQiMMN2oDrxamSLh8CK8t+4BnEkYXXrojteW/4xJaqpxKe2y8hXkI59jDyvIe02Ra+6GLnO/xEdFFOSfENDpG4ySFt8qbWg1t2pKMRn1JdaWi4qKFVyZXAFAKlWuZItuXTsbXJlSGabmdozppE1XJpQ+y3bwnv0OMsL2YxtZQKxlafAPvIMcp75oSbdUxT/Xama+VrozgsPAr7HTeyb8w2KRU7UOGtd3LAj1sOkyE++khWPfdktY2cqQ5U/g4zJ7dGhRA6YZ17D6raXwrVwJ8b7hsJ30E5ZOlS+GNT95Cyod2KJ5c9hKwDfMyspAaGgYVdqxgJVV0YSwwjN9+JBcu7Gx6NGtc+HdGtvetn0XzclMchKDxiaihY71QjHjoNqZM6ZJYgfjmHEQtFoUMx7R2A61W7ZH7VJGT73ihwhZdQxo4UDqTDYeHt6Ms7fu4X58NprrtAXNGJU9WqCdRykXhSRc9YtEdo3haOlgDGPbWug+Zw4mN9iH2d1+wUnfNFLM5MEVpZ2vgX0qKcjP4bf8ffweZAPbGD+EVZuKH3+eAF3QkY2MZBS8KpPEoIYN64P/q0LR0bGEPL8LEyeMRQ1V6zmpMpChbakcYMXbxUXb+HGKn2VZVjh8Q5/BqGFrtJaFYEV4GmT1mqMZGfxzdeG5LpWLur/TyM4DzduXJjyzEHadSmARZE/LZjKELAtDskldeDWlha/MFFXbTcXH09oj4K1uWHAuACmkmJU3Eloqt9ia69mwAdVAFk9OYaipPn16CrBTyvqPe/wYt2/f0ppixsDZxpSU8CqQTqsP8h8gLi4O6zduAcfQiNHQIYO0hLydiZAbt5Bm3QBeHtlUQ9IYNfrOwLQuroWKBovNVveOyzJDEHArHWb1vVCPVk6VvCdhCmF4JZ/3xb0aAzC+u5aVMjmL8hXkdq2KWi35sFxBbiIoyDmQ2bXE2P8uxuIJdfHE5wxIl9QJuuEfSLUsz0qaS0xMHAm9SElt5Y04Jd67Q3sBf0i+z/CpPQ6w+zkuTlxGaWtGsqQAhD4Aang2QvaJrTgZBdRq7EXWfYLP0JXnWlvM0Mo4SQgNp3gyV080zziBjUfvI6smbZPIzDVthhFjqyNszZdYd98L894eqDWljC+d6+j+++96PHz0SJQTGeRxCgkJp1AK5eWbWhFY7bixY0T7U1cDW/IIVLJRF+iLumalmX70QjGTGRkLBcz5U4zOEboxZ0dpg8wpQ4RTqA8sXiGhhqQ2ZqSOMcxB1mIYRe7G4uVn8up9PtiFRetzMX3ZZ+hlp44x1NlHcQXZCl7jxsE9+G98vfkhmsydi8EVpEsWv8p2bVtjQP8BxXeX+j0lJVmI8yj1oIKdjPNTq5ab4IJQ0MSwW4McuB0RibOUPa4rlGtqTyDLuYg78DkWnDSCG5lnEs8vw5f/+iOdJ6nTz7WucFGVeZgRuLMNTB4dwMIFJyCrRcXGn17BmoV/4orAcBNY2teAY9oNbN99nRLKtEfW1jboTaWMHOztRQfliiOcEZ6ZKUxaYfubN2/h+ImTCo+r+8ARqt954tQpdXerk/3phSvTgTJJRg4fKomBGRnpyKLgRc2TKZp+tA67xxerIamNoTV4cbmmLfHOxn0Ynl6V6n1awzgzGKv/bx8c5nyCjvHbsTqoMyFcu+pUcGJhBdn0vbfRj2B6ZGaVUK1KKo7uOYAbY5vCWznYtQY5+qJrDqhNTk0hoGRxF2UdwgeqU+fFuVK22LLMKeUTx5Mrs0Z1KacY2qiRA23btEKDhp5q7LF8XeXa9MNXez0RmVwF7qSV5cTMwkMKvfBwsqB6srr/XJfv6ivibGt0W7wLOyPpGa9TE1WpdNXMR7lwqk01JxMDcOCCETqPmA2LwL2YfvkyIrM6C+DY2pgpY5NZUKyhlJJGFmRwkALTw2XjnlP8t7aoT+8eVCJK3Dijrflochy9qJUZ9SgaW3fswhiK7HZyUoyrImeU9uvV5Y38PIAycpavwsaz8ajRbzJmvf4m+muoALn8WjX7mYOotdMx8serSBUGokSHeXuw5c3aOqWYFS2y/gwhh64it0tPePovxKDXb6DHlm06kYhx6hRZIGNiyPw/WvRnu3fvgeB+aNq0sWhbeQNOkomKjkE9Dw9YWBZO6JC3MHxqkgN3791DGJXR6tC+nSaHUUPfevJcq+FKdaaLB+vw5oTNMBvUHplk9ckY9xuWT/HMz4TX/CwTEhKwafNWDBzYn/BAlUP2sBzx9w9C3boehH0mHgWnLdzEyDt3SDEzEbwCmudYxY6gF4oZ+8evXvND61aUVWKrHDDswOEjhC+TSxp/p4rlrGH0iuEAlW/aNHMyNtn2h3fKSRw1mYClyybrRPC/Kgwpi2LGq9coAhCuT6Y2g2KmCrfV0/a6rx8uUaH6SRPGqadDQy8vFwcynyHqYTxg74Zqttq1/GRnEw4nQWbY2laCmVke3JMi5rJiFhAQTIqZu1Kgdv+AAKrIE4Gpk7UDmbFh49ZXJitTLxQzrnbPhVXNCKdJJpLVxoWEMzMz0bRpE0X3nWH/S8+BLCRGPUQ87OFajWI+dOR6w8Nv4lliEtq0bqmRGUVHRxtcmRrhrPROK8paL32GhpavIgdY2QqnmDAuAG5rq56g28jISDyihWC/Pr20wlKGy2JXLGeYvuykF8H/jGG25LffEUVuIDHil55BKRPj0st+3ASVqtVCbR1SypjjDJQcExMrifm8EuUqFqqQo6MjJlB8mbMzBdkZSOscCCPF+zABYRvIwAFd4wBnDJ8jlP6EpwmiU2MjCNf1FUNBcHd3R0fvDqL9qatBSGgYwki5fBVIV4wJSnltb1eV0Px7wY7A+cRo67YdIAMb+vfvK9bUcNzAAa1yoF3bNpLHY5c9xeuqRGm0Ko6MvIPK9JzY2qhnVazSBF7xxjk5OWStF2rzvOKcMFy+rnGA62S+PnumKDYZz9vIyIRiuZ3IMqU8TvXy5SsIDgnDW3Nf18rlctazOc2paeNGWhmvIgcxXkhUkROQMnYulRJHrgw29LIxFsnK4KwNLmDON6KBDBzQJQ743vAnfKAQuLvXFp2WtbWV4Hpwda2BI0eOUfbTc9hR7bp9e/fD0tKKzs8VrDOcDPPkSTxOnjyNKhSoy58N6tdXm7tCdKKGBgUccHRwQG0tFXQuGNSwYeCABA6kUcFxVqQqEfK/paVykFljYyOqqWkHcyrtxpAY9+8/IOBkF9wg+fX06TM4ONjj4sVLgpLH8Dw1SUZpgxp6NoBnA/GMdm3MRdNj6IUrk8s+rNuwEY8lAMxWJ5gA7aNva/pnMvT/MnDAhOIjTIyVB97Kr5MBHpOTkoXySkJpFELjrkTKGgtVG2tLoSYjb1tTcWJrKpvC23Xda+PD9/+D6tVd5N0YPrXIAT96cW2mDGADGTigaxzg+KzIu/eQ9lwcbZuVuKOEGZaUmEiZ4U8RS+9fzryMjYvD02cJwjaHF7GS16F9W61d6jmf87hACuGrQHoR/J+enkGxOTECVIZY4N+mzdvJlpCLQZQWbCADB/SVAwkJT8kolgM3N+Wp7fp6fS/jvCOpHFxIWDg6d/R+GS/PcE2vCAc4g5PrYNaq5UqLQB0AgMzn+9HjJ2Buao5uWqrNWZE/t14oZqkpqbh5OwJ1PWrDkiwEyohLTqQ9z4CzBLwzZf0Yjhk4oG4OXLhwUVh1Dh0yWLTr58/TKZ7ClFalyuFhRDsyNNAqBwxZmVplt2EwiRxISkrBqdOn0a5tWzJwOCg9i2Mlk5NT4eRYFaam0iz8SjtU40EpALlqHK7CutILV+aThHgcPHQYCc8SRRlFZaJF2xgaGDhQERzggNpabm6Sho6IuAOfcxcltTU00g0OXLx0GStXrdGNyRhmYeBAcQ5QqLYUYmgNYREZGyeludba7D90BEeOHtfaeBU5kF5YzFiDT017LlgQxIL/Da7MirydDGMr4wDfx9mUMmwqksDCfXB6Oyey2FM5MgPpBweio2IQQejkrxJcT4C/P+p41IEVxSBJIX7py4lruxYndqNlZeVltspkjFmlWxab4vOVf2esTb/rvgTsbIGGjUrPGnxEcVk51M7V1VV+mk5+spxiMFoXgt0p7TeqqElfvHSFdAAztGrVoqKmoLVx9cK8lJycjKuEqJ2aKh64OHBAX3Tr3lVrDNTkQCz0UpNTJA/BQk/+v7STWOjJj2dkZJbWRCf3sdDzvXYdIcHBOjk/qZM6feYctm/bLql5Vhb9Vnr0G0m6qJe8UaUqlVGzpm6/dNX5E/yxfDkmjx+PcWPES4zxuIzhN2rYMLRr2VL4z3hZxcnf7wYGDxggHB/Yt0/xwzr5/ZeffkKvbt3wx/LfMX70aHz79dcl5hkVFSVc15D+/XGfgvC1TVw959/1GwkQNkp0aJa3HNedky3RxCbao3oatG/X5pVQyphb+qGYpaTAzz+ArGapor8w33ixVC9Q38kg9PJ+QSlCT19+a88G9Qj1v7Wk6T548Ag3fP0ltTU00g0OMJzAllcoK1OuWEktZM3Ax0NJMVNGLVq1pHJ6+rOwPnXiBP5aswYZtCieNGUqrAnSydyiJBwFFxEXiD5lBEehbeKkOYa2sLSwFB2aMzj9/QMRTyFEukSbtm7Hjp27dWlKGpuLXgDMVq9WDW/Pe0MSE1iBY43fw8NdUntdbVRWobf0118VXpJc6G3dvFlhG106IBd6DLbKQi+AarOVJvR0ac7K5mJjY0uuAQucP38R3t7t6XqCkEWApC1aehHK/xUChq0CT896hEV2lvCw3NCjZxdl3RmO6RgHGjZsALaavSr05tx5aNykCZo0bSr5kq2sxF2eJiZ68VoSrjkoKEj4ZCSATl06w+fSpVJ5wThg+w4dokTrHFSvoR3cr8ITsSS4nU6E0n/y5Bk0adKY5JAprl/3R5s2LZGUlITQ0JvoQvWl7xBANcNjdO3aGXY6di83pXmb6dG9UZj/qm7rxRMQTwCap86cRTe68RlEUxmNHTUCL0NmlEHoAVKFnrL7QZeOXSV3bExMNMEpdBSwgGpUr0bughxh283NVcAkY7wgd/dahMWnW/EdusRHXZ0Lu36yyQWtD3Rw334c2L9PmGqjxo1JrQAOHzwIJ2dnLPjkE9SpW1c4xvFGK37/HWdOnhTio4YNH4EJkyfhMikg//79N0G65OI0Hfsq3313+9Yt/PrLL4i4fZsWGpVRq3ZtsKLF/z9buFDoU/7n3NmzgrWJwyumz5iBAYOLZitz6MWSn3/G8aNHKUPQCZOmTaUwle7y03HsyBFsWL8ecaRIsII4bvwENG+ZF3/ElvbbN28KbUeNHYdHDx5g86aNGDx0KF6bNQuH9h/Apo0bhBrMNSjmqwtZ6YYOH17Qt3yD48J++O473AwPF0BWe/ftizHjxgmHt2zaJPCMv6RRDPRbb76Jn379jTIZi75Wg0l5CwoMFHjSiOZZEYpZQkICNm3eSq7AVnCoagcTMxNBzlQh5cuCYv3S3TNQycZKKOdmaWkORwfdi22tRWECJsZFeSv/nV62T724yix6QJMp1io7R1zo6UIRc4PQ057Qe0gC94avL6Hk3yS0e1tB6LIwvXb1KsxI4PTt109nntkWzb2QkdUIdfLR4WvVqlkwt/r16hZsN23SsGDbsKE/HAijl/f58xcwm0rf6Dr1HzQQvy9bivv37uHsmTPoP3AgWBG6QgrX1199hTWsdBF9+vHHOLBvH34mS3xYWBi++2YxbAnChRWcjaQUnTx+nBbLdkJbjlt9c/ZsxBLm5O8rV+JpfDw+WbAADJA8ccoUoU3hPyspRq169eo4RYrdws8/h3enTgV9cbt4AhR/cP8+OnXujA3r1pF77YYwr6bNmoFl7CcL5oOVym27dmE0KVVz3ngda/76Swi+nzp9OrpTf0xcozaU4lM5qeDCOR/0Jpmw4KMPMXrsWEwlhfDNmTNLDdhnZWbCmDFIJKBVtnbx9TJvOF5r1uuvg+dRm+pF3rt7V6hIwzwxMTEWxiz854avH75dnBd39uWiRYUPaW3bimCmOnXqiCaNPAVgWB64WdO8JAUrSlioWjXP4FG9mjP4vy7Snr0H6V4yw6iRJRVoXZxveeakfWd3GWbLZWcmTRxHGWr2omfHPXmM+HgC56xAYqF3h7KzWOBxrBgLv8JCTz41FnosnF6fMwc9evUShN7e3bvRtl07YYXJ5/N/JrnQ49Xpx59+igkTJ2L/3r3Cik0uGOX98if360AlYnilx0LvKQmZwlRY6F29egUfvfceONmAiYXeh/Q9nYJzWejxio+Fnjz4noWefG6r/liBH7//jkzgkYLQu0eClIVePSoL9AOtnMNDQxFHiNHFSS702F35x+rV8GzYUBB6q/74Q2gqF3r8hTNxFQm9CMK3+5z4wXEe8fQiYPqTtj+jVf82HXPZsmUglfCBDPRycqBlCy+MH59nTdGHK2T5wMTWpsVkFergnQeMG0nPMhPLDlbK2NrFSlPbtu2E/awkMTmTda0w7dy+TVDKeF/7Dh3Qsk1ebVgOy+hJ8q04LV2+AtNmvCbs5rimB7TIKkyOBC/zPVm+PiI5aU9z5TbyMIxfl/wihKzwvDhzsDXhc6VSLPIvP/4odFG4JF8MxR0fJwyv+R9/gg9IUTxPljqm3SRrL1+8iC9I2bISypwJuwv+rGblkpQ6tvqxlatzfuzb8qVLhaxpzr5kOcfE2aN9SOEriCUr6AVo4OkpfGMMrq7duhU6or1N/g05JIiVZH2lLp290ZHuq1eB9EIx42yetX/9g7jHj0V/kwGUydOVfOUVTQahpx2h17hpk4L0ennQsM+5c8LP36mLbsVoBYeE4uKlixV9axrG1xAHuGTcrYgIDfWuuW6t8tHd5fGbcrgK+UKN3ZxvkPtv8aL/CZN4SBZpJrkSIv+sZFtJ2M9/2MNhRHAXcuIYp+JUqXIlihl9AZmRSJYoRcRKGlM4We14ARZFQOJM1vlzl/cfSgvB4sRyoDLVTx4/aSItAD3Rmb7znDNIYfzyiy8EZW/shPHFT4P/jRvCPg7oZ2KrExO7d+XHhB0if06fPiW0YAWN51ERxFa/LVu34SElFekrGRkZQ2Yk09fpqzTvF0+OSqdptzFnlDg7OUtCIT5x8pRO1dMyCL3N0KTQO0srYSYrEp6taIXuQ7GI7Mpk6l7KKl04UEF/OlLw7bBhQytodMOwmubAgwcPcf3qNU0Po/n+KW6MiYPCmbLJBfg/iiHbunMn/Mh6fub8eWF/8T/devYoiE07deI4jh4+LDRp17493D08ijcv8T03J2/cEgdoB1t8mGysbaiGY968+LtcIcshNywTz5m9E4WJY8gKE3//4KP5MM7vk2PrfiSLYXFiCxyThVme8sgKmZwePy7pBZAfK/55Pn+h2JFcssWJj3H8maaJE48GkyfHuZqLpofSWP+nTp8F18t8FUgvFDM7CvhnfLIqFEwqRmb0EJmamIo1q7jjBqEn8F5dQo8DiJk4qDWbAuk//+xT4XtNQth3q/kihouFKgf8qoILJ3Skxj8PHz4i91BeQLIauzV0pSMcaNe2DV57bbqOzKb802jX4UXNz/3k0pTTxQsX5JtFPllJ+nXZMjg6OgrxWD4+5wQFaPmqVUXaSf1SWMGSy4smXs3gWtNViB/lfrjgNpM8i53dq8VByOVKndCQ/nDiQn3PBli99k/BRcr75XJE3oY/2YXJ9Dz9ufApH4u/uLuLK5rc7jGh57NLmKljx054XMjrE0HW1ffeeYdiZP2E45r8k4dNlk7JRkWVVk2Oqe6+Bw3sh759eqm7W53sTy8Uswf0Qvvx51/ByNpi1KljB7Ru3VKsWYUfNwi92sJvUB6hxx1wsDITuye+WviFEDDM3ztQ5iMH6TLt2LYNAymbimPfEpNfrLaFg1r88+DRQ9y8eUuLIxqG0iYHbt+OpHqEeQsFbY5b1rHkikYaVZlgkn/Kcck8SXmxq5qXnbeOkgE45mo1xYCeOHZMaM/VKQqfx4rUtMmThXjRlaT0/EAZlZOmTkHh+oapqXlWKOE8UqpS8q1S/D250DHhOwGL80KK41E5/szG1gbDKMifFS85HhrHtjJxAD7TyFGjhE/5s89f5K5Z4QD9YZcpuzAbEfzCEooXY3Kh+KviNGlyXsICu2752iLz3dQcD8txeUyZFPfGxDHArPwUp/PnfYRdrLTu2b2L3mFRwndu/ynFu8kVyuLnqft7SkoylTM6Rhms0i196p5DeftjkN6o6NjydqMX5+uFYsaFnL07tKcHUxwDZ/eefThGVegrmgxCT/NCjxMNODiXad0//6AKxW/IV8d3SWAfoUwqpsFDh8GreXNhuyL/dO7ojREjhlXkFAxja5ADrGSo4uLS4FREuz5E7juGtGDijOZNGzbgeL7CxWCpHODO9O333wtZfByj9Dvtu3btGj6YvwBsNeNEJCZWLn7+4QeCpHiIx5Tow4lBndu3gzeFFrTy8kK/nj0FaAuOC9uxfbtwDv9ZumQJVq5YUfD9T7KsyRUVt1q1UJcgO2aQYvf6a6/BnhTEH37+BZwFyfTehx+iO/V74MABvD13Lvz8/DBuwgTMoFg4JobZkNPuHTuEckny7xxewhAbA/r0wf++/FKQGx98+JH8cMFny9athESrFFIQZ1BWKSdyccD/r8t+F9qwq/ZwvoxhnnECVWF3JzeSx6VxTFszkkFyzDdOmBoiArZbMBE1bDB0yeTJE1GTYHn0la773hCwLPV1/qrMWy9qZTI2UCLFDnCgZ2npyIUv+IZ/AJWTyASDPVYUsdD7nLICOYvIjLJg3nv/fQELSJ4Z+Trh3bw5b56QEfTBu+8K6dhGtArkWIwlS5fh+rWrWPDBBwVKB2dBjho9BkMGDiiyKuMYCUfKVvpg/nxhBffatGkF8VUjqTTIfVJcOOuIyZMCT/+idO8llOXEwfE2FJPFZm2u3ZZEQpczkziTiomVyk+oTx8fH7SnOXH70ZQ2ztlRvPr9cuFC7Ni6VWhbk9yFX329uAA/6Dyd897bbwsI2BywG03CeOWatYLrQDih0J/NGzcKsR0s7O5R5iqDMPL1OxFCOAs9xg+KiY4WzuhNQvRbyrgqvPrmIOC+PXogMzMT00h4z37jDXSnOA5exQ4fObIIbtL/UWbqTnopHKL0fh6nIiiIUvafPX32ypjjK4LHFT3my4ChWJyHrGzcIhc8P5elZYAXbj+HYCTkMVWF91eljPoT+RnmhfeXts3JXpxVyXhgd+/cgTEFfdes5VZaU8EqzlnvjLsmjzcrtWGhnWyFy8jMoEByIwqGfyBkTRZ3fxZqLljDbt0Mpyx3R4EHhY9J2WarHuPDyZU0VuZ4XM6+n0SYaB8t+FjAhpPSV1nbsMIbGBiMFuQKrmInHhJU1nE0fV5h+a/psSqyf71QzO7TTbx+w2aCzBhPKb/KX6r8kk4iSILiIH8VyWRlYxuEXibKI/RYiDNxuRcmjuFg10Vx5UsXFLNr132FjLIRw4YIczX8ebk4EBgUQpabGxg6tChQ6st1lYqvhhdTDLMzlxZmvXr3hiklbfFilJ89tiYeIEBYA0HAXOPFL8PnsOWOld0Dhw5LLgRfFh6yZ2Hrth0YMXwoaitQcsvSrzbPuXzlOsGSmKBli4r3fmj6uvNSXTQ9Sjn7d7B3wLAhg1C1ip1oT9t37CEU61wMGthftK0uNOAVAAeiihELPV6JKhJ6YufLj8sVGP4udwvIjxX/ZPN3ZRXKrfD5VoRcb4U8lzOfL0aM/8MgkWWlwtfDfchhSsranybPa5WPSq7JMQx9VxwH+F6WW0UqbhYVNzJ7NNjy70eAz/Xq1ROs+wxKy3FVH//3vxU3MR0beSZZFeMfP0FU1CP889dfaEmJSyakxGqSOMxj1swZQpURTY6jyb65VJS5uWb5pMn5q9K3Xihm5J6n1GZTMj2LX1q7Nq2QmpEu3lDPWhiEXvl+MHmGV0VmJXFVCgb2HTXSEGdWvl9TN8/m6g3VSgki183Zqn9WDPa6g0BbL1H4xA3CADM1NRXixLYSSHVxC7b6R9efHuXVSAKp9i8rZm3atBUAajV5BcmUqHHxwkV09G5P5a0cNTmUxvrmrMxXxZVpvJBIY5xUU8dRFGe0ecs2WoXVpbI7eWB/irrOobJNcfTys2YwQLJGPY57Qje9GTLJvfXkSQKtaC2RQmbkpwnPKGbNCs8IEyc1JVWIT4gnszvHhTE6ciy5xDjLhoPJY2MfC7FtOYSz8/hxvIA0ze3i4xOEPpLJdcr4ObxafkoxRFw3zdLSgsaLJ7datqDlx1A2jBFpmHxjxdGc2NXKygLPidtyDEBCwlMhji6R5sSmf46Z4IwkHosRptu26yDM5+6dSLB716NOXbxF6daubrXzrpHcuAXXSA8iB+zynDhDiU3n3B/HZWVS4WxGy46lOXFQqrI5xdOcbGglnJiYTKCRyQL/2Cz+/Hm6wKcnxGuGqWBrAfPJ2Ji1ZxnxKZ/vxeb0lObEvw3PKbVgTnSNNCeu2cZ95JIibkIrb4HvxKcCvhOfOMiWKzvwb8cglsmUZZnHd57T8yJz4tVVTEwcvSguYDdhMPGYXN7Lkyx0yUkpwrWo514oOidF9wLfXzynOh55AcyK7mHDfv3kALuqt2zdjnoU78QyhJ+B7OzcQs+GsXBhip4NVZ9Xk0IyxLzQs2FDVuukJH5eFT8bmnpeHRzsyQLeBHXr1RdKKdV0q0nyK0ul51WQIeWQ3RzOwLGzuiK7Fd0LToTNOWrMOHCSAYfgqF12k5zke4FlN/OE4Tnca9emZA5bvXzAjp84Bc6QraWnrlhVmC7BBqVKd5pp60KBkzOmTSFN30F0AIbWOHH8JG7duo0kehHvoBdydGwMBVs+FLZTSAkLDQnDLlrZMV29cpWyOI8L2ydPnsKlS1eE7b2U3RkUFCzEAXAf9+7dx2Mq98TbrCxFRt4RtlnJCaCVz/4DB4XzfDhbiUBOmY4cOYrrZNZn2rFjpwCVwC9t7iMqOgaPHkUL26zwhIffpO1dQlsW8EeO5s3p1OkzuHAhDxKCExvqU6r2G5SFZFPZThB+JqZmQh/x8U9w5849YTuDHvLAwCDs3Zc3p4sXL+PkqTNC30ePHcdVyqxi2rlrN8JCw0kJTBXOe0SB+tGUjszzY+XwJvGQ583kS1g7h+h6mPj6+DqZ9u0/JFw/K6B8XgQFuiY8eypsszC4f/+BsM3xFMHBoWC+Ml26fAUn6UFjOk5lma5cyeP77j17qK5dqKC0cX/8u7EJW5gTKYS3qAQTb7PSzKvyA4fy4lbOnjuPs2fzwAd5ny8d4/g9buvk7II//12H1996B5OnTkUiKc+8PyUlTRiLx2TiOcgzenluPEcmnnNwoXvhLiVV8LVxH6xM8zXzNvMg7144JJzHPDqTfy8w7xheoH27tsIxw5+XjwNyS8T5/ISbffsP0nMYICyE+P6IpEB2XszxNi9o7lDQOm/zwiuIntc9e/cLTLl4iZ7Xk6eF7aPH6Nmguq9Mu+h5DQkNE+5bPu8RybqY/GeDE3gYioX387NxnZ7Xg4flz6sPAXPmPa/7DxyimpP+yMp/Nm5HRNKCJe955dJp8ueVFzn8vO7ZvVcY+/LlqzhxIi8LU3heL18W9vOzE8LPK7XnsRlkl/vh7cTEZ7hNygBv87PoR+MeOHBYOO/cOXo2zuZBSfA8fSnjjufNbfNkd6KwLchuehnzfpZTYYVlN/Hlhew+XSC79+yVy+4M4TyW3U8UyW76feSy+wJZlApkNxVOVyq7o1ST3fv2HUBgUKDwW/O13LlzV1gk8/aTwrKb7gWW3QX3giC75fcCye6rL2R3SCHZzRiJL2Q33Qssu6lvJpbd50kWjR41EjVqVBf26eMfxic1NtYLJ1+52asXwf+8+uNyNo0o05JdemLEwqFKlcqCVYiDwx1JoWMX1hMSii4uzoL1iBUPvknZ+pKVlQmux8kWJM7OsbevKihNNjYULUXjRdFDaF/VToifiIt7LLTlFQ6/lGtQEV7OGE1LTSMsHGdhlcwChseMISWHLSRVCCCX51SZ5sRWIZ6TA2UpMXEZl7w5PSfrXSJceU7UbyZlDTlTViOPZ0RlKLhO6COaB1uK2ILFc5JnLvG8HWn+WaQkstJYjRIkksnixoKMkyXYcscF4PnFwYLclJS5qjwnepgrV6okWOyiSVHkzCkjtnaREOPYLcYz4ixCV9cagoXxecZzsJLMpbFk9I9Xx4wtZ0lWyEpUQPwhKXYcy8AWSlamCvOd58RWQLYuVq9OcyLLHWfbyvluQg8dF9JlAfP/7V0JdFXV1d6Z5wQCgRBkFJBZIIDWCg7YOhRLtVZXa6mttfa3Yqvt39YO1jq12tZ5rYKzf6sCMgiCAiIiQ1BCEggQggwJYQgxCZknMr1/f/u+86a8l7wXCG3IPmsl99xzz7DPd/Y9Z7+z9z4Xv+ii+Nt1RbxT6oo7aIKAh11J4F5ZXUUNdUyTHXfgaWjCr1R4H50RL4QyL7CbPgRo37zQTyZb7CJ65QW2d4TnbBF/2BkniIMXNJy/CLR5X3l32LwbOCgb6j1v76vbu+HjfXW+G1H8bnT+fY2MjqQE/nxSe+8rVI/4IVHNu27ga8/3NcT+bqCOOD5VHrvWnu9rP56/IHSad8Pn+yrvhu/3tYU1FTABaHfuZmEQ3ps+527WfOAML8w3vuZuCMvYnT83c7dvXpC528yTPnjBmrsxTwbGC939zespqsxuIZgF4pXZ3RlP6VcEFAFFQBFQBBQBdwRW8O4tTHC+ccN17g/Ow7tuIZgBd2yFa1AEFAFFQBFQBBSBnofAzl3sUBIaThMnjjvvO98tjP+xFQ57DagZoQKEag5b/1DrQS3QxJ+3iGTjV2z1w5gdxqOFhScpnFV2sPuBGglbvjCAL2bVIFRlMP6vrKwS40gY4+KZbMezaq6FhcAIVsehPuvgwSBRHUJax+GlUEVCxQnjcxhsxsXFylY/bMWQDppwyC2M+rHVH8RsBN04aArjLXUImVBFWDQ1SH6oA6DKrGC7uNjYWFGJ1rF6VGhi+mG0DvUcVHPBvGWPfkKdCZpgOP8l54mOjhFcoB6F+gRqWti0CU281Q/VZDTjANUc1K0wjvWkKTIySozo0QfQBJVvBRwA0Eeut5bVGzDeh5oWqlPgjm31IFa3wrkBNIWHRTDuzYI76IdKFTZZFu4VjsOCofaBLQscMqASbbW1OmiybAlsUh/6DWcDqEct3GuonPtm0dQ5XoDjAdr35AWoaRtceYFpimA+asMLTFMT4+nGC6wq98oLzJ/eeAH2gXBW8eSFeFYvgw/a44UIVouCJk9eMPx5LnjB8KcbLwh/skLchRcamRcs/nTnBajsDX+68gJU9jYPXsAROEWc7skL1fzOVXjhBajsm13nBebPEDYo95wXhD+Zp914gVXkMBfoPC/UiNmEf7wQIjS15QWeq/gdNLxQWeGcqwzumNfgeGPmqo54wcxVnvOCmavMvOBtrsK8AKcmb/MC5k9D01njBf4+pcxVHrwg8yfPXU5ecKGJ5zonL7jMVS68YOYq/3ihQswl/OMFsubjNvOCOy/U8pph1q3TbvOCc93qFC94rFvgBThhmTXCdV5wXbeEF1hd7blugReI37kz5oUWXiMc65ZzXnBftzAv8FczzLrlMi8Uu6xbPOw0fNhQcVZj4s7r0C2M/6FXhpEqPreEsHlrGq3j734hQGBLY2NZhIWLlxBOV4eO/p1F79JR9lw8wWfoIA6PJxhLvrNwseTdnrGDVq62jG3Xb9joMI5fvuJ9No7PYkGoWcodPHiYbb7KJI5FOK/gqMQxSe1mo/93ly6T+mBcu3atZWyLwwLTtlnGtu++u4zz5fCkViflCtgQFYb/oAk2avgcCuIQBndkZNJ7K60+bvh0E33CzggIK7jfO3Zkihcn8n5x4CCVs7CKOF48nJqPOGxC9uzNYQ9Wi6Y0Nmb9YI1lbLuWDWy3brWM45fwCfhwJIBQhHL5+QVse1Yi8TIWemE4inR4smZmZdEyxgRhI38H8OOPLQPg9z/4gLbvsIzjgWlu7gHBGOUgjAJ7xOH9iDHB2CB8xmO1iscMAd9u27xlq8SXLF/Bxra7WfC1cIfRMBZL1IEr7oUmfo58yI+A8qgHAfWifgSLF3KlfZSDOhx0IQ5hE/Q6eIH78f4HH0o59M987xD9zszcJTigHHABPogXMy8AN8QhNAJPHOCIAJyBNwLw37bN+voCxmXP3n0yTiiHE8sxfojDbg7jiji8dTHeK963+BN8sJH5AQH8kZGRJfyCvOAf8BHiEPDAX4iD38B34D8E8CP4EgF8aozBwb/gY/AzyoG/weeIg+/B/4jjfcB7gfcDAc4keG8Q8B7hfUJAXrxn+NGDON6/4+wsgTjey73sROHgBXZqwfuLsO4j5gV+rxGWLlvBB7XuJixcKJfHjjawD0IcwtJhdgBBHMJ/VlY2LbXzAgy3P1pvfY5tNTu+bLMbqCPvvn25/IOgRsodY2Py4ycs/sSPodx9X7jxwqpVFi+sF16w+HMZG95nZoEXLJrghOLgheJiOmznBXgNu/ICnFLWrbP484M1a914AVjgnQV9+EoHBFLEIZAbXrCxzRN4YSUbtCN8LLxgOfK8t3KVzBmwH0W5g4cOOXmBhbYjhhca6nmM99LiJUulDvDCmrWW0wyuW9Ms3C1e2Mv8XC/1gReK7LxQzj86UD/acfDC+5ZjwEZ2UHLywmpKZ6N80I28rryAbx2in0jHj7W9OTm0iL3tEeDgtNruQAVHmS12xwCLF/aINzbKHcpz8gI85DEOSMdJ/sIL71lOXZ9uxrxg8cKq1R/S5+kWfy7kvMILVW15oYrTwAvIg4AyKIuwfj3PC1wnwlJuA201uvBCqX1eAJ8ezrPmBfDCrl17hJ9RDn0yDlRwwjBOXYsWLxUs8KMXfbF4wVq38B59sd+aF4BpenoGv292XtjA8wJjjwBewPvpxgsV5VIfxtDwAsYWvOBct9LceMGsW+AV5Ku38wLK44cA6Cvneg0voD1r3bLzAs8LHzNdCOBZ0Gt4Af0Ab6OOQlde4H7jXQAOCJgvgQ8C3h3DC2+9vZD7ac0/8vB8/sc7J90i8ARq42MzhFb2bLLxkRMS510UGy9MEufBttVUV9t4J8fGi7CNd8FsLHxIHGksJNgKT5yUvLwLZ+MFSOKnSk/ZTpWWSZyZz8bHKth4V0vK8S8cGxuwSpwXYBv/MpQ4L542FvZsvLBKOT4KwcbSvcT5VyXTVC5xPGdBwCtNqBf1g1a0x4uzDe0jgB7QhQA68QwBed1papB+Ih19RFuGJtAAWhBAG2hEsGiqsqEPKIc+oW+Ie9IELHjBl3J81IatxI0mO+6MKbA1uANzYG9owphgbBAwVhgzBIwhxhIBY4sxdtJUZ2NDf6kDV17AJI7nXckL6B/6iYB+u/EC02B4waKpa3gBbWO8A+dPd9y7hBd88qfFCxjzruYFXsCEF/DOtOFP+7wA7M50XuiIF/zizzOcFzrPC55zVRfMCz55wb+56mzMC+3ygh9zlb9rxFnhBR/rFuZjX+uW63x89njB/3XLOR93sEacIS+0nausNULWLZc1wszNwOJ8Dt3Gxux8Fo61b4qAIqAIKAKKgCKgCACBbqHK1KFSBBQBRUARUAQUAUWgJyCggllPGGXtoyKgCCgCioAioAh0CwRUMOsWw6REKgKKgCKgCCgCikBPQEAFs54wytpHRUARUAQUAUVAEegWCKhg1i2GSYlUBBQBRUARUAQUgZ6AgApmPWGUtY+KgCKgCCgCioAi0C0QUMGsWwyTEqkIKAKKgCKgCCgCPQEBFcx6wihrHxUBRaDHIcCnVlMTn0jf2tR0zvveyqfeN/HXAjQoAopA4AioYBY4ZlqiByCARa2lrsFrT2v5s0r5jz1JpfzZH38CFsbM675F6TOvpdqcXH+K+J3Hxt+CrePPMtXx56KwGJ7LUPjqm/T55V+jg7/5Q6eaBcb1/EmdRv7O339rONtjV/jKG5T/xFMstFR0eZf3z/sVbRqaSnl/ekzaao+nPYkJhK/QF/BgK3/izYTs78ylTUOmEPqrQRFQBAJDIDSw7JpbEegZCGwdN51OHz9Fox79FQ1+YJ5bp/Oeeoa+XLGBokcOpL6zr3d75u0GC1Z5WrY8auTv1sWMG+MtG50+cZJOHztOkRcOpfCkJK95TGLZ+g106LG/UXVuPtkarB2R4Ogw6nPlpTT6macoYuAAk7XLrrX8bc+a7EMUFhMdUBv1/L3D/b98kMo/30mttY1SNnr0IBr9l4cp8WuzAqqrqzP7O3aedHgby9rcL2jfLx+VrFHDhlLy927zLHbW7rFTdnKZ9a3V3lfOkHrb42nTsL98xZ/DoRP/fJmOzH+NGgpKpDj4L/mm62j083+nxBlfoVMbd1Dh4mWU8pMfmer1qggoAn4goDtmfoCkWXoeAi0NlsDQyh/x9QyJl19KUSNTqP/113g+OqP7dvv3YgAAD8xJREFU/Q/8htK/disdfviJduvJf+QvlHXzXVS184AIZeEpiRSWnECtdU1U8uEWKrV/8LrdSv5DD2v25tDnM2+gUxu2i1AWHBtBQeEhVLf/GB1d8Pp/iKqz36y3sYwcMpjiJ4+Sv7iJE85+oy41FvOH4MEPIb2iqfdVV8iT9ngaGQLhq9yf3kf7H3zSIZShHbRX+PYqqt2TQ0nfmi1tVmzPkd00udF/ioAi4BcCumPmF0yaSRFwIpA050aKvmgURQ66wJHYUldPlds+p8biYopITqaQuBh5FjNuvCOPiVTtyKDa3AMUO3Y0xU2dIsnYTWmurJL46aJiQh4s5OH9+plicq3OyKLDz74q8YRpY2ncS8/xzt1IuYc66TjvYEQOGiT3pwuLqO4AtzNhPDXkH6Hq3Xuo7/XXUfiA/lZdO7NFtQoVaNSI4dRr5uUUFBQkz9CX4IgIikudTBVb0kTliHpip0xy5JGM9n/YoSn/dBMFhYZRrxlfpbDE3q6PHfEDDz5MLZX1FBQZRuNfeJz63XYLq8AaWeX1OjWWWDsvyIydqppdewi7cuF9Eil20sVuu4CufaOgYKrYvIWYMEfbUK/V7N5NoQkJFDf5Ykf7UPmePnqcYsaPcWDbcOwY1ezcQ81VVRQ9agTFTZnM/QhxlHGNYKeo6rPtZGtpofhLp1NwWJg8Bl6Sdsk0xirf51iO/scTonKOGnmha7XUHg0d9dWtIvtNybqPJZY066sUHB7uLYtbWiB8BX4oXGjtxiXOmEzjX59P4cn9Ge+9dPjxpyi0Tx+KGjaEYsYOpdp9R+jLd5bQsId/79ae3igCioBvBFQw842NPlEEvCJQ8MwLVDD/Hep92URKXbeSF5/9lHXLXFZDlrbJP/HNZyjx686dtX3/+3uqP1joyDfs53fQhU/8mXfAbhfVKR6Urv+M/75DQ+fNpRF/tVRfpkDBiwuIWmwU2juaLl70hkO4wHMIaKOeedJkpaPPvSh0YpemKvsgSzs2Gn26kVLu/AGlz5otakhHZo70mj6OpqxZLoLDjmu/K8JTnxlThR6TL+X2G2nsghfMrVyr9+fRtqlXUlNptdxjB2/ah0sp6sJhbvkgsJRtypS0QXNvov7fvVXiIdGRNOgXP3PkhZCw++773HCCIDfy9z93qJVN3/pcPZ0qd+2j5rIaKW/arkhLo5x7H+KvAQfRzP2fiTAKoSpj9m3UeIJV1I/8kgbdfy8devAhKnhpoWBjCIifNIom/OtlES5Mmrk2sSoa2CBM37iU4qemcr9LnWkbllD2Hf/jdSyH/YF3RGd9R8qmrnyTel99BcHuqyMaOuqrJ85ooDJ7n7QT7+fOXCB8deKNt6TuoIhQGvfqP0UoQ0LsxPF08bv/lmf4Fz9hrAhm1fu/cKRpRBFQBDpGQFWZHWOkORSBdhE49PDjIpQlXXsZjX7qdxTWN07yQ9DBYuUaIJRBUIq4oI8kH1nwlizsUIuGD+glaZFDkgh1JUyzdtNcy1d/wQIWh6RrZopQhp2qLxcvdfwVv7usjTccVJ5B4aEsKA2gkJgoaqmtE6Gsz5VTaeRD99HQe78vdVak51DJe+9LHP9guwYhMXHmFLGnQxpUVRVbtyHqCBCKsFvU+/JJktZYWMY7dy87npsIdu9M6HvDdSbqdsXu3e4fzxOhLGJwkginwAu0HPjT01SdudMt/6lP0pnQVre2j7HtU+KsWSKUQRgtXf2hlKnOzBKhDDeJLBSdfOPfIrgiT/85V9OgO78twmjVrgN04Ld/dGsnkBtfYwnB0DMEQoOvvnrWiV3bpi8rJTnCvjvqmcfzPhC+qmMbQYSEyaMpIiVZ4t7+RSb3k+SG4ye9PdY0RUAR8IGA7pj5AEaTFQF/Eag5lC9ZB8/7KfW+ciZV7MikoqUfUd9rrpBdrOZqaycJmYbc8z0a+bcnRMDYfuXNZGtsoXouj52uejb8LzmZRn3ZcHr0/Oe9Nl+ff0LSI+3G/VAf7rnr1255xzz9Rxp4948dadjZmLryX5Rw2aWOtJl56W4OBqc2b6PqPXlUf6TAkQcRs6MHAXDL2EvFjqjsow3U6/LLHPnC+ifQ9HXLWfAbTtm33E4l67aRwcSRiSP1R446bsPti7YjwR4p++gTqs+zFvIpi99kleNY9o6tpy1jpsuuWMnK1aJeNeW8tV17KE/Unr0vGU/ln+2h4jXrxQC9dNUaKQb7wNhJE2nffRZu/b95FU146zV5FjkwhQ4+9iL3Ia3TXq6+xtKVDwz9x998R6L+0OCrr6Yuc20qLTNRCk8Z4Ii3FwmEr+rsglZ4kvXjwle9Ef0tlXn98SJfWTRdEVAEvCCgO2ZeQNEkRSAQBGJHWCq7g396Qo5CKPl4qxSPGTO6TTV9r/u6pEVfZNmF4aa5xlLDtcnsJSEiua+kNrD9GAJUacN+8UP5kwT+Z2tpNVG59poyxk0oQ2LV9gzKmn0LbZ1wCW1MGUPVOZZwaWu0PDxNBYmzrpJoGOy8Rln9bCh22oLhYeyFQ0QoQzzGrr5sqa3FrVuArZgJTV+612HSYQOGENYvXoQyxEOioyh+nIVX/XGnGhjPvLZdV4dH1P/GG+RalpZBLYxxCQt9CMnfuFautfnH5Nr7q06BNYHtxiTwLtppj7asB2f3fyA0tNdXV6pa7f1HWhjb2PkTAuGrsESrTlcB0Fsbob1MvmrytlvorYymKQKKAG/2KwiKgCJwZghE2tU5UBkefnIBtVTUUcr3ZlPfObN9Vxzcuc3qmBFDpc7ST7aKyhIOAhc+/rD8YWfMa7Ab9JtnVekZlD13nth7RfHO28DbbmQ7Ie/G+qYMri2NjXIbyoKSzxAS4vMRdtRMKNvwqYm6XQ2pOEfLNZhDUoMDaDvp5jmizoS34IlX3qTqvZbw2Q/pCPbGbE3N1j3/b3URTEOi2z8GxMb2emccOktDOziHxMY6yHJ1qHAkeokEwlcxgy+QGir3HBA1vJfqJKmx9JRccYyGcSrxlVfTFQFFwImACmZOLDSmCLRFgO2CYKAtf15shCAwnFhk2WWNn/9XmrzkJZqRu4XGvvRiwIuR8QSs5/PMfIWBcy3Dcxja7779TvEARF6o+3hbwlcxt3SoP23NrRQ1fAClrl1BI1i1GhZv2cW5ZeSbowteFZUeDPLhYYcQNWSIXAP9FzNhnLSJcgVvLKKS5SsE11YW+E7+6y05CDVquLUr11xWSzhTCwGH0Fbu3C/xOPaG9TfgLDfY+SEceOQZuUaNSHF4aUYNSZG04g/XMR6WIFi09D1JC2U7QeO9Kgn2f2YXCLcV8M7kckeefNo1i8T9GUtk7AwNbRrzSAjrl+RIOX3SCy954elA+CrpemvXt7XmNOXc/XOHNy28gvfdPU88gUFAY5G1qxvW17KddBClEUVAEWgXAR8/sdstow8VgR6DwKG/zif8mfCV9LUmKlcclxAxMEmM1ffe8ztJCwoN5nPOLqDh9/8soENEo+zHb+Bgzi1jp9HAW75Jwx99yK29pG/dSMk3r6Ki5eupfOsuSpt0NcH2qKWmXuzVkNnsOrkVdLmJGGAJJLDlyrnzHqplb8na/QUuOZzRkjVbafPIKdRSb6k4sfvR/7ZvOzMEEMOxDaP+/FvK/sH9hEU9+44HKDjmt2RrahHa+1w1jYay52Lk8GRqyCuiXd+/h+LGjmD6Csh2ulmcI5J/eHsALVrqzIrP94onKwomf8MSKhAfzHXte+ARKt+2m7ZNmynHShjhc/i8u5ClTQiOjKSYMXwMRO4ROvjI85T33Mty/IdnRm9jOfjX93tm6xQNbSrxSMBRJeED+4ijA47a8AzeeDoQvhrwo7kE2zg4ScA5ZPPw6RSSwE4lfAwKQgr/eIgeNYoa7F90iLtohCcJeq8IKALtIKA7Zu2Ao496LgJRKZZHmTcEzLlQQSyU4bwto/JKSB0t3pRQC9blHqW9P/udnE8VFBLK52JZr1pQeJhUGRQS5EgLjgiXtAt+ehdFDrMMpnH0RkicUyXlSsf4/3uZxr3wiBxyi+Mg4IGHE/ShyoRnZK+ZMyS7K52u5fuxYJV0g5Xn5JK1VHfkBOHYCQRDn8mP+pqrWOhjr8jQxBia+MqzjuMRvNVv0kyfTD3mmnTTHMJRETjjCrSDbjhARI8ZTIPv/YmcnTb57dcoYeoYcTSozMil5vI66nXJOEpdsZBC46ydPdMOxsAEk+badr9vz2Hhz8IXY9D/VqdQOYCPDRnxh3sJh9zWHyqUHUEIGPBUHWT/2oO3sRvzj8ccnret9Y3izYmxRwgKtX7rehtLb3X5Q4PpV0d9NTjg2jt1gtxWbM90JLfH08jkL18FBQdT6ppl0m8cLIsAoQxCO1T4campklaesUuuvaZOkqv+UwQUAf8QCGKjTP/0H/7Vp7kUgR6BAIzJg9kGqXTlKtkBwuJ/RV42C2mRVJ21i7ZfcZPgMJ3PtYqfPlXUgTY+fwzPTcDREJ5pUI01FByVA05hP9ZRwPc8G/LzWSgLlwNvcSisazB0YjH1DPhGZXNlJUWN4h0N3mZrZXUobLhQ5tOUiZJdhCg+jLWZD2xFPs96vNWP4ziCoyLb5PVsH+pX9DWsD+/weByki7w48BWHwUYOHUyudlOmHn/bBqb4gkMQY2MOhDV14IopsCGfdwwZAxyM6hl8jVM9OypEXJAitEGlDVs1OCqY4G0svdWF/B3R4G9fTdtFby0i7ODi/Lcr8jIdAq153tG1I75yLY/DcVvZ3g4HLhv+q8rIpPSrbpFsl25bJYccu5bRuCKgCPhGQAUz39joE0WgQwTKP9lEmXN+KPniJ42kaPbQrNixUz5VA5XcZds3EtRf3SngWAdXwQwHoWroXghAON4y9hI5YmTia09Tv1tvPqcdwIfT8559neKnXETTN7mr/88pIdqYItANEWj7M7obdkJJVgT+UwhAaLno8V/zJ41S2ObmoJxf1sK7B8k3XUOpy9/udkIZcBSVG++0IARHOXeAJEH/dQsEQvjD8kPvuUO+EFGTazlOnEvCaw4eEtX3sPvvOZfNaluKwHmBgO6YnRfDqJ34b0BAjnRgD06jzvlvoKmzNMALFSfiG+/Cztaj5RQBRUARUAQCQ0AFs8Dw0tyKgCKgCCgCioAioAh0GQKqyuwyaLViRUARUAQUAUVAEVAEAkNABbPA8NLcioAioAgoAoqAIqAIdBkCKph1GbRasSKgCCgCioAioAgoAoEhoIJZYHhpbkVAEVAEFAFFQBFQBLoMARXMugxarVgRUAQUAUVAEVAEFIHAEFDBLDC8NLcioAgoAoqAIqAIKAJdhoAKZl0GrVasCCgCioAioAgoAopAYAioYBYYXppbEVAEFAFFQBFQBBSBLkNABbMug1YrVgQUAUVAEVAEFAFFIDAE/h9n/T3Fv2tE+wAAAABJRU5ErkJggg==)"
   ]
  },
  {
   "cell_type": "markdown",
   "metadata": {
    "id": "XWNXUVnc2G6i"
   },
   "source": [
    "**Обучение**\n",
    "\n",
    "Обучение LightGCN выполняется с использованием BPR лосса, который выглядит следующим образом,\n",
    "\n",
    "$$\\mathbf{L} = \\sum_{u \\in U}\\sum_{i^+ \\in I^+(u)}\\sum_{i^- \\in I^-(u)} \\sigma((e_u, e_i^+) - (e_u, e_i^-)) + \\lambda||\\mathbf{E}(0)||^2,$$\n",
    "\n",
    "где $U$ - множество пользователей, $I^+(u)$ - айтемы, с которыми пользователь \"положительно\" провзаимодействовал, $I^-(u)$ - айтемы, с которыми пользователь \"отрицательно\" провзаимодействовал, $\\mathbf{E}(0)$ - исходная таблица эмбеддингов."
   ]
  },
  {
   "cell_type": "markdown",
   "metadata": {
    "id": "YcTXaW9szQXN"
   },
   "source": [
    "# Загрузка и предобработка данных"
   ]
  },
  {
   "cell_type": "markdown",
   "metadata": {
    "id": "ufB_pBJk_G9c"
   },
   "source": [
    "Подгрузим данные, на которых обучали модель _Neural Collaborative Filtering_, а также выполним предварительную подготовку."
   ]
  },
  {
   "cell_type": "code",
   "execution_count": 4,
   "metadata": {},
   "outputs": [],
   "source": [
    "import glob"
   ]
  },
  {
   "cell_type": "code",
   "execution_count": 5,
   "metadata": {},
   "outputs": [],
   "source": [
    "DATA_DIR = \"/Users/sergey.malyshev/projects/edu/2025-itmo-recsys/\""
   ]
  },
  {
   "cell_type": "code",
   "execution_count": 6,
   "metadata": {},
   "outputs": [],
   "source": [
    "data = pd.concat([\n",
    "    pd.read_json(data_path, lines=True) \n",
    "    for data_path \n",
    "    in glob.glob(DATA_DIR + \"/data_10k/*/data.json\")\n",
    "])"
   ]
  },
  {
   "cell_type": "code",
   "execution_count": 7,
   "metadata": {},
   "outputs": [
    {
     "data": {
      "text/plain": [
       "(961131, 8)"
      ]
     },
     "execution_count": 7,
     "metadata": {},
     "output_type": "execute_result"
    }
   ],
   "source": [
    "data.shape"
   ]
  },
  {
   "cell_type": "code",
   "execution_count": 8,
   "metadata": {},
   "outputs": [
    {
     "data": {
      "text/plain": [
       "<Axes: >"
      ]
     },
     "execution_count": 8,
     "metadata": {},
     "output_type": "execute_result"
    },
    {
     "data": {
      "image/png": "[encoded data removed]",
      "text/plain": [
       "<Figure size 640x480 with 1 Axes>"
      ]
     },
     "metadata": {},
     "output_type": "display_data"
    }
   ],
   "source": [
    "data[\"time\"].hist(bins=200)"
   ]
  },
  {
   "cell_type": "code",
   "execution_count": 9,
   "metadata": {
    "id": "AewlRskA-Vr7"
   },
   "outputs": [
    {
     "name": "stdout",
     "output_type": "stream",
     "text": [
      "Взаимодействий: 94565\n",
      "Уникальных треков: 11228\n",
      "Уникальных пользователей: 9988\n"
     ]
    }
   ],
   "source": [
    "# Отберем только треки которые прослушали минимум на 80%\n",
    "positives = data[data[\"time\"] > 0.8].copy()\n",
    "\n",
    "# Отберем треки, которые прослушали минимум 5 раз.\n",
    "track_counts = positives[\"track\"].value_counts()\n",
    "distinct_tracks = set(track_counts[track_counts >= 5].index.values)\n",
    "data_filt = positives[positives[\"track\"].isin(distinct_tracks)]\n",
    "distinct_users = set(data_filt['user'])\n",
    "\n",
    "print(f\"Взаимодействий: {len(data_filt)}\")\n",
    "print(f\"Уникальных треков: {len(distinct_tracks)}\")\n",
    "print(f\"Уникальных пользователей: {len(distinct_users)}\")"
   ]
  },
  {
   "cell_type": "markdown",
   "metadata": {
    "id": "b4RPEZzSzgUF"
   },
   "source": [
    "В *data_filt* содержатся взаимодействия пользователей с треками. При этом, для идентификации треков и пользователей используются UserID, TrackID. Как среди UserID, так и среди TrackID могут иметь место гапы, из-за которых могут возникнуть дыры в таблице эмбеддингов.\n",
    "\n",
    "\n",
    "По этой причине смаппим айдишники на индексы, начинающиеся с 0 и заканчивающиеся максимальным количеством пользователей / треков."
   ]
  },
  {
   "cell_type": "code",
   "execution_count": 10,
   "metadata": {
    "id": "X5vurdsx-p65"
   },
   "outputs": [],
   "source": [
    "data_filt_sorted = data_filt[['user', 'track']].sort_values(by=['user'])\n",
    "\n",
    "track_ids = np.sort(np.unique(data_filt_sorted['track']))\n",
    "user_ids = np.sort(np.unique(data_filt_sorted['user']))\n",
    "\n",
    "track_ix = np.searchsorted(track_ids, data_filt_sorted['track'].values)\n",
    "user_ix = np.searchsorted(user_ids, data_filt_sorted['user'].values)"
   ]
  },
  {
   "cell_type": "code",
   "execution_count": 11,
   "metadata": {
    "id": "X3rnx1S_SNyH"
   },
   "outputs": [
    {
     "name": "stdout",
     "output_type": "stream",
     "text": [
      "Уникальных треков: 11228\n",
      "Уникальных пользователей: 9988\n"
     ]
    }
   ],
   "source": [
    "NUM_USERS = len(user_ids)\n",
    "NUM_TRACKS = len(track_ids)\n",
    "NUM_NODES = NUM_USERS + NUM_TRACKS\n",
    "\n",
    "# Поскольку модель LightGCN из пакета PyG работает с гомогенными графами (один тип узлов), то\n",
    "#  нам нужно как-то объединить узлы пользователей и треков без коллизий по индексам. Для этого идентификатору\n",
    "#  узла каждого трека добавим сдвиг равный числу пользователей.\n",
    "NODE_LABEL_SHIFT = NUM_USERS\n",
    "\n",
    "print(f\"Уникальных треков: {NUM_TRACKS}\")\n",
    "print(f\"Уникальных пользователей: {NUM_USERS}\")"
   ]
  },
  {
   "cell_type": "code",
   "execution_count": 12,
   "metadata": {
    "id": "hCHcoaHM0YAJ"
   },
   "outputs": [],
   "source": [
    "assert (user_ids[user_ix] == data_filt_sorted['user'].values).min()\n",
    "assert (track_ids[track_ix] == data_filt_sorted['track'].values).min()"
   ]
  },
  {
   "cell_type": "markdown",
   "metadata": {
    "id": "4ZuEOtdgyK6N"
   },
   "source": [
    "Формируем следующие списки ребер графа:\n",
    "1. user_item_interactions := ($item \\rightarrow user$)\n",
    "2. item_user_interactions := ($user \\rightarrow item$)\n",
    "\n",
    "Для обучения и инференса LightGCN нам потребуется объединение user_item_interactions и item_user_interactions, соответственно определим дополнительно переменную:\n",
    "3. all_interactions := ($item \\rightarrow user$) $\\cup$ ($user \\rightarrow item$)\n"
   ]
  },
  {
   "attachments": {
    "ddc82d44-fe38-4e2f-b620-9bbdf166ed6a.png": {
     "image/png": "[encoded data removed]"
    }
   },
   "cell_type": "markdown",
   "metadata": {},
   "source": [
    "![user-item-graph.png](attachment:ddc82d44-fe38-4e2f-b620-9bbdf166ed6a.png)"
   ]
  },
  {
   "cell_type": "code",
   "execution_count": 13,
   "metadata": {
    "id": "zpE5Swc9yHAu"
   },
   "outputs": [],
   "source": [
    "user_item_interactions = torch.stack([\n",
    "    torch.from_numpy(user_ix),\n",
    "    # Сдвинем индексы узлов треков во избежание коллизий с узлами пользователей.\n",
    "    torch.from_numpy(track_ix + NODE_LABEL_SHIFT)\n",
    "])\n",
    "\n",
    "item_user_interactions = torch.stack([\n",
    "    user_item_interactions[1, :],\n",
    "    user_item_interactions[0, :]\n",
    "])\n",
    "\n",
    "all_interactions = torch.cat([\n",
    "    user_item_interactions,\n",
    "    item_user_interactions\n",
    "], axis = 1)"
   ]
  },
  {
   "cell_type": "code",
   "execution_count": 14,
   "metadata": {},
   "outputs": [
    {
     "data": {
      "text/plain": [
       "tensor([[    0,     0,     0,  ...,  9987,  9987,  9987],\n",
       "        [20746, 12412, 19566,  ..., 18606, 18845, 18845]])"
      ]
     },
     "execution_count": 14,
     "metadata": {},
     "output_type": "execute_result"
    }
   ],
   "source": [
    "user_item_interactions"
   ]
  },
  {
   "cell_type": "code",
   "execution_count": 18,
   "metadata": {},
   "outputs": [
    {
     "data": {
      "text/plain": [
       "torch.Size([2, 94565])"
      ]
     },
     "execution_count": 18,
     "metadata": {},
     "output_type": "execute_result"
    }
   ],
   "source": [
    "user_item_interactions.shape"
   ]
  },
  {
   "cell_type": "code",
   "execution_count": 16,
   "metadata": {},
   "outputs": [
    {
     "data": {
      "text/plain": [
       "tensor([[20746, 12412, 19566,  ..., 18606, 18845, 18845],\n",
       "        [    0,     0,     0,  ...,  9987,  9987,  9987]])"
      ]
     },
     "execution_count": 16,
     "metadata": {},
     "output_type": "execute_result"
    }
   ],
   "source": [
    "item_user_interactions"
   ]
  },
  {
   "cell_type": "code",
   "execution_count": 19,
   "metadata": {},
   "outputs": [
    {
     "data": {
      "text/plain": [
       "torch.Size([2, 94565])"
      ]
     },
     "execution_count": 19,
     "metadata": {},
     "output_type": "execute_result"
    }
   ],
   "source": [
    "item_user_interactions.shape"
   ]
  },
  {
   "cell_type": "code",
   "execution_count": 17,
   "metadata": {},
   "outputs": [
    {
     "data": {
      "text/plain": [
       "tensor([[    0,     0,     0,  ..., 18606, 18845, 18845],\n",
       "        [20746, 12412, 19566,  ...,  9987,  9987,  9987]])"
      ]
     },
     "execution_count": 17,
     "metadata": {},
     "output_type": "execute_result"
    }
   ],
   "source": [
    "all_interactions"
   ]
  },
  {
   "cell_type": "code",
   "execution_count": 20,
   "metadata": {},
   "outputs": [
    {
     "data": {
      "text/plain": [
       "torch.Size([2, 189130])"
      ]
     },
     "execution_count": 20,
     "metadata": {},
     "output_type": "execute_result"
    }
   ],
   "source": [
    "all_interactions.shape"
   ]
  },
  {
   "cell_type": "markdown",
   "metadata": {
    "id": "UFc7qsEp0ljI"
   },
   "source": [
    "Определим датасет и даталоадер для удобной работы с датасетом через интерфейс Pytorch Lightning. Датасет представляет собой пары $user \\rightarrow item$.\n",
    "\n",
    "Класс **NegativeSamplingDataset** позволяет индексировать датасет. При обращении по индексу помимо положительного взаимодействия пользователь-трек (**P**) возвращается пара негативного взаимодействия пользователь-трек (**N**). Пара N генерируется и спользованием т.н. **негативного семплирования**. Негативное семплирование - это семейство стратегий для генерации негативных взаимодействий для обучения коллаборативных моделей на данных, в которых содержатся только позитивные взаимодействия."
   ]
  },
  {
   "cell_type": "code",
   "execution_count": 23,
   "metadata": {
    "id": "7oIAxrwnTXfH"
   },
   "outputs": [],
   "source": [
    "SAMPLE_POSITIVE = 0\n",
    "SAMPLE_NEGATIVE = 1\n",
    "\n",
    "class NegativeSamplingDataset(td.Dataset):\n",
    "  def __init__(self, user_track_interactions, index_subset=None, transform=None):\n",
    "    # Подмножество индексов (для разбиения train / test)\n",
    "    self.index_subset = index_subset\n",
    "    # Все позитивные взаимодействия нашего датасета\n",
    "    self.positive_edges_full_batch = user_track_interactions\n",
    "    # Все негативные взаимодействия нашего датасета\n",
    "    self.negative_edges_full_batch = None\n",
    "\n",
    "    # Позитивные и негативные взаимодействия в срезе подмножества индексов\n",
    "    self.positive_edges_sample = None\n",
    "    self.negative_edges_sample = None\n",
    "\n",
    "    # Сохраниим все позитивные взаимодействия нашего датасета\n",
    "    self.init()\n",
    "\n",
    "  def generate_negative_sample(self):\n",
    "    # Сгенерируем негативные семплы. На каждого user в парах user -> item(+)\n",
    "    #   генерируется пара user -> item(-). Подробнее о работе метода можно почитать по ссылке.\n",
    "    # https://pytorch-geometric.readthedocs.io/en/latest/modules/utils.html#torch_geometric.utils.structured_negative_sampling\n",
    "    user_index, _, negative_item_index = \\\n",
    "      pyg_utils.structured_negative_sampling(self.positive_edges_full_batch, num_nodes=NUM_TRACKS)\n",
    "\n",
    "    self.negative_edges_full_batch = torch.stack([\n",
    "        user_index,\n",
    "        negative_item_index\n",
    "    ])\n",
    "\n",
    "  def init(self):\n",
    "    self.generate_negative_sample()\n",
    "\n",
    "    # Получим положительные и негативные взаимодействия в срезе индексов для разбиения train / test.\n",
    "    self.positive_edges_sample = self.positive_edges_full_batch[:, self.index_subset]\n",
    "    self.negative_edges_sample = self.negative_edges_full_batch[:, self.index_subset]\n",
    "\n",
    "  def __len__(self):\n",
    "    return self.positive_edges_sample.shape[1]\n",
    "\n",
    "  def __getitem__(self, idx):\n",
    "    return (\n",
    "        self.positive_edges_sample[:, idx],\n",
    "        self.negative_edges_sample[:, idx]\n",
    "    )\n",
    "\n",
    "# Функция для объединения данных в батч, используемая в DataLoader\n",
    "def collate_edges(edges: list) -> tuple:\n",
    "    positive_edges = [edge[SAMPLE_POSITIVE] for edge in edges]\n",
    "    negative_edges = [edge[SAMPLE_NEGATIVE] for edge in edges]\n",
    "\n",
    "    positive_edges = torch.stack(positive_edges).t()\n",
    "    negative_edges = torch.stack(negative_edges).t()\n",
    "\n",
    "    return positive_edges.to('cpu'), negative_edges.to('cpu')\n",
    "\n",
    "train_ix, val_ix = train_test_split(np.arange(len(track_ix), dtype=np.int32), test_size=0.1)\n",
    "\n",
    "music_dataset_train = NegativeSamplingDataset(user_item_interactions, train_ix)\n",
    "music_dataset_val = NegativeSamplingDataset(user_item_interactions, val_ix)\n",
    "\n",
    "music_dataloader_train = td.DataLoader(music_dataset_train, batch_size=3000, collate_fn = collate_edges)\n",
    "music_dataloader_val = td.DataLoader(music_dataset_val, batch_size=3000, collate_fn = collate_edges)"
   ]
  },
  {
   "cell_type": "markdown",
   "metadata": {
    "id": "iO-rTkCwN6hN"
   },
   "source": [
    "**Определяем полезные хуки**\n",
    "1. MetricTrackerHook - позволяет логировать метрики (в нашем случае - лосс) в конце каждой эпохи.\n",
    "2. DatasetReloaderHook - позволяет перегенерировать негативные семплы в конце каждой эпохи."
   ]
  },
  {
   "cell_type": "markdown",
   "metadata": {
    "id": "tC66oDeJHWDP"
   },
   "source": [
    "# Обучение"
   ]
  },
  {
   "cell_type": "code",
   "execution_count": 24,
   "metadata": {
    "id": "5GGWbtRq-y8r"
   },
   "outputs": [],
   "source": [
    "class MetricTrackerHook(pl.Callback):\n",
    "    def __init__(self):\n",
    "      self.collection = {\n",
    "          'train_loss': [],\n",
    "          'val_loss': []\n",
    "      }\n",
    "\n",
    "    def on_train_epoch_end(self, trainer: \"pl.Trainer\", pl_module: \"pl.LightningModule\"):\n",
    "      self.collection['train_loss'].append(trainer.logged_metrics['train_loss'].cpu().detach().numpy().item())\n",
    "\n",
    "    def on_validation_epoch_end(self, trainer: \"pl.Trainer\", pl_module: \"pl.LightningModule\"):\n",
    "      self.collection['val_loss'].append(trainer.logged_metrics['val_loss'].cpu().detach().numpy().item())\n",
    "\n",
    "\n",
    "class DatasetReloaderHook(pl.Callback):\n",
    "  def __init__(self, dataset: NegativeSamplingDataset):\n",
    "    self.dataset = dataset\n",
    "\n",
    "  def ok_train_epoch_start(self, trainer: \"pl.Trainer\", pl_module: \"pl.LightningModule\"):\n",
    "    self.dataset.init()"
   ]
  },
  {
   "cell_type": "markdown",
   "metadata": {
    "id": "Oq6WbCAbxqHE"
   },
   "source": []
  },
  {
   "cell_type": "code",
   "execution_count": 25,
   "metadata": {
    "id": "_vv-OgRUJCD-"
   },
   "outputs": [],
   "source": [
    "NEGATIVE_SAMPLE_WEIGHT = 1\n",
    "\n",
    "class GraphCollaborativeModel(pl.LightningModule):\n",
    "    def __init__(self, all_adjacent_nodes, num_nodes: int, embedding_dim: int, num_layers: int):\n",
    "        super().__init__()\n",
    "        self.all_adjacent_nodes = all_adjacent_nodes\n",
    "        self.gnn = pyg_nn.LightGCN(num_nodes, embedding_dim, num_layers)\n",
    "\n",
    "    def compute_loss(self, user_item_positive, user_item_negative):\n",
    "        # В forward метод LightGCN подается матрица смежности в виде (node_i <-> node_j),\n",
    "        #  а также пары source_node -> dest_node (в нашем случае user -> track). Результатом forward пасса\n",
    "        #  является скалярное перемножение эмбеддов пользователя и трека, см. формулу.\n",
    "\n",
    "        pos_edge_ranking = self.gnn(self.all_adjacent_nodes, user_item_positive)\n",
    "        neg_edge_ranking = self.gnn(self.all_adjacent_nodes, user_item_negative)\n",
    "\n",
    "        return self.gnn.recommendation_loss(pos_edge_ranking, NEGATIVE_SAMPLE_WEIGHT * neg_edge_ranking)\n",
    "\n",
    "    def step(self, data, batch_idx, label):\n",
    "        user_item_positive, user_item_negative = data[0], data[1]\n",
    "\n",
    "        loss = self.compute_loss(user_item_positive, user_item_negative)\n",
    "        self.log(label, loss, prog_bar=True, on_step=False, on_epoch=True, batch_size=data[0].shape[1])\n",
    "        return loss\n",
    "\n",
    "    def training_step(self, data, batch_idx):\n",
    "        return self.step(data, batch_idx, \"train_loss\")\n",
    "\n",
    "    def validation_step(self, data, batch_idx):\n",
    "        self.step(data, batch_idx, \"val_loss\")\n",
    "\n",
    "    def configure_optimizers(self):\n",
    "        optimizer = torch.optim.Adam(self.parameters(), lr=1e-2)\n",
    "        lr_scheduler = torch.optim.lr_scheduler.ReduceLROnPlateau(optimizer, patience=3, verbose=True)\n",
    "        scheduler = {\n",
    "            'scheduler': lr_scheduler,\n",
    "            'reduce_on_plateau': True,\n",
    "            'monitor': 'val_loss'\n",
    "        }\n",
    "        return [optimizer], [scheduler]"
   ]
  },
  {
   "cell_type": "code",
   "execution_count": 26,
   "metadata": {
    "id": "sM4N88YKKwxE"
   },
   "outputs": [
    {
     "name": "stderr",
     "output_type": "stream",
     "text": [
      "GPU available: True (mps), used: False\n",
      "TPU available: False, using: 0 TPU cores\n",
      "HPU available: False, using: 0 HPUs\n",
      "/Users/sergey.malyshev/projects/edu/2025-itmo-recsys/itmo_recsys_2025/lib/python3.8/site-packages/pytorch_lightning/trainer/setup.py:177: GPU available but not used. You can set it by doing `Trainer(accelerator='gpu')`.\n"
     ]
    }
   ],
   "source": [
    "# Опрделяем модель\n",
    "model = GraphCollaborativeModel(all_interactions, NUM_NODES, 128, 4)\n",
    "\n",
    "# Определяем все нужные нам хуки\n",
    "checkpoint = pl.callbacks.ModelCheckpoint(monitor='val_loss', save_top_k=1)\n",
    "metric_tracker = MetricTrackerHook()\n",
    "dataset_reloader_train = DatasetReloaderHook(music_dataset_train)\n",
    "dataset_reloader_val = DatasetReloaderHook(music_dataset_val)\n",
    "\n",
    "# Запускаем обучатор PytorchLightning\n",
    "trainer = pl.Trainer(\n",
    "    accelerator='cpu',\n",
    "    devices=1,\n",
    "    max_epochs=10,\n",
    "    callbacks=[\n",
    "        checkpoint,\n",
    "        metric_tracker,\n",
    "        dataset_reloader_train,\n",
    "        dataset_reloader_val\n",
    "    ],\n",
    "    enable_progress_bar=True,\n",
    ")"
   ]
  },
  {
   "cell_type": "code",
   "execution_count": 27,
   "metadata": {
    "id": "rolUmW5Rt0fw"
   },
   "outputs": [],
   "source": [
    "# %load_ext tensorboard\n",
    "# #%reload_ext tensorboard\n",
    "# %tensorboard --logdir /content/lightning_logs --host localhost"
   ]
  },
  {
   "cell_type": "code",
   "execution_count": 28,
   "metadata": {
    "id": "SjDWOMzMuBwk"
   },
   "outputs": [
    {
     "name": "stderr",
     "output_type": "stream",
     "text": [
      "/Users/sergey.malyshev/projects/edu/2025-itmo-recsys/itmo_recsys_2025/lib/python3.8/site-packages/torch/optim/lr_scheduler.py:60: UserWarning: The verbose parameter is deprecated. Please use get_last_lr() to access the learning rate.\n",
      "  warnings.warn(\n",
      "\n",
      "  | Name | Type     | Params | Mode \n",
      "------------------------------------------\n",
      "0 | gnn  | LightGCN | 2.7 M  | train\n",
      "------------------------------------------\n",
      "2.7 M     Trainable params\n",
      "0         Non-trainable params\n",
      "2.7 M     Total params\n",
      "10.863    Total estimated model params size (MB)\n",
      "11        Modules in train mode\n",
      "0         Modules in eval mode\n"
     ]
    },
    {
     "data": {
      "application/vnd.jupyter.widget-view+json": {
       "model_id": "",
       "version_major": 2,
       "version_minor": 0
      },
      "text/plain": [
       "Sanity Checking: |                                                                                            …"
      ]
     },
     "metadata": {},
     "output_type": "display_data"
    },
    {
     "name": "stderr",
     "output_type": "stream",
     "text": [
      "/Users/sergey.malyshev/projects/edu/2025-itmo-recsys/itmo_recsys_2025/lib/python3.8/site-packages/pytorch_lightning/trainer/connectors/data_connector.py:424: The 'val_dataloader' does not have many workers which may be a bottleneck. Consider increasing the value of the `num_workers` argument` to `num_workers=11` in the `DataLoader` to improve performance.\n",
      "/Users/sergey.malyshev/projects/edu/2025-itmo-recsys/itmo_recsys_2025/lib/python3.8/site-packages/pytorch_lightning/trainer/connectors/data_connector.py:424: The 'train_dataloader' does not have many workers which may be a bottleneck. Consider increasing the value of the `num_workers` argument` to `num_workers=11` in the `DataLoader` to improve performance.\n",
      "/Users/sergey.malyshev/projects/edu/2025-itmo-recsys/itmo_recsys_2025/lib/python3.8/site-packages/pytorch_lightning/loops/fit_loop.py:298: The number of training batches (29) is smaller than the logging interval Trainer(log_every_n_steps=50). Set a lower value for log_every_n_steps if you want to see logs for the training epoch.\n"
     ]
    },
    {
     "data": {
      "application/vnd.jupyter.widget-view+json": {
       "model_id": "7fbfa4f4047149c4a4e095f979644197",
       "version_major": 2,
       "version_minor": 0
      },
      "text/plain": [
       "Training: |                                                                                                   …"
      ]
     },
     "metadata": {},
     "output_type": "display_data"
    },
    {
     "data": {
      "application/vnd.jupyter.widget-view+json": {
       "model_id": "",
       "version_major": 2,
       "version_minor": 0
      },
      "text/plain": [
       "Validation: |                                                                                                 …"
      ]
     },
     "metadata": {},
     "output_type": "display_data"
    },
    {
     "data": {
      "application/vnd.jupyter.widget-view+json": {
       "model_id": "",
       "version_major": 2,
       "version_minor": 0
      },
      "text/plain": [
       "Validation: |                                                                                                 …"
      ]
     },
     "metadata": {},
     "output_type": "display_data"
    },
    {
     "data": {
      "application/vnd.jupyter.widget-view+json": {
       "model_id": "",
       "version_major": 2,
       "version_minor": 0
      },
      "text/plain": [
       "Validation: |                                                                                                 …"
      ]
     },
     "metadata": {},
     "output_type": "display_data"
    },
    {
     "data": {
      "application/vnd.jupyter.widget-view+json": {
       "model_id": "",
       "version_major": 2,
       "version_minor": 0
      },
      "text/plain": [
       "Validation: |                                                                                                 …"
      ]
     },
     "metadata": {},
     "output_type": "display_data"
    },
    {
     "data": {
      "application/vnd.jupyter.widget-view+json": {
       "model_id": "",
       "version_major": 2,
       "version_minor": 0
      },
      "text/plain": [
       "Validation: |                                                                                                 …"
      ]
     },
     "metadata": {},
     "output_type": "display_data"
    },
    {
     "data": {
      "application/vnd.jupyter.widget-view+json": {
       "model_id": "",
       "version_major": 2,
       "version_minor": 0
      },
      "text/plain": [
       "Validation: |                                                                                                 …"
      ]
     },
     "metadata": {},
     "output_type": "display_data"
    },
    {
     "data": {
      "application/vnd.jupyter.widget-view+json": {
       "model_id": "",
       "version_major": 2,
       "version_minor": 0
      },
      "text/plain": [
       "Validation: |                                                                                                 …"
      ]
     },
     "metadata": {},
     "output_type": "display_data"
    },
    {
     "data": {
      "application/vnd.jupyter.widget-view+json": {
       "model_id": "",
       "version_major": 2,
       "version_minor": 0
      },
      "text/plain": [
       "Validation: |                                                                                                 …"
      ]
     },
     "metadata": {},
     "output_type": "display_data"
    },
    {
     "data": {
      "application/vnd.jupyter.widget-view+json": {
       "model_id": "",
       "version_major": 2,
       "version_minor": 0
      },
      "text/plain": [
       "Validation: |                                                                                                 …"
      ]
     },
     "metadata": {},
     "output_type": "display_data"
    },
    {
     "data": {
      "application/vnd.jupyter.widget-view+json": {
       "model_id": "",
       "version_major": 2,
       "version_minor": 0
      },
      "text/plain": [
       "Validation: |                                                                                                 …"
      ]
     },
     "metadata": {},
     "output_type": "display_data"
    },
    {
     "name": "stderr",
     "output_type": "stream",
     "text": [
      "`Trainer.fit` stopped: `max_epochs=10` reached.\n"
     ]
    }
   ],
   "source": [
    "trainer.fit(model, music_dataloader_train, music_dataloader_val)"
   ]
  },
  {
   "cell_type": "code",
   "execution_count": 29,
   "metadata": {
    "id": "JzD6GtW8_7sH"
   },
   "outputs": [
    {
     "data": {
      "image/png": "[encoded data removed]",
      "text/plain": [
       "<Figure size 640x480 with 1 Axes>"
      ]
     },
     "metadata": {},
     "output_type": "display_data"
    }
   ],
   "source": [
    "ax = sns.lineplot(metric_tracker.collection['train_loss'], label='Train Loss', legend=True)\n",
    "sns.lineplot(metric_tracker.collection['val_loss'], label='Val Loss', legend=True)\n",
    "\n",
    "ax.set_title(\"Train/Validation Loss\")\n",
    "ax.set_xlabel(\"Epoch\")\n",
    "ax.set_ylabel(\"Loss\")\n",
    "pass"
   ]
  },
  {
   "cell_type": "code",
   "execution_count": 30,
   "metadata": {
    "id": "y3c9XGcaxXVj"
   },
   "outputs": [
    {
     "data": {
      "text/plain": [
       "'/Users/sergey.malyshev/projects/edu/2025-itmo-recsys//lightgcn.ckpt'"
      ]
     },
     "execution_count": 30,
     "metadata": {},
     "output_type": "execute_result"
    }
   ],
   "source": [
    "shutil.copy(checkpoint.best_model_path, f\"{DATA_DIR}/lightgcn.ckpt\")"
   ]
  },
  {
   "cell_type": "markdown",
   "metadata": {
    "id": "e9KLR1xRHRoJ"
   },
   "source": [
    "# Инференс"
   ]
  },
  {
   "cell_type": "code",
   "execution_count": 32,
   "metadata": {
    "id": "PPI0emm0Caa4"
   },
   "outputs": [],
   "source": [
    "final_model = GraphCollaborativeModel.load_from_checkpoint(\n",
    "    f\"{DATA_DIR}/lightgcn.ckpt\",\n",
    "    all_adjacent_nodes=all_interactions,\n",
    "    num_nodes=NUM_USERS + NUM_TRACKS,\n",
    "    embedding_dim=128,\n",
    "    num_layers=4\n",
    ")"
   ]
  },
  {
   "cell_type": "markdown",
   "metadata": {
    "id": "XMgiF7juPMyk"
   },
   "source": [
    "Получим эмбеддинги пользователей и айтемов. Помним, что в таблице эмбеддингов лежат эмбеддинги нулевого слоя, который нам не интересен. Поэтому вызываем специальный метод, который расчитает финальные эмбеддинги."
   ]
  },
  {
   "cell_type": "code",
   "execution_count": 33,
   "metadata": {
    "id": "v0yYEgh1Z8rZ"
   },
   "outputs": [],
   "source": [
    "all_embeddings = final_model.gnn.get_embedding(all_interactions.to('cpu'))\n",
    "\n",
    "user_embeddings = all_embeddings[:NUM_USERS].detach().cpu().numpy().astype('float32')\n",
    "item_embeddings = all_embeddings[NUM_USERS:].detach().cpu().numpy().astype('float32')"
   ]
  },
  {
   "cell_type": "code",
   "execution_count": 35,
   "metadata": {},
   "outputs": [
    {
     "data": {
      "text/plain": [
       "torch.Size([21216, 128])"
      ]
     },
     "execution_count": 35,
     "metadata": {},
     "output_type": "execute_result"
    }
   ],
   "source": [
    "all_embeddings.shape"
   ]
  },
  {
   "cell_type": "code",
   "execution_count": 36,
   "metadata": {},
   "outputs": [
    {
     "data": {
      "text/plain": [
       "(9988, 128)"
      ]
     },
     "execution_count": 36,
     "metadata": {},
     "output_type": "execute_result"
    }
   ],
   "source": [
    "user_embeddings.shape"
   ]
  },
  {
   "cell_type": "code",
   "execution_count": 37,
   "metadata": {},
   "outputs": [
    {
     "data": {
      "text/plain": [
       "(11228, 128)"
      ]
     },
     "execution_count": 37,
     "metadata": {},
     "output_type": "execute_result"
    }
   ],
   "source": [
    "item_embeddings.shape"
   ]
  },
  {
   "cell_type": "code",
   "execution_count": 38,
   "metadata": {
    "id": "RPHrE4LWnE09"
   },
   "outputs": [],
   "source": [
    "assert user_embeddings.shape[0] == NUM_USERS\n",
    "assert item_embeddings.shape[0] == NUM_TRACKS"
   ]
  },
  {
   "cell_type": "markdown",
   "metadata": {
    "id": "dMx4Iv-xYmr6"
   },
   "source": [
    "Получим рекомендации для пользователей."
   ]
  },
  {
   "cell_type": "code",
   "execution_count": 39,
   "metadata": {
    "id": "ynr9GJxVY0DR"
   },
   "outputs": [],
   "source": [
    "NUM_RECOMMENDATIONS = 50\n",
    "\n",
    "# gpu_res = faiss.StandardGpuResources()\n",
    "# index_flat = faiss.index_factory(item_embeddings.shape[1], \"Flat\", faiss.METRIC_INNER_PRODUCT)\n",
    "\n",
    "# index = faiss.index_cpu_to_gpu(gpu_res, 0, index_flat)\n",
    "# index.add(item_embeddings)\n",
    "\n",
    "# scores, recommendations = index.search(user_embeddings, NUM_RECOMMENDATIONS)\n",
    "\n",
    "# recommendations"
   ]
  },
  {
   "cell_type": "code",
   "execution_count": 40,
   "metadata": {},
   "outputs": [],
   "source": [
    "index_flat = faiss.index_factory(item_embeddings.shape[1], \"Flat\", faiss.METRIC_INNER_PRODUCT)"
   ]
  },
  {
   "cell_type": "code",
   "execution_count": 41,
   "metadata": {},
   "outputs": [],
   "source": [
    "index_flat.add(item_embeddings)"
   ]
  },
  {
   "cell_type": "code",
   "execution_count": 42,
   "metadata": {},
   "outputs": [],
   "source": [
    "# scores, recommendations = index_flat.search(user_embeddings[:1], NUM_RECOMMENDATIONS)"
   ]
  },
  {
   "cell_type": "code",
   "execution_count": 44,
   "metadata": {},
   "outputs": [],
   "source": [
    "# scores.shape"
   ]
  },
  {
   "cell_type": "code",
   "execution_count": 45,
   "metadata": {},
   "outputs": [],
   "source": [
    "# scores"
   ]
  },
  {
   "cell_type": "code",
   "execution_count": 46,
   "metadata": {},
   "outputs": [],
   "source": [
    "# recommendations"
   ]
  },
  {
   "cell_type": "code",
   "execution_count": 47,
   "metadata": {},
   "outputs": [],
   "source": [
    "# recommendations.shape"
   ]
  },
  {
   "cell_type": "code",
   "execution_count": 48,
   "metadata": {},
   "outputs": [],
   "source": [
    "# user_ids.shape"
   ]
  },
  {
   "cell_type": "code",
   "execution_count": 49,
   "metadata": {},
   "outputs": [],
   "source": [
    "# user_embeddings.astype('float32')[np.newaxis, :][0]"
   ]
  },
  {
   "cell_type": "code",
   "execution_count": 50,
   "metadata": {},
   "outputs": [],
   "source": [
    "from tqdm import tqdm"
   ]
  },
  {
   "cell_type": "code",
   "execution_count": 51,
   "metadata": {},
   "outputs": [
    {
     "name": "stderr",
     "output_type": "stream",
     "text": [
      "100%|███████████████████████████████████████████████████████████████████████████████████████████████████████████████████████████████████████████████████████████████████████████| 9988/9988 [00:01<00:00, 8877.21it/s]\n"
     ]
    }
   ],
   "source": [
    "scores, recommendations = [], []\n",
    "for user, user_emb in tqdm(zip(user_ids, user_embeddings), total=len(user_ids)):\n",
    "    score, recs = index_flat.search(user_emb.astype('float32')[np.newaxis, :], NUM_RECOMMENDATIONS)\n",
    "    scores.append(score[0])\n",
    "    recommendations.append(recs[0])"
   ]
  },
  {
   "cell_type": "code",
   "execution_count": 52,
   "metadata": {},
   "outputs": [
    {
     "data": {
      "text/plain": [
       "(9988, 50)"
      ]
     },
     "execution_count": 52,
     "metadata": {},
     "output_type": "execute_result"
    }
   ],
   "source": [
    "np.array(recommendations).shape"
   ]
  },
  {
   "cell_type": "code",
   "execution_count": 54,
   "metadata": {},
   "outputs": [
    {
     "data": {
      "text/plain": [
       "array([ 9578, 10748,  7088,  5997,  9286,  5937, 10706, 10117,  2424,\n",
       "       10496, 10758,  4932,  6109,  3801, 10489,  7191,  7087,  8984,\n",
       "         585,  5938,  2422,  9631,   719,  3214,  8779,  9070, 10589,\n",
       "         581,  9176, 10881,  5073,  9288,  3021,  9355,  9017, 10495,\n",
       "        4708,  9725,   703,  4595, 10590,  9657,  7316,   584,  1133,\n",
       "        3464,  8490,  8653,  1063,  8069])"
      ]
     },
     "execution_count": 54,
     "metadata": {},
     "output_type": "execute_result"
    }
   ],
   "source": [
    "recommendations[0]"
   ]
  },
  {
   "cell_type": "code",
   "execution_count": 40,
   "metadata": {},
   "outputs": [],
   "source": [
    "# scores, recommendations = index_flat.search(user_embeddings, NUM_RECOMMENDATIONS)"
   ]
  },
  {
   "cell_type": "code",
   "execution_count": 41,
   "metadata": {},
   "outputs": [
    {
     "data": {
      "text/plain": [
       "'/Users/sergey.malyshev/projects/edu/2025-itmo-recsys/'"
      ]
     },
     "execution_count": 41,
     "metadata": {},
     "output_type": "execute_result"
    }
   ],
   "source": [
    "DATA_DIR"
   ]
  },
  {
   "cell_type": "code",
   "execution_count": 55,
   "metadata": {
    "id": "sMb07h3qbM1d"
   },
   "outputs": [
    {
     "name": "stderr",
     "output_type": "stream",
     "text": [
      "9988it [00:00, 121699.41it/s]\n"
     ]
    }
   ],
   "source": [
    "with open(DATA_DIR + \"/recommendations_gcf.json\", \"w\") as rf:\n",
    "    for user, recs in tqdm(enumerate(recommendations)):\n",
    "      rec_user_id = user_ids[user].item()\n",
    "      rec_track_ids = (track_ids[recs]).tolist()\n",
    "\n",
    "      recommendation = {\n",
    "            \"user\": rec_user_id,\n",
    "            \"tracks\": rec_track_ids\n",
    "        }\n",
    "\n",
    "      rf.write(json.dumps(recommendation) + \"\\n\")"
   ]
  },
  {
   "cell_type": "code",
   "execution_count": 61,
   "metadata": {
    "id": "OeO7Kk9h9HX6"
   },
   "outputs": [],
   "source": [
    "# track_meta = pd.read_json(f\"../botify/data/tracks.json\", lines=True)"
   ]
  },
  {
   "cell_type": "code",
   "execution_count": 66,
   "metadata": {
    "id": "ffkO2N3euOY2"
   },
   "outputs": [],
   "source": [
    "# writer = tb.SummaryWriter(comment='nn_embeddings', log_dir=f\"{DATA_DIR}tb_gcf\")\n",
    "# writer.add_embedding(item_embeddings, metadata=list(track_meta.iloc[track_ids][[\"artist\", \"title\"]].itertuples(index=False, name=None)), tag=\"nn\", metadata_header=[\"artist\", \"title\"])\n",
    "# writer.close()"
   ]
  },
  {
   "cell_type": "code",
   "execution_count": 67,
   "metadata": {
    "id": "bAvI30sp0G_O"
   },
   "outputs": [
    {
     "data": {
      "text/plain": [
       "'/Users/sergey.malyshev/projects/edu/2025-itmo-recsys/tb_gcf'"
      ]
     },
     "execution_count": 67,
     "metadata": {},
     "output_type": "execute_result"
    }
   ],
   "source": [
    "# f\"{DATA_DIR}tb_gcf\""
   ]
  },
  {
   "cell_type": "code",
   "execution_count": null,
   "metadata": {},
   "outputs": [],
   "source": []
  }
 ],
 "metadata": {
  "accelerator": "GPU",
  "colab": {
   "gpuType": "T4",
   "provenance": []
  },
  "kernelspec": {
   "display_name": "2025-itmo-recsys",
   "language": "python",
   "name": "2025-itmo-recsys"
  },
  "language_info": {
   "codemirror_mode": {
    "name": "ipython",
    "version": 3
   },
   "file_extension": ".py",
   "mimetype": "text/x-python",
   "name": "python",
   "nbconvert_exporter": "python",
   "pygments_lexer": "ipython3",
   "version": "3.8.16"
  }
 },
 "nbformat": 4,
 "nbformat_minor": 4
}
